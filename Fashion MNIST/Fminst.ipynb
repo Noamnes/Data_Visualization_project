{
 "cells": [
  {
   "cell_type": "markdown",
   "id": "029914b3-c3ac-40ef-802a-2f1bab484355",
   "metadata": {
    "jp-MarkdownHeadingCollapsed": true,
    "tags": []
   },
   "source": [
    "## imports"
   ]
  },
  {
   "cell_type": "code",
   "execution_count": 20,
   "id": "6b6cddf5-b6e8-4426-98d5-270958b481c8",
   "metadata": {
    "tags": []
   },
   "outputs": [],
   "source": [
    "import numpy as np\n",
    "import pandas as pd\n",
    "import sklearn \n",
    "import matplotlib.pyplot as plt\n",
    "from sklearn.neighbors import KNeighborsClassifier\n",
    "from sklearn.model_selection import GridSearchCV\n",
    "from sklearn.model_selection import train_test_split\n",
    "from sklearn.metrics import mean_squared_error\n",
    "from sklearn.metrics import accuracy_score\n",
    "from sklearn.linear_model import LogisticRegression\n",
    "from sklearn.ensemble import RandomForestClassifier, GradientBoostingClassifier, StackingClassifier  \n",
    "from xgboost import XGBClassifier  \n",
    "import pickle\n",
    "from sklearn.metrics import classification_report, accuracy_score, confusion_matrix \n",
    "from sklearn.model_selection import RandomizedSearchCV"
   ]
  },
  {
   "cell_type": "markdown",
   "id": "98832553-dd54-450f-818a-2f62f56235da",
   "metadata": {
    "jp-MarkdownHeadingCollapsed": true,
    "tags": [],
    "toc-hr-collapsed": true
   },
   "source": [
    "## AID FUNCTIONS:"
   ]
  },
  {
   "cell_type": "code",
   "execution_count": 21,
   "id": "7c7bf559",
   "metadata": {
    "tags": []
   },
   "outputs": [],
   "source": [
    "def to_exp_var(ndarr):\n",
    "    sum = 0\n",
    "    for x in ndarr:\n",
    "        sum +=x\n",
    "    return sum"
   ]
  },
  {
   "cell_type": "markdown",
   "id": "061c856e",
   "metadata": {
    "jp-MarkdownHeadingCollapsed": true,
    "tags": []
   },
   "source": [
    "## viewing the data and making models :"
   ]
  },
  {
   "cell_type": "code",
   "execution_count": 22,
   "id": "cfdd0d8a-a1a6-4add-9388-c3ddc39503e5",
   "metadata": {
    "tags": []
   },
   "outputs": [],
   "source": [
    "train_df = pd.read_csv(\"fashion-mnist_train.csv\") ## takes less then 10 sec's\n",
    "test_df = pd.read_csv(\"fashion-mnist_test.csv\")"
   ]
  },
  {
   "cell_type": "markdown",
   "id": "2260ce58-d0a9-46ff-9991-e07c033e3d23",
   "metadata": {
    "jp-MarkdownHeadingCollapsed": true,
    "tags": []
   },
   "source": [
    "### viewing the data: "
   ]
  },
  {
   "cell_type": "code",
   "execution_count": 24,
   "id": "f6a972b9-98fd-44ac-87c5-88f9a19f4ec6",
   "metadata": {
    "tags": []
   },
   "outputs": [
    {
     "data": {
      "text/plain": [
       "label\n",
       "0    1000\n",
       "1    1000\n",
       "2    1000\n",
       "3    1000\n",
       "4    1000\n",
       "5    1000\n",
       "6    1000\n",
       "7    1000\n",
       "8    1000\n",
       "9    1000\n",
       "Name: pixel1, dtype: int64"
      ]
     },
     "execution_count": 24,
     "metadata": {},
     "output_type": "execute_result"
    }
   ],
   "source": [
    "train_df.shape ## showing the data's shape\n",
    "test_df.shape  ##\n",
    "train_df.columns  ## columns\n",
    "train_df.head()\n",
    "train_df.isnull().sum().unique() ## checking if there is null values\n",
    "test_df.isnull().sum().unique()  ##\n",
    "train_df.groupby(\"label\").count()[\"pixel1\"] ## or write: \"train.label.value_counts()\"\n",
    "test_df.groupby(\"label\").count()[\"pixel1\"]  ## or write: \"test.label.value_counts()\""
   ]
  },
  {
   "cell_type": "code",
   "execution_count": 25,
   "id": "d6ea148e-ad23-48d2-bd2a-80b003f91902",
   "metadata": {},
   "outputs": [],
   "source": [
    "X_train = train_df.drop(columns=[\"label\"])\n",
    "X_test = test_df.drop(columns=[\"label\"])"
   ]
  },
  {
   "cell_type": "code",
   "execution_count": 26,
   "id": "36c3294e-517e-4ec7-ae84-461e3491b69f",
   "metadata": {},
   "outputs": [
    {
     "name": "stdout",
     "output_type": "stream",
     "text": [
      "(60000, 784)\n",
      "(10000, 784)\n"
     ]
    }
   ],
   "source": [
    "## for visualiztion we need to turn the train and test samples to a\n",
    "## 2D numpy arrays which plt can plot. so we'll start off by turning\n",
    "## the X_train to a numpy array:\n",
    "arr_train = X_train.values\n",
    "arr_test = X_test.values\n",
    "print(arr_train.shape)\n",
    "print(arr_test.shape)"
   ]
  },
  {
   "cell_type": "code",
   "execution_count": 27,
   "id": "13c98b02-704d-4fed-9dfe-abb30af7ec88",
   "metadata": {},
   "outputs": [
    {
     "name": "stdout",
     "output_type": "stream",
     "text": [
      "(60000, 28, 28)\n",
      "(10000, 28, 28)\n"
     ]
    }
   ],
   "source": [
    "## we can see we managed to turn the X_train to a numpy array but we\n",
    "## want the array to be 2D to represent an image in a way that plt\n",
    "## can handle, so we'll use reshape (on train and test this time):\n",
    "\n",
    "img_train = arr_train.reshape(60000, 28, 28)  # -> rescale also using /255.0, as we want our values to range from 0 to 1 \n",
    "img_test = arr_test.reshape(10000, 28, 28)\n",
    "print(img_train.shape)\n",
    "print(img_test.shape)"
   ]
  },
  {
   "cell_type": "code",
   "execution_count": 28,
   "id": "5f088a8b-bfd9-440b-92b1-2276ef6d93aa",
   "metadata": {
    "colab": {
     "base_uri": "https://localhost:8080/",
     "height": 268
    },
    "executionInfo": {
     "elapsed": 552,
     "status": "ok",
     "timestamp": 1655139156838,
     "user": {
      "displayName": "MIRAN KADRI",
      "userId": "00153667693553889793"
     },
     "user_tz": -330
    },
    "id": "1e73d99d",
    "outputId": "bbbfdccc-9028-4b28-d87f-c64f85cb3a0b"
   },
   "outputs": [
    {
     "data": {
      "image/png": "[encoded data removed]",
      "text/plain": [
       "<Figure size 432x288 with 4 Axes>"
      ]
     },
     "metadata": {
      "needs_background": "light"
     },
     "output_type": "display_data"
    }
   ],
   "source": [
    "## now we'll plot some of the samples from the train set:\n",
    "plt.figure(1) # this is used to make several diffrent grafs in the same cell\n",
    "plt.subplot(2,2,1) # first plot to a 2x2 table\n",
    "plt.imshow(img_train[11][:,:]) # show that we are taking all the elements form the given matrix \n",
    "\n",
    "plt.subplot(2,2,2)\n",
    "plt.imshow(img_train[233][:,:])\n",
    "\n",
    "plt.subplot(2,2,3)\n",
    "plt.imshow(img_train[774][:,:])\n",
    "\n",
    "plt.subplot(2,2,4)\n",
    "plt.imshow(img_train[2000][:,:])\n",
    "plt.show()"
   ]
  },
  {
   "cell_type": "code",
   "execution_count": 29,
   "id": "56c5c3ef-bbc5-44c0-a68b-5a3a362d52d2",
   "metadata": {
    "colab": {
     "base_uri": "https://localhost:8080/",
     "height": 268
    },
    "executionInfo": {
     "elapsed": 1138,
     "status": "ok",
     "timestamp": 1655139160981,
     "user": {
      "displayName": "MIRAN KADRI",
      "userId": "00153667693553889793"
     },
     "user_tz": -330
    },
    "id": "e7216a02",
    "outputId": "360e25a9-9727-44d9-e70a-963955a55f87"
   },
   "outputs": [
    {
     "data": {
      "text/plain": [
       "<function matplotlib.pyplot.show(close=None, block=None)>"
      ]
     },
     "execution_count": 29,
     "metadata": {},
     "output_type": "execute_result"
    },
    {
     "data": {
      "image/png": "[encoded data removed]",
      "text/plain": [
       "<Figure size 432x288 with 4 Axes>"
      ]
     },
     "metadata": {
      "needs_background": "light"
     },
     "output_type": "display_data"
    }
   ],
   "source": [
    "# now we'll plot some imgs from the test dataset:\n",
    "\n",
    "plt.figure(1)\n",
    "plt.subplot(2,2,1)\n",
    "plt.imshow(img_test[11][:,:])\n",
    "\n",
    "plt.subplot(2,2,2)\n",
    "plt.imshow(img_test[233][:,:])\n",
    "\n",
    "plt.subplot(2,2,3)\n",
    "plt.imshow(img_test[774][:,:])\n",
    "\n",
    "plt.subplot(2,2,4)\n",
    "plt.imshow(img_test[2000][:,:])\n",
    "\n",
    "plt.show"
   ]
  },
  {
   "cell_type": "markdown",
   "id": "570ab6bc-b61c-4a48-8213-04a6008b2f02",
   "metadata": {
    "id": "147ab20d"
   },
   "source": [
    "This is a simpel 2 x 2 grid for images, we can increase the size of the grid if we want to. Also, we can add more images to this grid and expand it to let's say 6 x 6 or even 8 x 8, we will just need to change the values in subplot and add more imshow() commands."
   ]
  },
  {
   "cell_type": "markdown",
   "id": "80eac10f-8b16-468d-b0ea-dff2a887ac84",
   "metadata": {
    "jp-MarkdownHeadingCollapsed": true,
    "tags": []
   },
   "source": [
    "### training the data and getting scores"
   ]
  },
  {
   "cell_type": "code",
   "execution_count": 30,
   "id": "62f0256c-d953-4cc4-9080-466601e1c5a3",
   "metadata": {
    "tags": []
   },
   "outputs": [],
   "source": [
    "## spliting to target and features:\n",
    "X_train = train_df.iloc[:,1:]\n",
    "y_train = train_df.iloc[:,0]\n",
    "X_test = test_df.iloc[:,1:]\n",
    "y_test = test_df.iloc[:,0]"
   ]
  },
  {
   "cell_type": "code",
   "execution_count": 31,
   "id": "92e39bcb-e6d4-45db-9726-47c5a78b9348",
   "metadata": {
    "tags": []
   },
   "outputs": [
    {
     "name": "stdout",
     "output_type": "stream",
     "text": [
      "(60000, 784)\n",
      "(60000,)\n",
      "(10000, 784)\n",
      "(10000,)\n"
     ]
    }
   ],
   "source": [
    "print(X_train.shape)\n",
    "print(y_train.shape)\n",
    "print(X_test.shape)\n",
    "print(y_test.shape)"
   ]
  },
  {
   "cell_type": "markdown",
   "id": "43fdb9ca-381e-4e2f-a983-ba222505bc7c",
   "metadata": {
    "jp-MarkdownHeadingCollapsed": true,
    "tags": []
   },
   "source": [
    "#### dimention reduction to the fetures using PCA "
   ]
  },
  {
   "cell_type": "code",
   "execution_count": 32,
   "id": "ffb7f2d6-5e22-48e7-bff3-2209dc1ac1b8",
   "metadata": {},
   "outputs": [],
   "source": [
    "## we are using pca to test it's effectivness and to shorten the runing time\n",
    "## scaling the data for the pca\n",
    "from sklearn.preprocessing import StandardScaler\n",
    "scaler = StandardScaler()\n",
    "\n",
    "## fit the scaler on train only\n",
    "scaler.fit(X_train)\n",
    "\n",
    "# apply transform to *train and test* only for features:\n",
    "X_train_sca = scaler.transform(X_train) ## now the scaling is happening\n",
    "X_test_sca = scaler.transform(X_test)"
   ]
  },
  {
   "cell_type": "code",
   "execution_count": 33,
   "id": "189f2d2e-de97-4505-aec5-d5f959bb61c6",
   "metadata": {},
   "outputs": [
    {
     "data": {
      "text/plain": [
       "0.9298427557530524"
      ]
     },
     "execution_count": 33,
     "metadata": {},
     "output_type": "execute_result"
    }
   ],
   "source": [
    "from sklearn.decomposition import PCA\n",
    "pca = PCA(196) ## we wanted to take 1/4 of the data: 196 = 1/4*784\n",
    "pca.fit(X_train_sca)\n",
    "to_exp_var(pca.explained_variance_ratio_)"
   ]
  },
  {
   "cell_type": "code",
   "execution_count": 34,
   "id": "f241acc3-b7d9-48f2-ada7-f25df541b48a",
   "metadata": {},
   "outputs": [],
   "source": [
    "## making the pca features of the train and test.\n",
    "X_train_pca = pca.transform(X_train_sca) \n",
    "X_test_pca = pca.transform(X_test_sca)"
   ]
  },
  {
   "cell_type": "code",
   "execution_count": 35,
   "id": "f57921bf-3c7e-422d-ad2c-79c96450c00f",
   "metadata": {},
   "outputs": [
    {
     "name": "stdout",
     "output_type": "stream",
     "text": [
      "(60000, 196)\n",
      "(10000, 196)\n"
     ]
    }
   ],
   "source": [
    "print(X_train_pca.shape)\n",
    "print(X_test_pca.shape)"
   ]
  },
  {
   "cell_type": "code",
   "execution_count": null,
   "id": "6db17375-2df0-4a45-b609-4667708e6d92",
   "metadata": {},
   "outputs": [],
   "source": [
    "## we'll use the pca later for training"
   ]
  },
  {
   "cell_type": "markdown",
   "id": "10735f5a-af83-4074-9791-8007d92694d5",
   "metadata": {
    "jp-MarkdownHeadingCollapsed": true,
    "tags": []
   },
   "source": [
    "#### classic logistic regretion"
   ]
  },
  {
   "cell_type": "code",
   "execution_count": 129,
   "id": "de06c8b5-1710-4df2-9d11-62199cf91925",
   "metadata": {},
   "outputs": [
    {
     "name": "stdout",
     "output_type": "stream",
     "text": [
      "              precision    recall  f1-score   support\n",
      "\n",
      "           0       0.81      0.82      0.81      1000\n",
      "           1       0.95      0.98      0.96      1000\n",
      "           2       0.77      0.76      0.77      1000\n",
      "           3       0.88      0.87      0.87      1000\n",
      "           4       0.75      0.82      0.79      1000\n",
      "           5       0.95      0.88      0.91      1000\n",
      "           6       0.68      0.58      0.63      1000\n",
      "           7       0.90      0.93      0.92      1000\n",
      "           8       0.93      0.95      0.94      1000\n",
      "           9       0.92      0.95      0.93      1000\n",
      "\n",
      "    accuracy                           0.85     10000\n",
      "   macro avg       0.85      0.85      0.85     10000\n",
      "weighted avg       0.85      0.85      0.85     10000\n",
      "\n"
     ]
    }
   ],
   "source": [
    "logreg = LogisticRegression()\n",
    "## fitting the data:\n",
    "logreg.fit(X_train,y_train) ## takes up to 7 secs\n",
    "## making predictions:\n",
    "log_pred = logreg.predict(X_test)\n",
    "## printing the score:\n",
    "print(classification_report(y_test,log_pred))"
   ]
  },
  {
   "cell_type": "code",
   "execution_count": null,
   "id": "0c100430-f6ab-4d38-8465-590e55a38cb1",
   "metadata": {},
   "outputs": [],
   "source": [
    "## let's check if KNN have better results then log reg."
   ]
  },
  {
   "cell_type": "markdown",
   "id": "b9d5fea1-8270-4375-8c66-d26caeb3ec2b",
   "metadata": {
    "jp-MarkdownHeadingCollapsed": true,
    "tags": []
   },
   "source": [
    "#### KNN"
   ]
  },
  {
   "cell_type": "code",
   "execution_count": null,
   "id": "eb78813b-9d12-4be6-a31b-0c0197f8dc25",
   "metadata": {},
   "outputs": [],
   "source": [
    "## note that we didn't scaled the fetures for the knn, that's beacuase all of the values repressent the same thing:\n",
    "## the power of light in a pixel."
   ]
  },
  {
   "cell_type": "markdown",
   "id": "7f7879e3-f9c8-47e3-8b37-ff3a85df5337",
   "metadata": {
    "jp-MarkdownHeadingCollapsed": true,
    "tags": []
   },
   "source": [
    "##### classic Knn"
   ]
  },
  {
   "cell_type": "markdown",
   "id": "adb08432-5676-4d74-91c4-5d086f2d926e",
   "metadata": {
    "jp-MarkdownHeadingCollapsed": true,
    "tags": []
   },
   "source": [
    "###### classic Knn without PCA"
   ]
  },
  {
   "cell_type": "code",
   "execution_count": 300,
   "id": "01193ebd-2e23-48c1-bac1-a78304ccbaff",
   "metadata": {
    "tags": []
   },
   "outputs": [
    {
     "name": "stdout",
     "output_type": "stream",
     "text": [
      "              precision    recall  f1-score   support\n",
      "\n",
      "           0       0.77      0.87      0.82      1000\n",
      "           1       0.99      0.96      0.98      1000\n",
      "           2       0.75      0.81      0.78      1000\n",
      "           3       0.91      0.88      0.90      1000\n",
      "           4       0.79      0.80      0.79      1000\n",
      "           5       1.00      0.82      0.90      1000\n",
      "           6       0.68      0.58      0.63      1000\n",
      "           7       0.87      0.94      0.91      1000\n",
      "           8       0.98      0.95      0.97      1000\n",
      "           9       0.88      0.96      0.92      1000\n",
      "\n",
      "    accuracy                           0.86     10000\n",
      "   macro avg       0.86      0.86      0.86     10000\n",
      "weighted avg       0.86      0.86      0.86     10000\n",
      "\n"
     ]
    }
   ],
   "source": [
    "## all this code takes up to 2:05 min\n",
    "knn = KNeighborsClassifier().fit(X_train,y_train) ## immediate!!\n",
    "knn_pred = knn.predict(X_test)\n",
    "print(classification_report(y_test,knn_pred))"
   ]
  },
  {
   "cell_type": "code",
   "execution_count": null,
   "id": "9de3e67c-a6e4-41ca-92c1-6e2721aac9ff",
   "metadata": {},
   "outputs": [],
   "source": [
    "## note that KNN has a little bit better score then log reg, so we'll make more evaluations and tuning on KNN"
   ]
  },
  {
   "cell_type": "markdown",
   "id": "7abdea92-9b00-48de-bfcf-13a7a90ce249",
   "metadata": {
    "jp-MarkdownHeadingCollapsed": true,
    "tags": []
   },
   "source": [
    "###### classic Knn with PCA"
   ]
  },
  {
   "cell_type": "code",
   "execution_count": 110,
   "id": "afb2d474-afc1-4593-92fc-74989987de54",
   "metadata": {},
   "outputs": [
    {
     "name": "stdout",
     "output_type": "stream",
     "text": [
      "              precision    recall  f1-score   support\n",
      "\n",
      "           0       0.78      0.86      0.82      1000\n",
      "           1       0.99      0.97      0.98      1000\n",
      "           2       0.79      0.78      0.79      1000\n",
      "           3       0.90      0.89      0.90      1000\n",
      "           4       0.78      0.82      0.80      1000\n",
      "           5       0.98      0.89      0.93      1000\n",
      "           6       0.70      0.62      0.66      1000\n",
      "           7       0.90      0.94      0.92      1000\n",
      "           8       0.98      0.95      0.97      1000\n",
      "           9       0.91      0.96      0.93      1000\n",
      "\n",
      "    accuracy                           0.87     10000\n",
      "   macro avg       0.87      0.87      0.87     10000\n",
      "weighted avg       0.87      0.87      0.87     10000\n",
      "\n"
     ]
    }
   ],
   "source": [
    "knn = KNeighborsClassifier().fit(X_train_pca,y_train)\n",
    "knn_pred = knn.predict(X_test_pca)\n",
    "print(classification_report(y_test,knn_pred))\n",
    "## note that the pca helped us get a-little-bit-better score, thats probably beacuase the pca\n",
    "## helped the model to generelaied the data form the pixels."
   ]
  },
  {
   "cell_type": "markdown",
   "id": "3a22e1d3-5c64-4314-baad-98ed806f8234",
   "metadata": {
    "jp-MarkdownHeadingCollapsed": true,
    "tags": []
   },
   "source": [
    "##### Knn grid_search "
   ]
  },
  {
   "cell_type": "code",
   "execution_count": null,
   "id": "7071270f-38b2-4c04-976c-449282d23a44",
   "metadata": {},
   "outputs": [],
   "source": [
    "## in this section we want to find the tuned KNN parameters and to see the impact of the pca dimentinal redaction\n",
    "## on the running time of the grid search"
   ]
  },
  {
   "cell_type": "markdown",
   "id": "438ba41b-8b58-4e56-a511-991322bea5c2",
   "metadata": {
    "jp-MarkdownHeadingCollapsed": true,
    "tags": []
   },
   "source": [
    "###### Knn grid_search without PCA"
   ]
  },
  {
   "cell_type": "code",
   "execution_count": 130,
   "id": "e9547673-42ab-486e-bd67-a69993f0d1a6",
   "metadata": {
    "tags": []
   },
   "outputs": [
    {
     "data": {
      "text/plain": [
       "GridSearchCV(cv=6, estimator=KNeighborsClassifier(),\n",
       "             param_grid={'metric': ['minkowski'], 'n_neighbors': [1, 5, 10],\n",
       "                         'weights': ['uniform', 'distance']})"
      ]
     },
     "execution_count": 130,
     "metadata": {},
     "output_type": "execute_result"
    }
   ],
   "source": [
    "        # ****** takes up to 11 mins!!! ******* \n",
    "grid_params = {\n",
    "    \"n_neighbors\": [1,5,10],\n",
    "    \"weights\": [\"uniform\",\"distance\"],\n",
    "    \"metric\" : [\"minkowski\"]\n",
    "}\n",
    "gs = GridSearchCV(KNeighborsClassifier(), grid_params, cv=6) ## immediate!!\n",
    "gs.fit(X_train_sca,y_train) "
   ]
  },
  {
   "cell_type": "code",
   "execution_count": 131,
   "id": "9705c494-a43d-4b8a-9131-9bae7f6d190a",
   "metadata": {
    "tags": []
   },
   "outputs": [
    {
     "name": "stdout",
     "output_type": "stream",
     "text": [
      "best score: 0.8566833333333334\n",
      "best params: {'metric': 'minkowski', 'n_neighbors': 5, 'weights': 'distance'}\n"
     ]
    },
    {
     "data": {
      "text/html": [
       "<div>\n",
       "<style scoped>\n",
       "    .dataframe tbody tr th:only-of-type {\n",
       "        vertical-align: middle;\n",
       "    }\n",
       "\n",
       "    .dataframe tbody tr th {\n",
       "        vertical-align: top;\n",
       "    }\n",
       "\n",
       "    .dataframe thead th {\n",
       "        text-align: right;\n",
       "    }\n",
       "</style>\n",
       "<table border=\"1\" class=\"dataframe\">\n",
       "  <thead>\n",
       "    <tr style=\"text-align: right;\">\n",
       "      <th></th>\n",
       "      <th>mean_test_score</th>\n",
       "      <th>std_test_score</th>\n",
       "      <th>params</th>\n",
       "    </tr>\n",
       "  </thead>\n",
       "  <tbody>\n",
       "    <tr>\n",
       "      <th>0</th>\n",
       "      <td>0.846800</td>\n",
       "      <td>0.002260</td>\n",
       "      <td>{'metric': 'minkowski', 'n_neighbors': 1, 'wei...</td>\n",
       "    </tr>\n",
       "    <tr>\n",
       "      <th>1</th>\n",
       "      <td>0.846800</td>\n",
       "      <td>0.002260</td>\n",
       "      <td>{'metric': 'minkowski', 'n_neighbors': 1, 'wei...</td>\n",
       "    </tr>\n",
       "    <tr>\n",
       "      <th>2</th>\n",
       "      <td>0.854650</td>\n",
       "      <td>0.002558</td>\n",
       "      <td>{'metric': 'minkowski', 'n_neighbors': 5, 'wei...</td>\n",
       "    </tr>\n",
       "    <tr>\n",
       "      <th>3</th>\n",
       "      <td>0.856683</td>\n",
       "      <td>0.002585</td>\n",
       "      <td>{'metric': 'minkowski', 'n_neighbors': 5, 'wei...</td>\n",
       "    </tr>\n",
       "    <tr>\n",
       "      <th>4</th>\n",
       "      <td>0.853183</td>\n",
       "      <td>0.002678</td>\n",
       "      <td>{'metric': 'minkowski', 'n_neighbors': 10, 'we...</td>\n",
       "    </tr>\n",
       "    <tr>\n",
       "      <th>5</th>\n",
       "      <td>0.855217</td>\n",
       "      <td>0.002786</td>\n",
       "      <td>{'metric': 'minkowski', 'n_neighbors': 10, 'we...</td>\n",
       "    </tr>\n",
       "  </tbody>\n",
       "</table>\n",
       "</div>"
      ],
      "text/plain": [
       "   mean_test_score  std_test_score  \\\n",
       "0         0.846800        0.002260   \n",
       "1         0.846800        0.002260   \n",
       "2         0.854650        0.002558   \n",
       "3         0.856683        0.002585   \n",
       "4         0.853183        0.002678   \n",
       "5         0.855217        0.002786   \n",
       "\n",
       "                                              params  \n",
       "0  {'metric': 'minkowski', 'n_neighbors': 1, 'wei...  \n",
       "1  {'metric': 'minkowski', 'n_neighbors': 1, 'wei...  \n",
       "2  {'metric': 'minkowski', 'n_neighbors': 5, 'wei...  \n",
       "3  {'metric': 'minkowski', 'n_neighbors': 5, 'wei...  \n",
       "4  {'metric': 'minkowski', 'n_neighbors': 10, 'we...  \n",
       "5  {'metric': 'minkowski', 'n_neighbors': 10, 'we...  "
      ]
     },
     "execution_count": 131,
     "metadata": {},
     "output_type": "execute_result"
    }
   ],
   "source": [
    "print(\"best score:\",gs.best_score_)\n",
    "print(\"best params:\",gs.best_params_)\n",
    "pd.DataFrame(gs.cv_results_)[['mean_test_score', 'std_test_score', 'params']] ## the diffrence between the \n",
    "                                                                              ## scores are unsegnificent"
   ]
  },
  {
   "cell_type": "code",
   "execution_count": 118,
   "id": "3c768ae6-eb22-4008-91ad-45c7fc26a440",
   "metadata": {
    "tags": []
   },
   "outputs": [
    {
     "name": "stdout",
     "output_type": "stream",
     "text": [
      "              precision    recall  f1-score   support\n",
      "\n",
      "           0       0.75      0.89      0.81      1000\n",
      "           1       0.99      0.97      0.98      1000\n",
      "           2       0.73      0.83      0.78      1000\n",
      "           3       0.91      0.89      0.90      1000\n",
      "           4       0.80      0.77      0.79      1000\n",
      "           5       0.99      0.85      0.92      1000\n",
      "           6       0.71      0.55      0.62      1000\n",
      "           7       0.88      0.96      0.92      1000\n",
      "           8       0.98      0.95      0.96      1000\n",
      "           9       0.91      0.95      0.93      1000\n",
      "\n",
      "    accuracy                           0.86     10000\n",
      "   macro avg       0.86      0.86      0.86     10000\n",
      "weighted avg       0.86      0.86      0.86     10000\n",
      "\n"
     ]
    }
   ],
   "source": [
    "## checknig the test scores of the tuned knn:\n",
    "gs_knn = KNeighborsClassifier(n_neighbors=5,metric=\"minkowski\",weights=\"distance\")\n",
    "## fitting the data:\n",
    "gs_knn.fit(X_train,y_train) ## immediate!!\n",
    "## making predictions:\n",
    "y_pred = tuned_knn.predict(X_test)\n",
    "## printing the results:\n",
    "print(classification_report(y_test,y_pred))"
   ]
  },
  {
   "cell_type": "markdown",
   "id": "bc46cd5b-ea88-4cd2-9be9-c10cb43eb8fd",
   "metadata": {
    "jp-MarkdownHeadingCollapsed": true,
    "tags": []
   },
   "source": [
    "###### Knn grid_search with PCA"
   ]
  },
  {
   "cell_type": "code",
   "execution_count": 132,
   "id": "22ab85f6-72b3-4d30-a12c-c0711dde6bdc",
   "metadata": {
    "tags": []
   },
   "outputs": [
    {
     "data": {
      "text/plain": [
       "GridSearchCV(cv=6, estimator=KNeighborsClassifier(),\n",
       "             param_grid={'metric': ['minkowski'], 'n_neighbors': [1, 5, 10],\n",
       "                         'weights': ['uniform', 'distance']})"
      ]
     },
     "execution_count": 132,
     "metadata": {},
     "output_type": "execute_result"
    }
   ],
   "source": [
    "        # ******takes up to 10 min, better... but not so much. !!!******* \n",
    "    ## with 5cv 1n and \"euclidian\" it took \n",
    "    ## with 5cv 5n and \"minkowski\" it took \n",
    "    ## whit 6cv 5n and \"minkowski\" it took \n",
    "grid_params = {\n",
    "    \"n_neighbors\": [1,5,10],\n",
    "    \"weights\": [\"uniform\",\"distance\"],\n",
    "    \"metric\" : [\"minkowski\"]\n",
    "}\n",
    "gs = GridSearchCV(KNeighborsClassifier(), grid_params, cv=6) ## immediate!!\n",
    "gs.fit(X_train_pca,y_train) "
   ]
  },
  {
   "cell_type": "code",
   "execution_count": 133,
   "id": "fcb47751-a477-43b0-bb27-2c4011789c44",
   "metadata": {
    "tags": []
   },
   "outputs": [
    {
     "name": "stdout",
     "output_type": "stream",
     "text": [
      "0.8645333333333333\n",
      "{'metric': 'minkowski', 'n_neighbors': 5, 'weights': 'distance'}\n"
     ]
    },
    {
     "data": {
      "text/html": [
       "<div>\n",
       "<style scoped>\n",
       "    .dataframe tbody tr th:only-of-type {\n",
       "        vertical-align: middle;\n",
       "    }\n",
       "\n",
       "    .dataframe tbody tr th {\n",
       "        vertical-align: top;\n",
       "    }\n",
       "\n",
       "    .dataframe thead th {\n",
       "        text-align: right;\n",
       "    }\n",
       "</style>\n",
       "<table border=\"1\" class=\"dataframe\">\n",
       "  <thead>\n",
       "    <tr style=\"text-align: right;\">\n",
       "      <th></th>\n",
       "      <th>mean_test_score</th>\n",
       "      <th>std_test_score</th>\n",
       "      <th>params</th>\n",
       "    </tr>\n",
       "  </thead>\n",
       "  <tbody>\n",
       "    <tr>\n",
       "      <th>0</th>\n",
       "      <td>0.850783</td>\n",
       "      <td>0.001519</td>\n",
       "      <td>{'metric': 'minkowski', 'n_neighbors': 1, 'wei...</td>\n",
       "    </tr>\n",
       "    <tr>\n",
       "      <th>1</th>\n",
       "      <td>0.850783</td>\n",
       "      <td>0.001519</td>\n",
       "      <td>{'metric': 'minkowski', 'n_neighbors': 1, 'wei...</td>\n",
       "    </tr>\n",
       "    <tr>\n",
       "      <th>2</th>\n",
       "      <td>0.863083</td>\n",
       "      <td>0.001847</td>\n",
       "      <td>{'metric': 'minkowski', 'n_neighbors': 5, 'wei...</td>\n",
       "    </tr>\n",
       "    <tr>\n",
       "      <th>3</th>\n",
       "      <td>0.864533</td>\n",
       "      <td>0.001998</td>\n",
       "      <td>{'metric': 'minkowski', 'n_neighbors': 5, 'wei...</td>\n",
       "    </tr>\n",
       "    <tr>\n",
       "      <th>4</th>\n",
       "      <td>0.862867</td>\n",
       "      <td>0.001827</td>\n",
       "      <td>{'metric': 'minkowski', 'n_neighbors': 10, 'we...</td>\n",
       "    </tr>\n",
       "    <tr>\n",
       "      <th>5</th>\n",
       "      <td>0.864200</td>\n",
       "      <td>0.002345</td>\n",
       "      <td>{'metric': 'minkowski', 'n_neighbors': 10, 'we...</td>\n",
       "    </tr>\n",
       "  </tbody>\n",
       "</table>\n",
       "</div>"
      ],
      "text/plain": [
       "   mean_test_score  std_test_score  \\\n",
       "0         0.850783        0.001519   \n",
       "1         0.850783        0.001519   \n",
       "2         0.863083        0.001847   \n",
       "3         0.864533        0.001998   \n",
       "4         0.862867        0.001827   \n",
       "5         0.864200        0.002345   \n",
       "\n",
       "                                              params  \n",
       "0  {'metric': 'minkowski', 'n_neighbors': 1, 'wei...  \n",
       "1  {'metric': 'minkowski', 'n_neighbors': 1, 'wei...  \n",
       "2  {'metric': 'minkowski', 'n_neighbors': 5, 'wei...  \n",
       "3  {'metric': 'minkowski', 'n_neighbors': 5, 'wei...  \n",
       "4  {'metric': 'minkowski', 'n_neighbors': 10, 'we...  \n",
       "5  {'metric': 'minkowski', 'n_neighbors': 10, 'we...  "
      ]
     },
     "execution_count": 133,
     "metadata": {},
     "output_type": "execute_result"
    }
   ],
   "source": [
    "print(gs.best_score_)\n",
    "print(gs.best_params_)\n",
    "pd.DataFrame(gs.cv_results_)[['mean_test_score', 'std_test_score', 'params']] ## the diffrence between the \n",
    "                                                                              ## scores are unsegnificent"
   ]
  },
  {
   "cell_type": "code",
   "execution_count": null,
   "id": "346ffaf1-131d-4e1b-990f-e75d8eb5548e",
   "metadata": {
    "tags": []
   },
   "outputs": [],
   "source": [
    "## there is no need to show the tuned knn this time around beacuse it's the same knn parameters as without the pca."
   ]
  },
  {
   "cell_type": "code",
   "execution_count": null,
   "id": "47473745-dce4-43e3-994f-07ef15b4cfd1",
   "metadata": {},
   "outputs": [],
   "source": [
    "## now let's start to use some ensemble methods"
   ]
  },
  {
   "cell_type": "markdown",
   "id": "e164057f-f53b-43ce-ba73-fb0379ab7318",
   "metadata": {
    "jp-MarkdownHeadingCollapsed": true,
    "tags": []
   },
   "source": [
    "#### XGBoost"
   ]
  },
  {
   "cell_type": "code",
   "execution_count": 97,
   "id": "4d416e8f-96d7-4530-866e-af72795c995e",
   "metadata": {
    "tags": []
   },
   "outputs": [
    {
     "name": "stdout",
     "output_type": "stream",
     "text": [
      "              precision    recall  f1-score   support\n",
      "\n",
      "           0       0.83      0.86      0.85      1000\n",
      "           1       0.99      0.98      0.99      1000\n",
      "           2       0.85      0.83      0.84      1000\n",
      "           3       0.92      0.93      0.92      1000\n",
      "           4       0.85      0.88      0.87      1000\n",
      "           5       0.99      0.96      0.98      1000\n",
      "           6       0.75      0.71      0.73      1000\n",
      "           7       0.95      0.96      0.95      1000\n",
      "           8       0.97      0.98      0.98      1000\n",
      "           9       0.96      0.97      0.96      1000\n",
      "\n",
      "    accuracy                           0.91     10000\n",
      "   macro avg       0.91      0.91      0.91     10000\n",
      "weighted avg       0.91      0.91      0.91     10000\n",
      "\n"
     ]
    }
   ],
   "source": [
    "## can take up to 12mins\n",
    "xgc = XGBClassifier()\n",
    "## fit the data:\n",
    "xgc.fit(X_train,y_train)\n",
    "## make predictions:\n",
    "pred_xgc = xgc.predict(X_test)     \n",
    "## printing the score:\n",
    "print(classification_report(y_test, pred_xgc))"
   ]
  },
  {
   "cell_type": "code",
   "execution_count": null,
   "id": "2d44e5e3-b7ce-444f-ad1a-1152875d0914",
   "metadata": {},
   "outputs": [],
   "source": [
    "## saving the default_xgc:\n",
    "# pickle.dump(open(\"saved_models/my_default_xgc_model.pkl\"),\"wb\")"
   ]
  },
  {
   "cell_type": "code",
   "execution_count": 38,
   "id": "a3f608b2-5504-4334-8a52-5b63e0cbe7d2",
   "metadata": {},
   "outputs": [
    {
     "name": "stdout",
     "output_type": "stream",
     "text": [
      "              precision    recall  f1-score   support\n",
      "\n",
      "           0       0.83      0.86      0.85      1000\n",
      "           1       0.99      0.98      0.99      1000\n",
      "           2       0.85      0.83      0.84      1000\n",
      "           3       0.92      0.93      0.92      1000\n",
      "           4       0.85      0.88      0.87      1000\n",
      "           5       0.99      0.96      0.98      1000\n",
      "           6       0.75      0.71      0.73      1000\n",
      "           7       0.95      0.96      0.95      1000\n",
      "           8       0.97      0.98      0.98      1000\n",
      "           9       0.96      0.97      0.96      1000\n",
      "\n",
      "    accuracy                           0.91     10000\n",
      "   macro avg       0.91      0.91      0.91     10000\n",
      "weighted avg       0.91      0.91      0.91     10000\n",
      "\n"
     ]
    }
   ],
   "source": [
    "## insted of training the model - we can use the model that we downloaded:\n",
    "default_xgc = pickle.load(open(\"saved_models/my_default_xgc_model.pkl\", \"rb\"))\n",
    "pred_xgc = default_xgc.predict(X_test)\n",
    "print(classification_report(y_test,pred_xgc))"
   ]
  },
  {
   "cell_type": "markdown",
   "id": "b41f332e-ebca-452a-8518-c1817d92609f",
   "metadata": {
    "jp-MarkdownHeadingCollapsed": true,
    "tags": []
   },
   "source": [
    "#### Random Forest"
   ]
  },
  {
   "cell_type": "code",
   "execution_count": 15,
   "id": "7a42ffec-ff52-40db-afd5-1a36c765d812",
   "metadata": {
    "tags": []
   },
   "outputs": [
    {
     "name": "stdout",
     "output_type": "stream",
     "text": [
      "              precision    recall  f1-score   support\n",
      "\n",
      "           0       0.86      0.81      0.84      1058\n",
      "           1       0.97      0.99      0.98       986\n",
      "           2       0.81      0.80      0.80      1016\n",
      "           3       0.93      0.89      0.91      1042\n",
      "           4       0.85      0.81      0.83      1058\n",
      "           5       0.95      0.97      0.96       975\n",
      "           6       0.61      0.75      0.68       821\n",
      "           7       0.93      0.93      0.93      1007\n",
      "           8       0.97      0.95      0.96      1022\n",
      "           9       0.95      0.94      0.94      1015\n",
      "\n",
      "    accuracy                           0.89     10000\n",
      "   macro avg       0.89      0.88      0.88     10000\n",
      "weighted avg       0.89      0.89      0.89     10000\n",
      "\n"
     ]
    }
   ],
   "source": [
    "# took 1:08 min\n",
    "rf = RandomForestClassifier()\n",
    "## fit the data:\n",
    "rf.fit(X_train,y_train)\n",
    "## make predictions:\n",
    "pred_rf = rf.predict(X_test)\n",
    "## printing the score:\n",
    "print(classification_report(pred_rf, y_test))"
   ]
  }
 ],
 "metadata": {
  "kernelspec": {
   "display_name": "Python 3 (ipykernel)",
   "language": "python",
   "name": "python3"
  },
  "language_info": {
   "codemirror_mode": {
    "name": "ipython",
    "version": 3
   },
   "file_extension": ".py",
   "mimetype": "text/x-python",
   "name": "python",
   "nbconvert_exporter": "python",
   "pygments_lexer": "ipython3",
   "version": "3.9.7"
  },
  "toc-autonumbering": false,
  "toc-showcode": false,
  "toc-showmarkdowntxt": false,
  "toc-showtags": false,
  "widgets": {
   "application/vnd.jupyter.widget-state+json": {
    "state": {},
    "version_major": 2,
    "version_minor": 0
   }
  }
 },
 "nbformat": 4,
 "nbformat_minor": 5
}
