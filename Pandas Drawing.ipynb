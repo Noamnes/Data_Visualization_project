{
 "cells": [
  {
   "cell_type": "markdown",
   "metadata": {
    "jp-MarkdownHeadingCollapsed": true,
    "tags": []
   },
   "source": [
    "## imports"
   ]
  },
  {
   "cell_type": "code",
   "execution_count": 4,
   "metadata": {},
   "outputs": [],
   "source": [
    "import numpy as np\n",
    "import pandas as pd\n",
    "import matplotlib.pyplot as plt\n",
    "from PIL import Image\n",
    "import numpy as np"
   ]
  },
  {
   "cell_type": "markdown",
   "metadata": {
    "jp-MarkdownHeadingCollapsed": true,
    "tags": []
   },
   "source": [
    "## simple aid functions:"
   ]
  },
  {
   "cell_type": "code",
   "execution_count": 82,
   "metadata": {},
   "outputs": [],
   "source": [
    "# Calculate the slope of 2 points.\n",
    "\n",
    "def slope(x1,y1,x2,y2):\n",
    "    val1 = y1-y2\n",
    "    val2 = x1-x2\n",
    "    return val1/val2"
   ]
  },
  {
   "cell_type": "code",
   "execution_count": 83,
   "metadata": {},
   "outputs": [],
   "source": [
    "# Check degree between two lines. True if about 90 degrees (if two lines are vertical).\n",
    "\n",
    "def check(slope1, slope2):\n",
    "    val = slope1 * slope2\n",
    "    return (val <= -0.75 and val >= -1.25)\n",
    "    "
   ]
  },
  {
   "cell_type": "code",
   "execution_count": 84,
   "metadata": {},
   "outputs": [],
   "source": [
    "def distance(x1,y1,x2,y2):\n",
    "    val1 = (x1-x2) **2\n",
    "    val2 = (y1-y2) **2\n",
    "    return (val1+val2)**0.5"
   ]
  },
  {
   "cell_type": "code",
   "execution_count": 85,
   "metadata": {},
   "outputs": [],
   "source": [
    "def is_new_shape(distance, limit):\n",
    "    return distance > limit"
   ]
  },
  {
   "cell_type": "markdown",
   "metadata": {
    "tags": []
   },
   "source": [
    "### Functions used to load a drawing:"
   ]
  },
  {
   "cell_type": "code",
   "execution_count": 86,
   "metadata": {
    "tags": []
   },
   "outputs": [],
   "source": [
    "def get_location(n,k,file_type):\n",
    "    start = \"train/\"\n",
    "    if(n==1):\n",
    "        start += \"7554/\"\n",
    "    if(n==2):\n",
    "        start+= \"7556/\"\n",
    "    if(n==3):\n",
    "        start+= \"7557/\"\n",
    "    if(n==4):\n",
    "        start+= \"7558/\"\n",
    "    if(n==5):\n",
    "        start+= \"7559/\"\n",
    "    if(n==6):\n",
    "        start+= \"7560/\"\n",
    "    if(n==7):\n",
    "        start+= \"7561/\"\n",
    "    if(n==8):\n",
    "        start+= \"7563/\"\n",
    "    if(n==9):\n",
    "        start+= \"7569/\"\n",
    "    if(n==10):\n",
    "        start+= \"7570/\"\n",
    "    if(n==11):\n",
    "        start+= \"7571/\"\n",
    "    if(n==12):\n",
    "        start+= \"7572/\"\n",
    "    if(n==13):\n",
    "        start+= \"7573/\"\n",
    "    if(n==14):\n",
    "        start+= \"7574/\"\n",
    "        \n",
    "    start += \"SimpleTest/\"\n",
    "    \n",
    "    start += str(k)+\".\"+file_type\n",
    "    return start"
   ]
  },
  {
   "cell_type": "code",
   "execution_count": 87,
   "metadata": {
    "tags": []
   },
   "outputs": [],
   "source": [
    "def get_draw(n,k):\n",
    "    location = get_location(n,k,\"png\")\n",
    "    img = Image.open(location)\n",
    "    plt.imshow(img)"
   ]
  },
  {
   "cell_type": "code",
   "execution_count": 88,
   "metadata": {
    "tags": []
   },
   "outputs": [],
   "source": [
    "def get_df(n,k):\n",
    "    return pd.read_csv(get_location(n,k,\"csv\"))"
   ]
  },
  {
   "cell_type": "markdown",
   "metadata": {
    "jp-MarkdownHeadingCollapsed": true,
    "tags": []
   },
   "source": [
    "## main Functions:"
   ]
  },
  {
   "cell_type": "markdown",
   "metadata": {
    "jp-MarkdownHeadingCollapsed": true,
    "tags": []
   },
   "source": [
    "### Main Function: How many hand-lifts (shapes)?"
   ]
  },
  {
   "cell_type": "code",
   "execution_count": 14,
   "metadata": {},
   "outputs": [],
   "source": [
    "# Returns the number of hand lifts (number of shapes) in a given drawing.\n",
    "# Specify 'distance_limit' = 20.\n",
    "\n",
    "def n_of_h_l(drawing,distance_limit):\n",
    "    \n",
    "    temp = drawing.copy()\n",
    "    temp = get_better_df(temp)   \n",
    "    \n",
    "    return (len(temp[temp['distance']>distance_limit]) + 1)"
   ]
  },
  {
   "cell_type": "markdown",
   "metadata": {
    "jp-MarkdownHeadingCollapsed": true,
    "tags": []
   },
   "source": [
    "#### assistant function for n_of_h_l function:"
   ]
  },
  {
   "cell_type": "code",
   "execution_count": null,
   "metadata": {},
   "outputs": [],
   "source": [
    "# Returns a drawing dataset with the following columns:\n",
    "# 1. y2-y1\n",
    "# 2. x2-x1\n",
    "# 3. distance\n",
    "# 4. slope\n",
    "# 5. angle (calculated by: 'tan(alpha) = slope')\n",
    "# 6. diff_angle\n",
    "\n",
    "def get_better_df(drawing):\n",
    "    temp = drawing.copy()\n",
    "    rows = temp.shape[0]\n",
    "    index1 = rows - 1;\n",
    "    index2 = rows - 2;\n",
    "    temp.drop(axis = 0, index = [index1,index2], inplace = True)\n",
    "    temp['X'] = pd.to_numeric(temp['X'])\n",
    "    temp['y2-y1'] = temp[' Y'].diff()\n",
    "    temp['x2-x1'] = temp['X'].diff()\n",
    "    temp[\"distance\"]= ((temp[\"y2-y1\"])**2 + (temp[\"x2-x1\"])**2)**0.5 # The distance between two adjacent points.\n",
    "    temp[\"slope\"]= temp[\"y2-y1\"]/temp[\"x2-x1\"] # Includes NaN values since we're dividing by zero sometimes.\n",
    "    temp[\"angle\"]= np.arctan(temp[\"slope\"])\n",
    "    temp[\"diff_angle\"] = temp[\"angle\"].diff() # Difference between every two adjacent angles.\n",
    "    \n",
    "    return temp"
   ]
  },
  {
   "cell_type": "code",
   "execution_count": null,
   "metadata": {},
   "outputs": [],
   "source": [
    "# Adding a new column: 'num_of_shape'\n",
    "# Each data-point belongs to a specific shape. \n",
    "\n",
    "def divide_2_shapes(drawing,distance_limit):\n",
    "    \n",
    "    drawing = get_better_df(drawing)\n",
    "    \n",
    "    drawing[\"is_2_far\"] = drawing[\"distance\"]>distance_limit\n",
    "    drawing[\"num_of_shape\"] = 1\n",
    "    \n",
    "    i = 0\n",
    "    value = 1\n",
    "    while (i < drawing.shape[0]):\n",
    "        if (drawing.loc[:,\"is_2_far\"].iloc[i] == True):\n",
    "            value += 1\n",
    "        drawing.loc[:,\"num_of_shape\"].iloc[i] = value\n",
    "        i += 1\n",
    "        \n",
    "    drawing.drop(axis=1,inplace=True,columns=\"is_2_far\") # Dropping unnecessary column.\n",
    "    \n",
    "    return drawing"
   ]
  },
  {
   "cell_type": "markdown",
   "metadata": {
    "jp-MarkdownHeadingCollapsed": true,
    "tags": []
   },
   "source": [
    "##### Testing for different drawings."
   ]
  },
  {
   "cell_type": "code",
   "execution_count": 12,
   "metadata": {
    "tags": []
   },
   "outputs": [
    {
     "name": "stderr",
     "output_type": "stream",
     "text": [
      "C:\\Users\\noams\\anaconda3\\lib\\site-packages\\pandas\\core\\indexing.py:1732: SettingWithCopyWarning: \n",
      "A value is trying to be set on a copy of a slice from a DataFrame\n",
      "\n",
      "See the caveats in the documentation: https://pandas.pydata.org/pandas-docs/stable/user_guide/indexing.html#returning-a-view-versus-a-copy\n",
      "  self._setitem_single_block(indexer, value, name)\n"
     ]
    },
    {
     "data": {
      "text/html": [
       "<div>\n",
       "<style scoped>\n",
       "    .dataframe tbody tr th:only-of-type {\n",
       "        vertical-align: middle;\n",
       "    }\n",
       "\n",
       "    .dataframe tbody tr th {\n",
       "        vertical-align: top;\n",
       "    }\n",
       "\n",
       "    .dataframe thead th {\n",
       "        text-align: right;\n",
       "    }\n",
       "</style>\n",
       "<table border=\"1\" class=\"dataframe\">\n",
       "  <thead>\n",
       "    <tr style=\"text-align: right;\">\n",
       "      <th></th>\n",
       "      <th>X</th>\n",
       "      <th>Y</th>\n",
       "      <th>Pressure</th>\n",
       "      <th>TiltX</th>\n",
       "      <th>TiltY</th>\n",
       "      <th>Time</th>\n",
       "      <th>y2-y1</th>\n",
       "      <th>x2-x1</th>\n",
       "      <th>distance</th>\n",
       "      <th>slope</th>\n",
       "      <th>angle</th>\n",
       "      <th>diff_angle</th>\n",
       "      <th>num_of_shape</th>\n",
       "    </tr>\n",
       "  </thead>\n",
       "  <tbody>\n",
       "    <tr>\n",
       "      <th>714</th>\n",
       "      <td>479.855873</td>\n",
       "      <td>496.813027</td>\n",
       "      <td>0.681147</td>\n",
       "      <td>-3819.0</td>\n",
       "      <td>1666.0</td>\n",
       "      <td>00:15.5794018</td>\n",
       "      <td>0.210648</td>\n",
       "      <td>2.633099</td>\n",
       "      <td>2.641511</td>\n",
       "      <td>0.080000</td>\n",
       "      <td>0.079830</td>\n",
       "      <td>-0.038262</td>\n",
       "      <td>10</td>\n",
       "    </tr>\n",
       "    <tr>\n",
       "      <th>715</th>\n",
       "      <td>482.015013</td>\n",
       "      <td>497.181661</td>\n",
       "      <td>0.660395</td>\n",
       "      <td>-3769.0</td>\n",
       "      <td>1638.0</td>\n",
       "      <td>00:15.5794018</td>\n",
       "      <td>0.368634</td>\n",
       "      <td>2.159141</td>\n",
       "      <td>2.190383</td>\n",
       "      <td>0.170732</td>\n",
       "      <td>0.169101</td>\n",
       "      <td>0.089271</td>\n",
       "      <td>10</td>\n",
       "    </tr>\n",
       "    <tr>\n",
       "      <th>716</th>\n",
       "      <td>482.488971</td>\n",
       "      <td>497.286985</td>\n",
       "      <td>0.652827</td>\n",
       "      <td>-3769.0</td>\n",
       "      <td>1638.0</td>\n",
       "      <td>00:15.5950274</td>\n",
       "      <td>0.105324</td>\n",
       "      <td>0.473958</td>\n",
       "      <td>0.485519</td>\n",
       "      <td>0.222222</td>\n",
       "      <td>0.218669</td>\n",
       "      <td>0.049568</td>\n",
       "      <td>10</td>\n",
       "    </tr>\n",
       "    <tr>\n",
       "      <th>717</th>\n",
       "      <td>484.174154</td>\n",
       "      <td>498.024252</td>\n",
       "      <td>0.603265</td>\n",
       "      <td>-3769.0</td>\n",
       "      <td>1638.0</td>\n",
       "      <td>00:15.5950274</td>\n",
       "      <td>0.737268</td>\n",
       "      <td>1.685183</td>\n",
       "      <td>1.839404</td>\n",
       "      <td>0.437500</td>\n",
       "      <td>0.412410</td>\n",
       "      <td>0.193741</td>\n",
       "      <td>10</td>\n",
       "    </tr>\n",
       "    <tr>\n",
       "      <th>718</th>\n",
       "      <td>484.174154</td>\n",
       "      <td>498.024252</td>\n",
       "      <td>0.589837</td>\n",
       "      <td>-3769.0</td>\n",
       "      <td>1638.0</td>\n",
       "      <td>00:15.6106472</td>\n",
       "      <td>0.000000</td>\n",
       "      <td>0.000000</td>\n",
       "      <td>0.000000</td>\n",
       "      <td>NaN</td>\n",
       "      <td>NaN</td>\n",
       "      <td>NaN</td>\n",
       "      <td>10</td>\n",
       "    </tr>\n",
       "  </tbody>\n",
       "</table>\n",
       "</div>"
      ],
      "text/plain": [
       "              X           Y   Pressure   TiltX   TiltY           Time  \\\n",
       "714  479.855873  496.813027   0.681147 -3819.0  1666.0  00:15.5794018   \n",
       "715  482.015013  497.181661   0.660395 -3769.0  1638.0  00:15.5794018   \n",
       "716  482.488971  497.286985   0.652827 -3769.0  1638.0  00:15.5950274   \n",
       "717  484.174154  498.024252   0.603265 -3769.0  1638.0  00:15.5950274   \n",
       "718  484.174154  498.024252   0.589837 -3769.0  1638.0  00:15.6106472   \n",
       "\n",
       "        y2-y1     x2-x1  distance     slope     angle  diff_angle  \\\n",
       "714  0.210648  2.633099  2.641511  0.080000  0.079830   -0.038262   \n",
       "715  0.368634  2.159141  2.190383  0.170732  0.169101    0.089271   \n",
       "716  0.105324  0.473958  0.485519  0.222222  0.218669    0.049568   \n",
       "717  0.737268  1.685183  1.839404  0.437500  0.412410    0.193741   \n",
       "718  0.000000  0.000000  0.000000       NaN       NaN         NaN   \n",
       "\n",
       "     num_of_shape  \n",
       "714            10  \n",
       "715            10  \n",
       "716            10  \n",
       "717            10  \n",
       "718            10  "
      ]
     },
     "execution_count": 12,
     "metadata": {},
     "output_type": "execute_result"
    },
    {
     "data": {
      "image/png": "[encoded data removed]",
      "text/plain": [
       "<Figure size 432x288 with 1 Axes>"
      ]
     },
     "metadata": {
      "needs_background": "light"
     },
     "output_type": "display_data"
    }
   ],
   "source": [
    "## test for the \"divied_2_shapes\" function:\n",
    "\n",
    "get_draw(1,20)\n",
    "divide_2_shapes(get_df(1,20),10).tail(5)"
   ]
  },
  {
   "cell_type": "markdown",
   "metadata": {
    "jp-MarkdownHeadingCollapsed": true,
    "tags": []
   },
   "source": [
    "#### Testing n_of_h_l function:"
   ]
  },
  {
   "cell_type": "code",
   "execution_count": 40,
   "metadata": {},
   "outputs": [],
   "source": [
    "def Test_n_of_h_l(kid_n,draw_n,distance_limit):\n",
    "    print(n_of_h_l(get_df(kid_n,draw_n),distance_limit))\n",
    "    get_draw(kid_n,draw_n)"
   ]
  },
  {
   "cell_type": "code",
   "execution_count": 41,
   "metadata": {},
   "outputs": [
    {
     "name": "stdout",
     "output_type": "stream",
     "text": [
      "1\n"
     ]
    },
    {
     "data": {
      "image/png": "[encoded data removed]",
      "text/plain": [
       "<Figure size 432x288 with 1 Axes>"
      ]
     },
     "metadata": {
      "needs_background": "light"
     },
     "output_type": "display_data"
    }
   ],
   "source": [
    "Test_n_of_h_l(1,1,20)"
   ]
  },
  {
   "cell_type": "code",
   "execution_count": 46,
   "metadata": {},
   "outputs": [
    {
     "name": "stdout",
     "output_type": "stream",
     "text": [
      "1\n"
     ]
    },
    {
     "data": {
      "image/png": "[encoded data removed]",
      "text/plain": [
       "<Figure size 432x288 with 1 Axes>"
      ]
     },
     "metadata": {
      "needs_background": "light"
     },
     "output_type": "display_data"
    }
   ],
   "source": [
    "Test_n_of_h_l(1,6,20)"
   ]
  },
  {
   "cell_type": "code",
   "execution_count": 49,
   "metadata": {},
   "outputs": [
    {
     "name": "stdout",
     "output_type": "stream",
     "text": [
      "10\n"
     ]
    },
    {
     "data": {
      "image/png": "[encoded data removed]",
      "text/plain": [
       "<Figure size 432x288 with 1 Axes>"
      ]
     },
     "metadata": {
      "needs_background": "light"
     },
     "output_type": "display_data"
    }
   ],
   "source": [
    "Test_n_of_h_l(1,7,20)"
   ]
  },
  {
   "cell_type": "code",
   "execution_count": 52,
   "metadata": {},
   "outputs": [
    {
     "name": "stdout",
     "output_type": "stream",
     "text": [
      "5\n"
     ]
    },
    {
     "data": {
      "image/png": "[encoded data removed]",
      "text/plain": [
       "<Figure size 432x288 with 1 Axes>"
      ]
     },
     "metadata": {
      "needs_background": "light"
     },
     "output_type": "display_data"
    }
   ],
   "source": [
    "Test_n_of_h_l(1,13,20)"
   ]
  },
  {
   "cell_type": "code",
   "execution_count": 56,
   "metadata": {},
   "outputs": [
    {
     "name": "stdout",
     "output_type": "stream",
     "text": [
      "6\n"
     ]
    },
    {
     "data": {
      "image/png": "[encoded data removed]",
      "text/plain": [
       "<Figure size 432x288 with 1 Axes>"
      ]
     },
     "metadata": {
      "needs_background": "light"
     },
     "output_type": "display_data"
    }
   ],
   "source": [
    "Test_n_of_h_l(2,9,20)"
   ]
  },
  {
   "cell_type": "code",
   "execution_count": 57,
   "metadata": {},
   "outputs": [
    {
     "name": "stdout",
     "output_type": "stream",
     "text": [
      "2\n"
     ]
    },
    {
     "data": {
      "image/png": "[encoded data removed]",
      "text/plain": [
       "<Figure size 432x288 with 1 Axes>"
      ]
     },
     "metadata": {
      "needs_background": "light"
     },
     "output_type": "display_data"
    }
   ],
   "source": [
    "Test_n_of_h_l(5,8,20)"
   ]
  },
  {
   "cell_type": "code",
   "execution_count": 63,
   "metadata": {},
   "outputs": [
    {
     "name": "stdout",
     "output_type": "stream",
     "text": [
      "2\n"
     ]
    },
    {
     "data": {
      "image/png": "[encoded data removed]",
      "text/plain": [
       "<Figure size 432x288 with 1 Axes>"
      ]
     },
     "metadata": {
      "needs_background": "light"
     },
     "output_type": "display_data"
    }
   ],
   "source": [
    "Test_n_of_h_l(6,5,20)"
   ]
  },
  {
   "cell_type": "code",
   "execution_count": 74,
   "metadata": {},
   "outputs": [
    {
     "name": "stdout",
     "output_type": "stream",
     "text": [
      "2\n"
     ]
    },
    {
     "data": {
      "image/png": "[encoded data removed]",
      "text/plain": [
       "<Figure size 432x288 with 1 Axes>"
      ]
     },
     "metadata": {
      "needs_background": "light"
     },
     "output_type": "display_data"
    }
   ],
   "source": [
    "Test_n_of_h_l(4,5,20)"
   ]
  },
  {
   "cell_type": "markdown",
   "metadata": {
    "jp-MarkdownHeadingCollapsed": true,
    "tags": []
   },
   "source": [
    "### Main function: How many lines?"
   ]
  },
  {
   "cell_type": "code",
   "execution_count": 89,
   "metadata": {},
   "outputs": [],
   "source": [
    "# This function iterates through 'drawing' DataFrame.\n",
    "# On each iteration, a sub-DataFrame is created.\n",
    "# This sub-DataFrame, represents a specific shape.\n",
    "# It is sent to 'howManyLines', which then calculates the amount of lines the shape is built of.\n",
    "\n",
    "# Eventually, the main function returns a list.\n",
    "# Each item in the list represents the amount of lines of a certain shape.\n",
    "\n",
    "def totalLines(drawing, distanceLimit, val, margin):\n",
    "    \n",
    "    # List -> will contain amount of lines of each shape.\n",
    "    shape_lines = []\n",
    "    \n",
    "    # Get the amount of different shapes (hand lifts):\n",
    "    shapeAmount =  n_of_h_l(drawing, distanceLimit)\n",
    "    \n",
    "    # Creating temporary copy of 'Drawing' dataset.\n",
    "    temp = drawing.copy()\n",
    "    temp = divide_2_shapes(temp, distanceLimit)\n",
    "    \n",
    "    currentShapeNum = 1\n",
    "    while (currentShapeNum <= shapeAmount):\n",
    "        \n",
    "        shape_df = temp[temp['num_of_shape'] == currentShapeNum] \n",
    "        value = howManyLines(shape_df, val, margin)\n",
    "        shape_lines.append(value)\n",
    "        \n",
    "        currentShapeNum += 1\n",
    "    \n",
    "    return shape_lines"
   ]
  },
  {
   "cell_type": "markdown",
   "metadata": {
    "jp-MarkdownHeadingCollapsed": true,
    "tags": []
   },
   "source": [
    "#### assistant functions for totalLines function:"
   ]
  },
  {
   "cell_type": "code",
   "execution_count": 94,
   "metadata": {},
   "outputs": [],
   "source": [
    "# Let 'l' be the line between points <x1,y1> --> <x3,y3>.\n",
    "# Function returns True <=> point <x2,y2> is on 'l'.\n",
    "\n",
    "def isOnLine(x1,y1,x2,y2,x3,y3,margin):\n",
    "    \n",
    "    # print()\n",
    "    # print('<x1,y1> = <',x1,',',y1,'>')\n",
    "    # print('<x2,y2> = <',x2,',',y2,'>')\n",
    "    # print('<x3,y3> = <',x3,',',y3,'>')\n",
    "    # print()\n",
    "    \n",
    "    m = slope(x1,y1,x3,y3) # calculating the slope between <x1,y1> and <x3,y3>.\n",
    "    \n",
    "    # print('m = ',m)\n",
    "    \n",
    "    const = y1 - m*x1\n",
    "    val = m*x2 +const\n",
    "    \n",
    "    # print()\n",
    "    # print('y2 = ',y2)\n",
    "    # print('val = ',val)\n",
    "    # print()\n",
    "    \n",
    "    return ( (y2 >= val-margin) and (y2 <= val+margin) )"
   ]
  },
  {
   "cell_type": "code",
   "execution_count": 93,
   "metadata": {},
   "outputs": [],
   "source": [
    "# Function returns amount of lines the shape is built of.\n",
    "\n",
    "def howManyLines(shape_df, val, margin):\n",
    "    \n",
    "    # Adding a boolean column\n",
    "    \n",
    "    \n",
    "    # Amount of lines to be returned.\n",
    "    lineAmount = 1\n",
    "    \n",
    "    # length of DataFrame (amount of rows).\n",
    "    length = shape_df.shape[0]\n",
    "    \n",
    "    # iterator -> iterate through the DataFrame.\n",
    "    i = val\n",
    "    \n",
    "    # iteration process:\n",
    "    while (i < length):\n",
    "        \n",
    "        # Grabbing point <x1,y1>\n",
    "        x1 = shape_df.iloc[i-val,0]\n",
    "        y1 = shape_df.iloc[i-val,1]\n",
    "        \n",
    "        # Grabbing point <x2,y2>\n",
    "        x2 = shape_df.iloc[i,0]\n",
    "        y2 = shape_df.iloc[i,1]\n",
    "        \n",
    "        # Are we out of bounds?\n",
    "        if (i+val >= length):\n",
    "            break\n",
    "        \n",
    "        # Grabbing point <x3,y3>\n",
    "        x3 = shape_df.iloc[i+val,0]\n",
    "        y3 = shape_df.iloc[i+val,1]\n",
    "        \n",
    "        if (not isOnLine(x1,y1,x2,y2,x3,y3,margin)):\n",
    "            # print('It is not on the line!')\n",
    "            lineAmount += 1\n",
    "        \n",
    "        i += val\n",
    "    \n",
    "    return lineAmount"
   ]
  },
  {
   "cell_type": "markdown",
   "metadata": {
    "jp-MarkdownHeadingCollapsed": true,
    "tags": []
   },
   "source": [
    "#### Test totalLines function:"
   ]
  },
  {
   "cell_type": "code",
   "execution_count": 100,
   "metadata": {},
   "outputs": [],
   "source": [
    "def Test_totalLines(kid_n,draw_n, distanceLimit, val, margin):\n",
    "    print(\"number of hand lifts:\",n_of_h_l(get_df(kid_n,draw_n),distanceLimit))\n",
    "    print(\"number of lines (divied to shapes):\",totalLines(get_df(kid_n,draw_n),distanceLimit,val,margin))\n",
    "    get_draw(kid_n,draw_n)"
   ]
  },
  {
   "cell_type": "code",
   "execution_count": 101,
   "metadata": {},
   "outputs": [
    {
     "name": "stdout",
     "output_type": "stream",
     "text": [
      "number of hand lifts: 2\n",
      "number of lines (divied to shapes): [4, 1]\n"
     ]
    },
    {
     "name": "stderr",
     "output_type": "stream",
     "text": [
      "C:\\Users\\noams\\anaconda3\\lib\\site-packages\\pandas\\core\\indexing.py:1732: SettingWithCopyWarning: \n",
      "A value is trying to be set on a copy of a slice from a DataFrame\n",
      "\n",
      "See the caveats in the documentation: https://pandas.pydata.org/pandas-docs/stable/user_guide/indexing.html#returning-a-view-versus-a-copy\n",
      "  self._setitem_single_block(indexer, value, name)\n"
     ]
    },
    {
     "data": {
      "image/png": "[encoded data removed]",
      "text/plain": [
       "<Figure size 432x288 with 1 Axes>"
      ]
     },
     "metadata": {
      "needs_background": "light"
     },
     "output_type": "display_data"
    }
   ],
   "source": [
    "Test_totalLines(9,5,20,7,20)"
   ]
  },
  {
   "cell_type": "code",
   "execution_count": 105,
   "metadata": {},
   "outputs": [
    {
     "name": "stdout",
     "output_type": "stream",
     "text": [
      "number of hand lifts: 1\n",
      "number of lines (divied to shapes): [1]\n"
     ]
    },
    {
     "data": {
      "image/png": "[encoded data removed]",
      "text/plain": [
       "<Figure size 432x288 with 1 Axes>"
      ]
     },
     "metadata": {
      "needs_background": "light"
     },
     "output_type": "display_data"
    }
   ],
   "source": [
    "Test_totalLines(9,2,20,7,20)"
   ]
  },
  {
   "cell_type": "code",
   "execution_count": 107,
   "metadata": {},
   "outputs": [
    {
     "name": "stdout",
     "output_type": "stream",
     "text": [
      "number of hand lifts: 1\n",
      "number of lines (divied to shapes): [2]\n"
     ]
    },
    {
     "data": {
      "image/png": "[encoded data removed]",
      "text/plain": [
       "<Figure size 432x288 with 1 Axes>"
      ]
     },
     "metadata": {
      "needs_background": "light"
     },
     "output_type": "display_data"
    }
   ],
   "source": [
    "Test_totalLines(3,4,20,7,20)"
   ]
  },
  {
   "cell_type": "code",
   "execution_count": 114,
   "metadata": {},
   "outputs": [
    {
     "name": "stdout",
     "output_type": "stream",
     "text": [
      "number of hand lifts: 4\n",
      "number of lines (divied to shapes): [1, 3, 1, 1]\n"
     ]
    },
    {
     "data": {
      "image/png": "[encoded data removed]",
      "text/plain": [
       "<Figure size 432x288 with 1 Axes>"
      ]
     },
     "metadata": {
      "needs_background": "light"
     },
     "output_type": "display_data"
    }
   ],
   "source": [
    "Test_totalLines(10,5,20,7,20)"
   ]
  },
  {
   "cell_type": "code",
   "execution_count": 117,
   "metadata": {},
   "outputs": [
    {
     "name": "stdout",
     "output_type": "stream",
     "text": [
      "number of hand lifts: 35\n",
      "number of lines (divied to shapes): [2, 3, 1, 3, 3, 2, 3, 2, 3, 3, 4, 3, 3, 4, 3, 3, 3, 3, 5, 2, 3, 3, 1, 4, 4, 6, 2, 3, 3, 7, 4, 4, 2, 3, 1]\n"
     ]
    },
    {
     "data": {
      "image/png": "[encoded data removed]",
      "text/plain": [
       "<Figure size 432x288 with 1 Axes>"
      ]
     },
     "metadata": {
      "needs_background": "light"
     },
     "output_type": "display_data"
    }
   ],
   "source": [
    "Test_totalLines(5,14,20,7,20)"
   ]
  },
  {
   "cell_type": "code",
   "execution_count": 126,
   "metadata": {},
   "outputs": [
    {
     "name": "stdout",
     "output_type": "stream",
     "text": [
      "number of hand lifts: 5\n",
      "number of lines (divied to shapes): [5, 1, 1, 1, 1]\n"
     ]
    },
    {
     "data": {
      "image/png": "[encoded data removed]",
      "text/plain": [
       "<Figure size 432x288 with 1 Axes>"
      ]
     },
     "metadata": {
      "needs_background": "light"
     },
     "output_type": "display_data"
    }
   ],
   "source": [
    "Test_totalLines(8,13,20,7,20)"
   ]
  },
  {
   "cell_type": "markdown",
   "metadata": {
    "jp-MarkdownHeadingCollapsed": true,
    "tags": []
   },
   "source": [
    "#### Another method to calculate number of lines, using angles"
   ]
  },
  {
   "cell_type": "code",
   "execution_count": 27,
   "metadata": {},
   "outputs": [],
   "source": [
    "# This function recieves 3 parameters:\n",
    "\n",
    "## 1. 'drawing' \n",
    "## 2. 'degree_limit' --> Used to determine whether a new line is being drawn.\n",
    "## 3. 'dis_limit' --> Used to determine whether a new shape is being drawn. \n",
    "\n",
    "# It returns the number of lines within the drawing.\n",
    "\n",
    "def num_of_lines(drawing, degree_limit, dis_limit):\n",
    "    \n",
    "    drawing = divied_2_shapes(drawing,dis_limit)\n",
    "    num_of_lines = 1\n",
    "    num_of_shape = 1\n",
    "    total_shapes = n_of_h_l(drawing,dis_limit)\n",
    "    \n",
    "    while (num_of_shape <= total_shapes):\n",
    "        \n",
    "        shape_df = drawing[drawing['num_of_shape'] == num_of_shape]\n",
    "        amount = shape_df[ (shape_df['diff_angle'] >= degree_limit) | (shape_df['diff_angle'] <= -degree_limit)].shape[0]\n",
    "        num_of_lines += amount\n",
    "        \n",
    "        num_of_shape += 1\n",
    "        \n",
    "    return num_of_lines"
   ]
  },
  {
   "cell_type": "markdown",
   "metadata": {
    "jp-MarkdownHeadingCollapsed": true,
    "tags": []
   },
   "source": [
    "### Main function: How many open shapes?"
   ]
  },
  {
   "cell_type": "code",
   "execution_count": 31,
   "metadata": {},
   "outputs": [],
   "source": [
    "# This function will loop over our 'drawing' DataFrame.\n",
    "# It'll send sub-DataFrames, each representing a different shape to 'isOpenShape' function.\n",
    "# this function will return a Boolean list. \n",
    "# The i-th slot value is True <=> The i-th shape of the drawing is open.\n",
    "\n",
    "def shapeStatus(drawing, distanceLimit, margin):\n",
    "    \n",
    "    # The Boolean list to be returned.\n",
    "    status = []\n",
    "    \n",
    "    # Get the amount of different shapes (hand lifts):\n",
    "    shapeAmount =  n_of_h_l(drawing, distanceLimit)\n",
    "    \n",
    "    # Creating temporary copy of 'Drawing' dataset.\n",
    "    temp = drawing.copy()\n",
    "    temp = divide_2_shapes(temp, distanceLimit) \n",
    "    \n",
    "    currentShapeNum = 1\n",
    "    while (currentShapeNum <= shapeAmount):\n",
    "        \n",
    "        shape_df = temp[temp['num_of_shape'] == currentShapeNum] \n",
    "        value = checkIfOpen(shape_df, margin)\n",
    "        status.append(value)\n",
    "        \n",
    "        currentShapeNum += 1\n",
    "    \n",
    "    return status"
   ]
  },
  {
   "cell_type": "markdown",
   "metadata": {
    "tags": []
   },
   "source": [
    "#### Assistant functions for shapeStatus function:"
   ]
  },
  {
   "cell_type": "code",
   "execution_count": 254,
   "metadata": {},
   "outputs": [],
   "source": [
    "# This function receives a drawing of a specific shape.\n",
    "# Returns true <=> The shape is open.\n",
    "def checkIfOpen(shape_df, margin):\n",
    "    \n",
    "    # index of the current row:\n",
    "    index = 0\n",
    "    \n",
    "    # length (how many rows) of DataFrame:\n",
    "    rowAmount = shape_df.shape[0]\n",
    "    \n",
    "    while (index < rowAmount):\n",
    "        \n",
    "        xValue = shape_df.iloc[index, 0]\n",
    "        yValue = shape_df.iloc[index, 1]\n",
    "        if (hasCrossed(shape_df, xValue, yValue, index, margin)):\n",
    "            return False # Shape is closed.\n",
    "        \n",
    "        index += 1\n",
    "        \n",
    "    return True # Shape is open."
   ]
  },
  {
   "cell_type": "code",
   "execution_count": 262,
   "metadata": {},
   "outputs": [],
   "source": [
    "# This function receives:\n",
    "\n",
    "# 1. a dataframe drawing of a specific shape.\n",
    "# 2. <x,y> values --> Check whether a data-point has those values.\n",
    "# 3. index value --> Make sure we're not comparing a data-point to itself.\n",
    "\n",
    "# Returns true <=> The shape is closed.\n",
    "\n",
    "def hasCrossed(shapeDrawing, xValue, yValue, index, margin):\n",
    "    \n",
    "    # Number of DataFrame rows.\n",
    "    numOfRows = shapeDrawing.shape[0]\n",
    "    \n",
    "    i = 0\n",
    "    while (i < numOfRows):\n",
    "        \n",
    "        xPoint = shapeDrawing.iloc[i,0]\n",
    "        yPoint = shapeDrawing.iloc[i,1]\n",
    "        \n",
    "        # Are we comparing a row to itself?\n",
    "        if ( (i < index - 10) or (i > index + 10) ):\n",
    "            \n",
    "            distance_ = distance(xValue,yValue,xPoint,yPoint)\n",
    "            \n",
    "            if (distance_ <= margin):\n",
    "                # print ('xPoint = xValue = ', xPoint)\n",
    "                # print ('yPoint = yValue = ', yPoint)\n",
    "                # print ('i = ',i)\n",
    "                # print ('index = ',index)\n",
    "                return True # Found another point with same coordinates.\n",
    "        \n",
    "        i += 1\n",
    "    \n",
    "    return False"
   ]
  },
  {
   "cell_type": "markdown",
   "metadata": {},
   "source": [
    "#### Testing the shapeStatus function:"
   ]
  },
  {
   "cell_type": "code",
   "execution_count": null,
   "metadata": {},
   "outputs": [],
   "source": [
    "def Test_shapeStatus(kid_n,draw_n, distanceLimit, val, margin):\n",
    "    print(\"number of hand lifts:\",n_of_h_l(get_df(kid_n,draw_n),distanceLimit))\n",
    "    print(\"number of lines (divied to shapes):\",totalLines(get_df(kid_n,draw_n),distanceLimit,val,margin))\n",
    "    get_draw(kid_n,draw_n)"
   ]
  },
  {
   "cell_type": "markdown",
   "metadata": {},
   "source": [
    "# -------------------------"
   ]
  }
 ],
 "metadata": {
  "kernelspec": {
   "display_name": "Python 3 (ipykernel)",
   "language": "python",
   "name": "python3"
  },
  "language_info": {
   "codemirror_mode": {
    "name": "ipython",
    "version": 3
   },
   "file_extension": ".py",
   "mimetype": "text/x-python",
   "name": "python",
   "nbconvert_exporter": "python",
   "pygments_lexer": "ipython3",
   "version": "3.9.7"
  },
  "widgets": {
   "application/vnd.jupyter.widget-state+json": {
    "state": {},
    "version_major": 2,
    "version_minor": 0
   }
  }
 },
 "nbformat": 4,
 "nbformat_minor": 4
}
