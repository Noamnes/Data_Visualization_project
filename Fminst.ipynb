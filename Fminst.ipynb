{
 "cells": [
  {
   "cell_type": "markdown",
   "id": "029914b3-c3ac-40ef-802a-2f1bab484355",
   "metadata": {
    "jp-MarkdownHeadingCollapsed": true,
    "tags": []
   },
   "source": [
    "## imports"
   ]
  },
  {
   "cell_type": "code",
   "execution_count": 129,
   "id": "6b6cddf5-b6e8-4426-98d5-270958b481c8",
   "metadata": {
    "tags": []
   },
   "outputs": [],
   "source": [
    "import numpy as np\n",
    "import pandas as pd\n",
    "import sklearn \n",
    "from sklearn.neighbors import KNeighborsClassifier\n",
    "from sklearn.model_selection import GridSearchCV\n",
    "from sklearn.model_selection import train_test_split\n",
    "from sklearn.metrics import mean_squared_error\n",
    "from sklearn.metrics import accuracy_score\n",
    "from sklearn.linear_model import LogisticRegression"
   ]
  },
  {
   "cell_type": "markdown",
   "id": "98832553-dd54-450f-818a-2f62f56235da",
   "metadata": {
    "tags": [],
    "toc-hr-collapsed": true
   },
   "source": [
    "## AID FUNCTIONS:"
   ]
  },
  {
   "cell_type": "code",
   "execution_count": 152,
   "id": "7c7bf559",
   "metadata": {
    "tags": []
   },
   "outputs": [],
   "source": [
    "def to_label(num):\n",
    "    if(num==0): return \"T-shirt/top\"\n",
    "    if(num==1): return \"Trouser\"\n",
    "    if(num==2): return \"Pullover\"\n",
    "    if(num==3): return \"Dress\"\n",
    "    if(num==4): return \"Coat\"\n",
    "    if(num==5): return \"Sandal\"\n",
    "    if(num==6): return \"Shirt\"\n",
    "    if(num==7): return \"Sneaker\"\n",
    "    if(num==8): return \"Bag\"\n",
    "    if(num==9): return \"Ankle boot\"\n",
    "    else: return -1\n",
    "to_label(100)\n",
    "\n",
    "def to_exp_var(ndarr):\n",
    "    sum = 0\n",
    "    for x in ndarr:\n",
    "        sum +=x\n",
    "    return sum"
   ]
  },
  {
   "cell_type": "markdown",
   "id": "061c856e",
   "metadata": {
    "tags": []
   },
   "source": [
    "## viewing the data and making models :"
   ]
  },
  {
   "cell_type": "code",
   "execution_count": 131,
   "id": "cfdd0d8a-a1a6-4add-9388-c3ddc39503e5",
   "metadata": {
    "tags": []
   },
   "outputs": [],
   "source": [
    "train_df = pd.read_csv(\"fashion-mnist_train.csv\") ## takes less then 10 sec's\n",
    "test_df = pd.read_csv(\"fashion-mnist_test.csv\")"
   ]
  },
  {
   "cell_type": "markdown",
   "id": "2260ce58-d0a9-46ff-9991-e07c033e3d23",
   "metadata": {
    "jp-MarkdownHeadingCollapsed": true,
    "tags": []
   },
   "source": [
    "### viewing the data: "
   ]
  },
  {
   "cell_type": "code",
   "execution_count": 132,
   "id": "f6a972b9-98fd-44ac-87c5-88f9a19f4ec6",
   "metadata": {
    "tags": []
   },
   "outputs": [
    {
     "data": {
      "text/plain": [
       "label\n",
       "0    1000\n",
       "1    1000\n",
       "2    1000\n",
       "3    1000\n",
       "4    1000\n",
       "5    1000\n",
       "6    1000\n",
       "7    1000\n",
       "8    1000\n",
       "9    1000\n",
       "Name: pixel1, dtype: int64"
      ]
     },
     "execution_count": 132,
     "metadata": {},
     "output_type": "execute_result"
    }
   ],
   "source": [
    "train_df.shape ## showing the data's shape\n",
    "test_df.shape  ##\n",
    "train_df.columns  ## columns\n",
    "train_df.head()\n",
    "train_df.isnull().sum().unique() ## checking if there is null values\n",
    "test_df.isnull().sum().unique()  ##\n",
    "train_df.groupby(\"label\").count()[\"pixel1\"] ## or write: \"train.label.value_counts()\"\n",
    "test_df.groupby(\"label\").count()[\"pixel1\"]  ## or write: \"test.label.value_counts()\""
   ]
  },
  {
   "cell_type": "markdown",
   "id": "44b1518b-d967-4dca-bd67-4df6b736e87e",
   "metadata": {
    "jp-MarkdownHeadingCollapsed": true,
    "tags": []
   },
   "source": [
    "#### comments:"
   ]
  },
  {
   "cell_type": "markdown",
   "id": "b7415eda",
   "metadata": {
    "tags": []
   },
   "source": [
    "##### i want to: <br>1. add visualisation for the number of samples in each label. <br>2. add a way to see the photos of the dataset.\n",
    "##### the missions are in importence-decrecing order. and both of them have solution<br>in one of the notebooks of kaggle in this data set page: https: //www.kaggle.com/code/meetnagadia/cnn-on-fashionmnist#Conclusion"
   ]
  },
  {
   "cell_type": "markdown",
   "id": "80eac10f-8b16-468d-b0ea-dff2a887ac84",
   "metadata": {
    "tags": []
   },
   "source": [
    "### training the data"
   ]
  },
  {
   "cell_type": "code",
   "execution_count": 133,
   "id": "62f0256c-d953-4cc4-9080-466601e1c5a3",
   "metadata": {
    "tags": []
   },
   "outputs": [],
   "source": [
    "## spliting to target and features:\n",
    "X_train = train_df.iloc[:,1:]\n",
    "y_train = train_df.iloc[:,0]\n",
    "X_test = test_df.iloc[:,1:]\n",
    "y_test = test_df.iloc[:,0]"
   ]
  },
  {
   "cell_type": "code",
   "execution_count": 134,
   "id": "92e39bcb-e6d4-45db-9726-47c5a78b9348",
   "metadata": {
    "collapsed": true,
    "jupyter": {
     "outputs_hidden": true,
     "source_hidden": true
    },
    "tags": []
   },
   "outputs": [
    {
     "name": "stdout",
     "output_type": "stream",
     "text": [
      "(60000, 784)\n",
      "(60000,)\n",
      "(10000, 784)\n",
      "(10000,)\n"
     ]
    }
   ],
   "source": [
    "print(X_train.shape)\n",
    "print(y_train.shape)\n",
    "print(X_test.shape)\n",
    "print(y_test.shape)"
   ]
  },
  {
   "cell_type": "markdown",
   "id": "43fdb9ca-381e-4e2f-a983-ba222505bc7c",
   "metadata": {
    "jp-MarkdownHeadingCollapsed": true,
    "tags": []
   },
   "source": [
    "#### PCA "
   ]
  },
  {
   "cell_type": "code",
   "execution_count": 135,
   "id": "de678b0e-21fd-4bcd-aab8-e614ae8aa655",
   "metadata": {},
   "outputs": [],
   "source": [
    "from sklearn.preprocessing import StandardScaler\n",
    "scaler = StandardScaler()\n",
    "\n",
    "## fit the scaler on train only\n",
    "scaler.fit(X_train)\n",
    "\n",
    "# apply transform to *train and test*:\n",
    "X_train_sca = scaler.transform(X_train)\n",
    "X_test_sca = scaler.transform(X_test)"
   ]
  },
  {
   "cell_type": "code",
   "execution_count": 158,
   "id": "189f2d2e-de97-4505-aec5-d5f959bb61c6",
   "metadata": {},
   "outputs": [
    {
     "data": {
      "text/plain": [
       "0.9297933788412176"
      ]
     },
     "execution_count": 158,
     "metadata": {},
     "output_type": "execute_result"
    }
   ],
   "source": [
    "from sklearn.decomposition import PCA\n",
    "pca = PCA(196)\n",
    "pca.fit(X_train_sca)\n",
    "to_exp_var(pca.explained_variance_ratio_)"
   ]
  },
  {
   "cell_type": "code",
   "execution_count": 159,
   "id": "f241acc3-b7d9-48f2-ada7-f25df541b48a",
   "metadata": {},
   "outputs": [],
   "source": [
    "X_train_pca = pca.transform(X_train_sca)\n",
    "X_test_pca = pca.transform(X_test_sca)"
   ]
  },
  {
   "cell_type": "markdown",
   "id": "e164057f-f53b-43ce-ba73-fb0379ab7318",
   "metadata": {
    "tags": []
   },
   "source": [
    "#### XGBoost"
   ]
  },
  {
   "cell_type": "code",
   "execution_count": 193,
   "id": "4d416e8f-96d7-4530-866e-af72795c995e",
   "metadata": {},
   "outputs": [],
   "source": [
    "# from numpy import loadtxt\n",
    "import xgboost as xgb\n",
    "\n",
    "# from sklearn.model_selection import train_test_split\n",
    "# from sklearn.metrics import accuracy_score"
   ]
  },
  {
   "cell_type": "markdown",
   "id": "b9d5fea1-8270-4375-8c66-d26caeb3ec2b",
   "metadata": {
    "jp-MarkdownHeadingCollapsed": true,
    "tags": []
   },
   "source": [
    "#### KNN"
   ]
  },
  {
   "cell_type": "markdown",
   "id": "7f7879e3-f9c8-47e3-8b37-ff3a85df5337",
   "metadata": {
    "jp-MarkdownHeadingCollapsed": true,
    "tags": []
   },
   "source": [
    "##### classic Knn"
   ]
  },
  {
   "cell_type": "markdown",
   "id": "adb08432-5676-4d74-91c4-5d086f2d926e",
   "metadata": {
    "jp-MarkdownHeadingCollapsed": true,
    "tags": []
   },
   "source": [
    "###### classic Knn without PCA"
   ]
  },
  {
   "cell_type": "code",
   "execution_count": 98,
   "id": "01193ebd-2e23-48c1-bac1-a78304ccbaff",
   "metadata": {
    "tags": []
   },
   "outputs": [
    {
     "name": "stdout",
     "output_type": "stream",
     "text": [
      "test score: 0.8691\n"
     ]
    }
   ],
   "source": [
    "    ## all this code takes up to 2:05 min\n",
    "knn = KNeighborsClassifier().fit(X_train,y_train) ## immediate!!\n",
    "# print(\"train score:\",knn.score(X_train,y_train)) \n",
    "print(\"test score:\",knn.score(X_test,y_test)) "
   ]
  },
  {
   "cell_type": "markdown",
   "id": "7abdea92-9b00-48de-bfcf-13a7a90ce249",
   "metadata": {
    "jp-MarkdownHeadingCollapsed": true,
    "tags": []
   },
   "source": [
    "###### classic Knn with PCA"
   ]
  },
  {
   "cell_type": "code",
   "execution_count": 107,
   "id": "afb2d474-afc1-4593-92fc-74989987de54",
   "metadata": {},
   "outputs": [
    {
     "data": {
      "text/plain": [
       "0.8283"
      ]
     },
     "execution_count": 107,
     "metadata": {},
     "output_type": "execute_result"
    }
   ],
   "source": [
    "knn = KNeighborsClassifier().fit(X_train_pca,y_train)\n",
    "knn.score(X_test_pca,y_test) ## takes up to 15 secs, shorter then before."
   ]
  },
  {
   "cell_type": "markdown",
   "id": "3a22e1d3-5c64-4314-baad-98ed806f8234",
   "metadata": {
    "tags": []
   },
   "source": [
    "##### Knn grid_search "
   ]
  },
  {
   "cell_type": "markdown",
   "id": "438ba41b-8b58-4e56-a511-991322bea5c2",
   "metadata": {
    "jp-MarkdownHeadingCollapsed": true,
    "tags": []
   },
   "source": [
    "###### Knn grid_search without PCA"
   ]
  },
  {
   "cell_type": "code",
   "execution_count": 122,
   "id": "e9547673-42ab-486e-bd67-a69993f0d1a6",
   "metadata": {
    "tags": []
   },
   "outputs": [
    {
     "ename": "SyntaxError",
     "evalue": "invalid syntax (Temp/ipykernel_1344/921052143.py, line 1)",
     "output_type": "error",
     "traceback": [
      "\u001b[1;36m  File \u001b[1;32m\"C:\\Users\\noams\\AppData\\Local\\Temp/ipykernel_1344/921052143.py\"\u001b[1;36m, line \u001b[1;32m1\u001b[0m\n\u001b[1;33m    ******takes up to 12 mins!!!*******\u001b[0m\n\u001b[1;37m    ^\u001b[0m\n\u001b[1;31mSyntaxError\u001b[0m\u001b[1;31m:\u001b[0m invalid syntax\n"
     ]
    }
   ],
   "source": [
    "        ******takes up to 12 mins!!!******* \n",
    "    ## with 5cv 1n and \"euclidian\" it took 1:10\n",
    "    ## with 5cv 5n and \"minkowski\" it took 1:26\n",
    "    ## whit 6cv 5n and \"minkowski\" it took 1:16\n",
    "grid_params = {\n",
    "    \"n_neighbors\": [5],\n",
    "    \"weights\": [\"uniform\"],\n",
    "    \"metric\" : [\"minkowski\"]\n",
    "}\n",
    "gs = GridSearchCV(KNeighborsClassifier(), grid_params, cv=6) ## immediate!!\n",
    "gs.fit(X_train,y_train) "
   ]
  },
  {
   "cell_type": "code",
   "execution_count": 37,
   "id": "9705c494-a43d-4b8a-9131-9bae7f6d190a",
   "metadata": {
    "collapsed": true,
    "jupyter": {
     "outputs_hidden": true
    },
    "tags": []
   },
   "outputs": [
    {
     "data": {
      "text/html": [
       "<div>\n",
       "<style scoped>\n",
       "    .dataframe tbody tr th:only-of-type {\n",
       "        vertical-align: middle;\n",
       "    }\n",
       "\n",
       "    .dataframe tbody tr th {\n",
       "        vertical-align: top;\n",
       "    }\n",
       "\n",
       "    .dataframe thead th {\n",
       "        text-align: right;\n",
       "    }\n",
       "</style>\n",
       "<table border=\"1\" class=\"dataframe\">\n",
       "  <thead>\n",
       "    <tr style=\"text-align: right;\">\n",
       "      <th></th>\n",
       "      <th>mean_test_score</th>\n",
       "      <th>std_test_score</th>\n",
       "      <th>params</th>\n",
       "    </tr>\n",
       "  </thead>\n",
       "  <tbody>\n",
       "    <tr>\n",
       "      <th>0</th>\n",
       "      <td>0.850717</td>\n",
       "      <td>0.002896</td>\n",
       "      <td>{'metric': 'euclidean', 'n_neighbors': 1, 'wei...</td>\n",
       "    </tr>\n",
       "    <tr>\n",
       "      <th>1</th>\n",
       "      <td>0.850717</td>\n",
       "      <td>0.002896</td>\n",
       "      <td>{'metric': 'euclidean', 'n_neighbors': 1, 'wei...</td>\n",
       "    </tr>\n",
       "    <tr>\n",
       "      <th>2</th>\n",
       "      <td>0.856800</td>\n",
       "      <td>0.002962</td>\n",
       "      <td>{'metric': 'euclidean', 'n_neighbors': 5, 'wei...</td>\n",
       "    </tr>\n",
       "    <tr>\n",
       "      <th>3</th>\n",
       "      <td>0.857817</td>\n",
       "      <td>0.002975</td>\n",
       "      <td>{'metric': 'euclidean', 'n_neighbors': 5, 'wei...</td>\n",
       "    </tr>\n",
       "    <tr>\n",
       "      <th>4</th>\n",
       "      <td>0.853967</td>\n",
       "      <td>0.003617</td>\n",
       "      <td>{'metric': 'euclidean', 'n_neighbors': 10, 'we...</td>\n",
       "    </tr>\n",
       "    <tr>\n",
       "      <th>5</th>\n",
       "      <td>0.855733</td>\n",
       "      <td>0.003143</td>\n",
       "      <td>{'metric': 'euclidean', 'n_neighbors': 10, 'we...</td>\n",
       "    </tr>\n",
       "  </tbody>\n",
       "</table>\n",
       "</div>"
      ],
      "text/plain": [
       "   mean_test_score  std_test_score  \\\n",
       "0         0.850717        0.002896   \n",
       "1         0.850717        0.002896   \n",
       "2         0.856800        0.002962   \n",
       "3         0.857817        0.002975   \n",
       "4         0.853967        0.003617   \n",
       "5         0.855733        0.003143   \n",
       "\n",
       "                                              params  \n",
       "0  {'metric': 'euclidean', 'n_neighbors': 1, 'wei...  \n",
       "1  {'metric': 'euclidean', 'n_neighbors': 1, 'wei...  \n",
       "2  {'metric': 'euclidean', 'n_neighbors': 5, 'wei...  \n",
       "3  {'metric': 'euclidean', 'n_neighbors': 5, 'wei...  \n",
       "4  {'metric': 'euclidean', 'n_neighbors': 10, 'we...  \n",
       "5  {'metric': 'euclidean', 'n_neighbors': 10, 'we...  "
      ]
     },
     "execution_count": 37,
     "metadata": {},
     "output_type": "execute_result"
    }
   ],
   "source": [
    "# print(gs.best_score_)\n",
    "# print(gs.best_estimator_)\n",
    "# print(gs.best_params_)\n",
    "pd.DataFrame(gs.cv_results_)[['mean_test_score', 'std_test_score', 'params']] ## ridiculous: the diffrence between the \n",
    "                                                                              ## scores are unsegnificent"
   ]
  },
  {
   "cell_type": "code",
   "execution_count": null,
   "id": "3c768ae6-eb22-4008-91ad-45c7fc26a440",
   "metadata": {
    "tags": []
   },
   "outputs": [],
   "source": [
    "knn_gs = KNeighborsClassifier().fit(X_train,y_train) ## immediate!!\n",
    "print(\"train score:\",knn.score(X_train,y_train)) \n",
    "print(\"test score:\",knn.score(X_test,y_test)) "
   ]
  },
  {
   "cell_type": "markdown",
   "id": "bc46cd5b-ea88-4cd2-9be9-c10cb43eb8fd",
   "metadata": {
    "tags": []
   },
   "source": [
    "###### Knn grid_search with PCA"
   ]
  },
  {
   "cell_type": "code",
   "execution_count": 160,
   "id": "22ab85f6-72b3-4d30-a12c-c0711dde6bdc",
   "metadata": {
    "tags": []
   },
   "outputs": [
    {
     "data": {
      "text/plain": [
       "GridSearchCV(cv=6, estimator=KNeighborsClassifier(),\n",
       "             param_grid={'metric': ['minkowski'], 'n_neighbors': [1, 5, 10],\n",
       "                         'weights': ['uniform', 'distance']})"
      ]
     },
     "execution_count": 160,
     "metadata": {},
     "output_type": "execute_result"
    }
   ],
   "source": [
    "        # ******takes up to 4:15 min, better! !!!******* \n",
    "    ## with 5cv 1n and \"euclidian\" it took \n",
    "    ## with 5cv 5n and \"minkowski\" it took \n",
    "    ## whit 6cv 5n and \"minkowski\" it took \n",
    "grid_params = {\n",
    "    \"n_neighbors\": [1,5,10],\n",
    "    \"weights\": [\"uniform\",\"distance\"],\n",
    "    \"metric\" : [\"minkowski\"]\n",
    "}\n",
    "gs = GridSearchCV(KNeighborsClassifier(), grid_params, cv=6) ## immediate!!\n",
    "gs.fit(X_train_pca,y_train) "
   ]
  },
  {
   "cell_type": "code",
   "execution_count": 161,
   "id": "fcb47751-a477-43b0-bb27-2c4011789c44",
   "metadata": {
    "tags": []
   },
   "outputs": [
    {
     "data": {
      "text/html": [
       "<div>\n",
       "<style scoped>\n",
       "    .dataframe tbody tr th:only-of-type {\n",
       "        vertical-align: middle;\n",
       "    }\n",
       "\n",
       "    .dataframe tbody tr th {\n",
       "        vertical-align: top;\n",
       "    }\n",
       "\n",
       "    .dataframe thead th {\n",
       "        text-align: right;\n",
       "    }\n",
       "</style>\n",
       "<table border=\"1\" class=\"dataframe\">\n",
       "  <thead>\n",
       "    <tr style=\"text-align: right;\">\n",
       "      <th></th>\n",
       "      <th>mean_test_score</th>\n",
       "      <th>std_test_score</th>\n",
       "      <th>params</th>\n",
       "    </tr>\n",
       "  </thead>\n",
       "  <tbody>\n",
       "    <tr>\n",
       "      <th>0</th>\n",
       "      <td>0.851083</td>\n",
       "      <td>0.001734</td>\n",
       "      <td>{'metric': 'minkowski', 'n_neighbors': 1, 'wei...</td>\n",
       "    </tr>\n",
       "    <tr>\n",
       "      <th>1</th>\n",
       "      <td>0.851083</td>\n",
       "      <td>0.001734</td>\n",
       "      <td>{'metric': 'minkowski', 'n_neighbors': 1, 'wei...</td>\n",
       "    </tr>\n",
       "    <tr>\n",
       "      <th>2</th>\n",
       "      <td>0.862750</td>\n",
       "      <td>0.001528</td>\n",
       "      <td>{'metric': 'minkowski', 'n_neighbors': 5, 'wei...</td>\n",
       "    </tr>\n",
       "    <tr>\n",
       "      <th>3</th>\n",
       "      <td>0.864267</td>\n",
       "      <td>0.001748</td>\n",
       "      <td>{'metric': 'minkowski', 'n_neighbors': 5, 'wei...</td>\n",
       "    </tr>\n",
       "    <tr>\n",
       "      <th>4</th>\n",
       "      <td>0.863183</td>\n",
       "      <td>0.001704</td>\n",
       "      <td>{'metric': 'minkowski', 'n_neighbors': 10, 'we...</td>\n",
       "    </tr>\n",
       "    <tr>\n",
       "      <th>5</th>\n",
       "      <td>0.863833</td>\n",
       "      <td>0.001937</td>\n",
       "      <td>{'metric': 'minkowski', 'n_neighbors': 10, 'we...</td>\n",
       "    </tr>\n",
       "  </tbody>\n",
       "</table>\n",
       "</div>"
      ],
      "text/plain": [
       "   mean_test_score  std_test_score  \\\n",
       "0         0.851083        0.001734   \n",
       "1         0.851083        0.001734   \n",
       "2         0.862750        0.001528   \n",
       "3         0.864267        0.001748   \n",
       "4         0.863183        0.001704   \n",
       "5         0.863833        0.001937   \n",
       "\n",
       "                                              params  \n",
       "0  {'metric': 'minkowski', 'n_neighbors': 1, 'wei...  \n",
       "1  {'metric': 'minkowski', 'n_neighbors': 1, 'wei...  \n",
       "2  {'metric': 'minkowski', 'n_neighbors': 5, 'wei...  \n",
       "3  {'metric': 'minkowski', 'n_neighbors': 5, 'wei...  \n",
       "4  {'metric': 'minkowski', 'n_neighbors': 10, 'we...  \n",
       "5  {'metric': 'minkowski', 'n_neighbors': 10, 'we...  "
      ]
     },
     "execution_count": 161,
     "metadata": {},
     "output_type": "execute_result"
    }
   ],
   "source": [
    "# print(gs.best_score_)\n",
    "# print(gs.best_estimator_)\n",
    "# print(gs.best_params_)\n",
    "pd.DataFrame(gs.cv_results_)[['mean_test_score', 'std_test_score', 'params']] ## ridiculous: the diffrence between the \n",
    "                                                                              ## scores are unsegnificent"
   ]
  },
  {
   "cell_type": "code",
   "execution_count": 187,
   "id": "346ffaf1-131d-4e1b-990f-e75d8eb5548e",
   "metadata": {
    "tags": []
   },
   "outputs": [
    {
     "data": {
      "text/plain": [
       "0.8691"
      ]
     },
     "execution_count": 187,
     "metadata": {},
     "output_type": "execute_result"
    }
   ],
   "source": [
    "knn_gs = KNeighborsClassifier().fit(X_train_pca,y_train) ## immediate!!\n",
    "# print(\"train score:\",knn.score(X_train_pca,y_train)) \n",
    "# print(\"test score:\",knn.score(X_test,y_test)) \n",
    "knn_gs.score(X_test_pca,y_test)\n"
   ]
  },
  {
   "cell_type": "markdown",
   "id": "10735f5a-af83-4074-9791-8007d92694d5",
   "metadata": {
    "jp-MarkdownHeadingCollapsed": true,
    "tags": []
   },
   "source": [
    "#### logistic regretion"
   ]
  },
  {
   "cell_type": "markdown",
   "id": "f9648158-390d-45bc-a004-81fa30b0250d",
   "metadata": {},
   "source": [
    "##### classic log reg"
   ]
  },
  {
   "cell_type": "code",
   "execution_count": null,
   "id": "de06c8b5-1710-4df2-9d11-62199cf91925",
   "metadata": {},
   "outputs": [
    {
     "name": "stderr",
     "output_type": "stream",
     "text": [
      "C:\\Users\\noams\\anaconda3\\lib\\site-packages\\sklearn\\linear_model\\_logistic.py:763: ConvergenceWarning: lbfgs failed to converge (status=1):\n",
      "STOP: TOTAL NO. of ITERATIONS REACHED LIMIT.\n",
      "\n",
      "Increase the number of iterations (max_iter) or scale the data as shown in:\n",
      "    https://scikit-learn.org/stable/modules/preprocessing.html\n",
      "Please also refer to the documentation for alternative solver options:\n",
      "    https://scikit-learn.org/stable/modules/linear_model.html#logistic-regression\n",
      "  n_iter_i = _check_optimize_result(\n"
     ]
    },
    {
     "data": {
      "text/plain": [
       "LogisticRegression()"
      ]
     },
     "execution_count": 13,
     "metadata": {},
     "output_type": "execute_result"
    }
   ],
   "source": [
    "logreg = LogisticRegression()\n",
    "logreg.fit(X_train,y_train) ## takes up to 7 secs"
   ]
  },
  {
   "cell_type": "code",
   "execution_count": null,
   "id": "1e8f3217-7d91-47ef-be2a-5c1c053c20bf",
   "metadata": {},
   "outputs": [
    {
     "data": {
      "text/plain": [
       "0.8544"
      ]
     },
     "execution_count": 14,
     "metadata": {},
     "output_type": "execute_result"
    }
   ],
   "source": [
    "logreg.score(X_test,y_test)"
   ]
  },
  {
   "cell_type": "markdown",
   "id": "b6f83f67-fea8-417c-ae51-923f7c41d4bd",
   "metadata": {},
   "source": [
    "##### grid search log reg"
   ]
  },
  {
   "cell_type": "markdown",
   "id": "12d0850e-a46b-434e-a08c-75d5f99eb1be",
   "metadata": {},
   "source": [
    "###### comment: <br> check how to do grid search on logistic regresstion on the fmnist <br> check how to \"cv 2\" but with 0.10 test group each time"
   ]
  },
  {
   "cell_type": "code",
   "execution_count": null,
   "id": "91389680-542b-4283-a5b1-ee9c55dbff99",
   "metadata": {},
   "outputs": [],
   "source": [
    "logreg = LogisticRegression()\n",
    "\n",
    "param_grid = {\n",
    "        \"solver\": [\"saga\"]\n",
    "        # \"penalty\": [\"none\", \"l1\",\"l2\", \"elasticnet\"],\n",
    "        # \"C\" : [100, 10, 1.0, 0.1, 0.01]\n",
    "\n",
    "        #              >1:30       1:40      >2:30       1:15  >4:30\n",
    "        # \"solver\": [\"newton-cg\", \"lbfgs\", \"liblinear\", \"sag\",\"saga\"],\n",
    "        # \"penalty\": [\"none\", \"l1\",\"l2\", \"elasticnet\"],\n",
    "        # \"C\" : [100, 10, 1.0, 0.1, 0.01]\n",
    "}\n",
    "print(param_grid)\n",
    "\n",
    "gs = GridSearchCV(LogisticRegression(),param_grid=param_grid,scoring=accuracy_score,cv=10)\n",
    "gs.fit(X,y)"
   ]
  },
  {
   "cell_type": "code",
   "execution_count": null,
   "id": "ae152527-07a0-482d-8bf0-abcb3b088124",
   "metadata": {},
   "outputs": [
    {
     "name": "stdout",
     "output_type": "stream",
     "text": [
      "hi\n"
     ]
    }
   ],
   "source": [
    "print(\"hi\")"
   ]
  },
  {
   "cell_type": "code",
   "execution_count": null,
   "id": "32cfe346-5c1e-4103-b21e-c13a7ab7f9c6",
   "metadata": {},
   "outputs": [
    {
     "data": {
      "text/plain": [
       "0.8487777777777777"
      ]
     },
     "execution_count": 45,
     "metadata": {},
     "output_type": "execute_result"
    }
   ],
   "source": [
    "logreg.score(X_test,y_test)"
   ]
  },
  {
   "cell_type": "markdown",
   "id": "25c359c7",
   "metadata": {
    "tags": []
   },
   "source": [
    "### i tried to chek if the comment \"indicating the lightness or darkness of that pixel, _with higher numbers meaning darker_\" is wrong. i think it is... the following cell is the try to debunk:"
   ]
  },
  {
   "cell_type": "code",
   "execution_count": null,
   "id": "6065d6b9",
   "metadata": {},
   "outputs": [],
   "source": [
    "# print(train_df.pixel1.unique())\n",
    "# print(train_df.pixel2.unique())\n",
    "# print(train_df.pixel3.unique())\n",
    "# train_df[\"label\" == 0] ## checking the snickers, do know why but it makes an exception."
   ]
  }
 ],
 "metadata": {
  "kernelspec": {
   "display_name": "Python 3 (ipykernel)",
   "language": "python",
   "name": "python3"
  },
  "language_info": {
   "codemirror_mode": {
    "name": "ipython",
    "version": 3
   },
   "file_extension": ".py",
   "mimetype": "text/x-python",
   "name": "python",
   "nbconvert_exporter": "python",
   "pygments_lexer": "ipython3",
   "version": "3.9.7"
  },
  "toc-autonumbering": false,
  "toc-showcode": false,
  "toc-showmarkdowntxt": false,
  "toc-showtags": false,
  "widgets": {
   "application/vnd.jupyter.widget-state+json": {
    "state": {},
    "version_major": 2,
    "version_minor": 0
   }
  }
 },
 "nbformat": 4,
 "nbformat_minor": 5
}
