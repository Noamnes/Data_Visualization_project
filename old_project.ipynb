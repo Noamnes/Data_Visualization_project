{
 "cells": [
  {
   "cell_type": "markdown",
   "id": "c0c26fe7",
   "metadata": {},
   "source": [
    "# scraping project for intro to data science"
   ]
  },
  {
   "cell_type": "markdown",
   "id": "480ec60f-319e-4e78-984f-6077570d64e1",
   "metadata": {
    "jp-MarkdownHeadingCollapsed": true,
    "tags": []
   },
   "source": [
    "## improts:"
   ]
  },
  {
   "cell_type": "code",
   "execution_count": 89,
   "id": "6141c317",
   "metadata": {},
   "outputs": [],
   "source": [
    "import numpy as np\n",
    "import pandas as pd\n",
    "import requests\n",
    "from bs4 import BeautifulSoup\n",
    "from tkinter import *\n",
    "import os\n",
    "import matplotlib.pyplot as plt\n",
    "import seaborn as sns\n",
    "from sklearn.model_selection import train_test_split\n",
    "from sklearn.metrics import mean_absolute_error, mean_squared_error,r2_score\n",
    "from sklearn.linear_model import LinearRegression, LassoCV, Lasso,Ridge, RidgeCV\n",
    "from sklearn.preprocessing import PolynomialFeatures\n",
    "from sklearn.model_selection import cross_val_score"
   ]
  },
  {
   "cell_type": "markdown",
   "id": "62d729bd",
   "metadata": {
    "jp-MarkdownHeadingCollapsed": true,
    "tags": []
   },
   "source": [
    "## aid functions:"
   ]
  },
  {
   "cell_type": "code",
   "execution_count": 90,
   "id": "21c6bb0b",
   "metadata": {},
   "outputs": [],
   "source": [
    "def maximum(grades):\n",
    "    m = grades[0]\n",
    "    for lis in grades:\n",
    "        if(lis[0]>m[0]):\n",
    "            m = lis\n",
    "    return m"
   ]
  },
  {
   "cell_type": "code",
   "execution_count": 91,
   "id": "c63d575f",
   "metadata": {},
   "outputs": [],
   "source": [
    "def poly_gridsearch_r2(X,y):\n",
    "    grades = []\n",
    "    for n in range(1,10):\n",
    "        for bias in [True,False]:\n",
    "            for interaction in [True,False]:\n",
    "                for intercept in [True,False]:\n",
    "                    pre_process = PolynomialFeatures(degree=n,include_bias=bias,interaction_only=interaction)\n",
    "                    X_poly = pre_process.fit_transform(X)\n",
    "                    linreg = LinearRegression(fit_intercept=intercept)\n",
    "                    scores = cross_val_score(linreg,X_poly,y,cv=10,scoring=\"r2\")\n",
    "                    grades.append([scores.mean(),n,bias,interaction,intercept])\n",
    "    return maximum(grades)"
   ]
  },
  {
   "cell_type": "code",
   "execution_count": 70,
   "id": "85f2e0ca",
   "metadata": {
    "tags": []
   },
   "outputs": [],
   "source": [
    "def show_regresion_error(true_values, predictions):\n",
    "    print(\"Root Mean squared error (test):\",mean_squared_error(true_values, predictions, squared=False))\n",
    "    print(\"Mean absolute error (test):\",mean_absolute_error(true_values, predictions ))\n",
    "    print(\"R2:\",r2_score(true_values,predictions))"
   ]
  },
  {
   "cell_type": "code",
   "execution_count": 71,
   "id": "5e3a21e0-6840-4a21-9cdf-d25fc19dab2f",
   "metadata": {
    "tags": []
   },
   "outputs": [],
   "source": [
    "## returns: (r2_score,mae,rmse)\n",
    "def regresion_error(true_values, predictions):\n",
    "    return(r2_score(true_values,predictions),mean_absolute_error(true_values, predictions),mean_squared_error(true_values, predictions, squared=False))"
   ]
  },
  {
   "cell_type": "code",
   "execution_count": 72,
   "id": "601add97-e476-4c76-b574-0d3c6743552f",
   "metadata": {},
   "outputs": [],
   "source": [
    "def show_regresion_error_tuple(regresion_error_tuple):\n",
    "    print(\"Root Mean squared error (test):\",regresion_error_tuple[2])\n",
    "    print(\"Mean absolute error (test):\",regresion_error_tuple[1])\n",
    "    print(\"R2:\",regresion_error_tuple[0])"
   ]
  },
  {
   "cell_type": "code",
   "execution_count": 73,
   "id": "a4ba13bb",
   "metadata": {},
   "outputs": [],
   "source": [
    "def zero_model(df,y_true,type_of_average):\n",
    "    if(\"mean\" in type_of_average):\n",
    "        ave = df.cost.mean()\n",
    "    else:\n",
    "        ave = df.cost.median()\n",
    "    y_pred_z = pd.Series([ave for x in range(len(df))])\n",
    "    print(\"*zero model* rmse: \",mean_squared_error(y,y_pred_z,squared=False))\n",
    "    print(\"*zero model* mae:\",mean_absolute_error(y,y_pred_z))"
   ]
  },
  {
   "cell_type": "markdown",
   "id": "cefcb4a9-04f1-4c5a-a749-ed0d97b4ad79",
   "metadata": {
    "jp-MarkdownHeadingCollapsed": true,
    "tags": []
   },
   "source": [
    "## intro:"
   ]
  },
  {
   "cell_type": "markdown",
   "id": "e2f4cba0-d8fd-436e-aa3c-970b2a20b09e",
   "metadata": {},
   "source": [
    "### in this project we are taking cars sales ads from the \"komo\" website using web-crawling. in the site all the sales add are divided into 4 car categories: private, commersial, jeeps and trucks. in every sale ad their are the following info about the cars: \"price\",\"km driven\",\"year of prudaction\" and some uninmportent info. we know that this data isn't going to yield the best results beacuase the lack of some importent features as the engine volum, if the car have manual transmission or automatic transmission, but we'll try to make the most out of it."
   ]
  },
  {
   "cell_type": "markdown",
   "id": "65bfff23-d389-472d-91e2-52f2e55104e4",
   "metadata": {
    "jp-MarkdownHeadingCollapsed": true,
    "tags": []
   },
   "source": [
    "## scraping and cleaning the data:"
   ]
  },
  {
   "cell_type": "markdown",
   "id": "95fcbb24",
   "metadata": {
    "jp-MarkdownHeadingCollapsed": true,
    "tags": []
   },
   "source": [
    "### scraping the data:"
   ]
  },
  {
   "cell_type": "code",
   "execution_count": 985,
   "id": "de305820",
   "metadata": {},
   "outputs": [],
   "source": [
    "## our target website haven't got all the sale ads in one url\n",
    "## so we'll go throgh all of the urls that store the sale ads\n",
    "## first we'll store them in a list:\n",
    "links = []\n",
    "for style in [\"private\",\"commercial\",\"jeeps\",\"trucks\"]:\n",
    "    for x in [(\"https://www.komo.co.il/code/cars/\"+style+\".asp?currPage=\"+y+\"&subLuachNum=1&collapsed=1\") for y in [\"1\",\"2\",\"3\",\"4\",\"5\",\"6\",\"7\",\"8\",\"9\",\"10\"]]:\n",
    "        links.append(x)"
   ]
  },
  {
   "cell_type": "code",
   "execution_count": 986,
   "id": "ee7347e6",
   "metadata": {
    "tags": []
   },
   "outputs": [
    {
     "data": {
      "text/plain": [
       "['https://www.komo.co.il/code/cars/private.asp?currPage=1&subLuachNum=1&collapsed=1',\n",
       " 'https://www.komo.co.il/code/cars/private.asp?currPage=2&subLuachNum=1&collapsed=1',\n",
       " 'https://www.komo.co.il/code/cars/private.asp?currPage=3&subLuachNum=1&collapsed=1',\n",
       " 'https://www.komo.co.il/code/cars/private.asp?currPage=4&subLuachNum=1&collapsed=1',\n",
       " 'https://www.komo.co.il/code/cars/private.asp?currPage=5&subLuachNum=1&collapsed=1',\n",
       " 'https://www.komo.co.il/code/cars/private.asp?currPage=6&subLuachNum=1&collapsed=1',\n",
       " 'https://www.komo.co.il/code/cars/private.asp?currPage=7&subLuachNum=1&collapsed=1',\n",
       " 'https://www.komo.co.il/code/cars/private.asp?currPage=8&subLuachNum=1&collapsed=1',\n",
       " 'https://www.komo.co.il/code/cars/private.asp?currPage=9&subLuachNum=1&collapsed=1',\n",
       " 'https://www.komo.co.il/code/cars/private.asp?currPage=10&subLuachNum=1&collapsed=1',\n",
       " 'https://www.komo.co.il/code/cars/commercial.asp?currPage=1&subLuachNum=1&collapsed=1',\n",
       " 'https://www.komo.co.il/code/cars/commercial.asp?currPage=2&subLuachNum=1&collapsed=1',\n",
       " 'https://www.komo.co.il/code/cars/commercial.asp?currPage=3&subLuachNum=1&collapsed=1',\n",
       " 'https://www.komo.co.il/code/cars/commercial.asp?currPage=4&subLuachNum=1&collapsed=1',\n",
       " 'https://www.komo.co.il/code/cars/commercial.asp?currPage=5&subLuachNum=1&collapsed=1',\n",
       " 'https://www.komo.co.il/code/cars/commercial.asp?currPage=6&subLuachNum=1&collapsed=1',\n",
       " 'https://www.komo.co.il/code/cars/commercial.asp?currPage=7&subLuachNum=1&collapsed=1',\n",
       " 'https://www.komo.co.il/code/cars/commercial.asp?currPage=8&subLuachNum=1&collapsed=1',\n",
       " 'https://www.komo.co.il/code/cars/commercial.asp?currPage=9&subLuachNum=1&collapsed=1',\n",
       " 'https://www.komo.co.il/code/cars/commercial.asp?currPage=10&subLuachNum=1&collapsed=1',\n",
       " 'https://www.komo.co.il/code/cars/jeeps.asp?currPage=1&subLuachNum=1&collapsed=1',\n",
       " 'https://www.komo.co.il/code/cars/jeeps.asp?currPage=2&subLuachNum=1&collapsed=1',\n",
       " 'https://www.komo.co.il/code/cars/jeeps.asp?currPage=3&subLuachNum=1&collapsed=1',\n",
       " 'https://www.komo.co.il/code/cars/jeeps.asp?currPage=4&subLuachNum=1&collapsed=1',\n",
       " 'https://www.komo.co.il/code/cars/jeeps.asp?currPage=5&subLuachNum=1&collapsed=1',\n",
       " 'https://www.komo.co.il/code/cars/jeeps.asp?currPage=6&subLuachNum=1&collapsed=1',\n",
       " 'https://www.komo.co.il/code/cars/jeeps.asp?currPage=7&subLuachNum=1&collapsed=1',\n",
       " 'https://www.komo.co.il/code/cars/jeeps.asp?currPage=8&subLuachNum=1&collapsed=1',\n",
       " 'https://www.komo.co.il/code/cars/jeeps.asp?currPage=9&subLuachNum=1&collapsed=1',\n",
       " 'https://www.komo.co.il/code/cars/jeeps.asp?currPage=10&subLuachNum=1&collapsed=1',\n",
       " 'https://www.komo.co.il/code/cars/trucks.asp?currPage=1&subLuachNum=1&collapsed=1',\n",
       " 'https://www.komo.co.il/code/cars/trucks.asp?currPage=2&subLuachNum=1&collapsed=1',\n",
       " 'https://www.komo.co.il/code/cars/trucks.asp?currPage=3&subLuachNum=1&collapsed=1',\n",
       " 'https://www.komo.co.il/code/cars/trucks.asp?currPage=4&subLuachNum=1&collapsed=1',\n",
       " 'https://www.komo.co.il/code/cars/trucks.asp?currPage=5&subLuachNum=1&collapsed=1',\n",
       " 'https://www.komo.co.il/code/cars/trucks.asp?currPage=6&subLuachNum=1&collapsed=1',\n",
       " 'https://www.komo.co.il/code/cars/trucks.asp?currPage=7&subLuachNum=1&collapsed=1',\n",
       " 'https://www.komo.co.il/code/cars/trucks.asp?currPage=8&subLuachNum=1&collapsed=1',\n",
       " 'https://www.komo.co.il/code/cars/trucks.asp?currPage=9&subLuachNum=1&collapsed=1',\n",
       " 'https://www.komo.co.il/code/cars/trucks.asp?currPage=10&subLuachNum=1&collapsed=1']"
      ]
     },
     "execution_count": 986,
     "metadata": {},
     "output_type": "execute_result"
    }
   ],
   "source": [
    " ## the following code aproves that we have all the links we need:\n",
    "links"
   ]
  },
  {
   "cell_type": "code",
   "execution_count": 987,
   "id": "910037a3",
   "metadata": {},
   "outputs": [],
   "source": [
    "        ## now w'll make a list of the soup varables of the\n",
    "        ## websites!\n",
    "        ### note that the code below requests information from 40\n",
    "        ### websites so it might take up to a minate for it to end \n",
    "        ### all the requests\n",
    "soups = []\n",
    "for x in links:\n",
    "    page = requests.get(x)\n",
    "    soup = BeautifulSoup(page.text,\"html.parser\")\n",
    "    soups.append(soup)"
   ]
  },
  {
   "cell_type": "code",
   "execution_count": 988,
   "id": "9ae0a71f",
   "metadata": {},
   "outputs": [],
   "source": [
    "   ## now we'll use all the soup variables to \n",
    "        ## get the data we need!\n",
    "data = []\n",
    "for x in soups:\n",
    "    for tr in (x.findAll(\"tr\" ,bgcolor=\"#FFFFFF\")):\n",
    "        values = [td.text for td in tr.findAll(\"td\")]\n",
    "        data.append(values)"
   ]
  },
  {
   "cell_type": "code",
   "execution_count": 989,
   "id": "f1bc42f6",
   "metadata": {},
   "outputs": [
    {
     "name": "stdout",
     "output_type": "stream",
     "text": [
      "699\n"
     ]
    }
   ],
   "source": [
    "## the code below approve that we have all the needed data\n",
    "## and the amount of samples matches the value we expected.\n",
    "## that's beacuse we took information from 40 websites \n",
    "## which on every one of them there are 20 sale ads!\n",
    "## but now the website dropped a lot of the track ads... so we left with 701\n",
    "## instead of 800\n",
    "print(len(data))\n"
   ]
  },
  {
   "cell_type": "code",
   "execution_count": 990,
   "id": "877f3597",
   "metadata": {},
   "outputs": [
    {
     "name": "stdout",
     "output_type": "stream",
     "text": [
      "<class 'str'>\n",
      "<class 'str'>\n",
      "<class 'str'>\n",
      "<class 'str'>\n",
      "<class 'str'>\n",
      "<class 'str'>\n"
     ]
    }
   ],
   "source": [
    "## the code below tells us that all the details about the cars\n",
    "## are stored in string varbales so we will change them to \n",
    "## int type in the foregoing\n",
    "print(type(data[0][0]))\n",
    "print(type(data[10][1]))\n",
    "print(type(data[80][2]))\n",
    "print(type(data[120][3]))\n",
    "print(type(data[500][4]))\n",
    "print(type(data[600][5]))"
   ]
  },
  {
   "cell_type": "code",
   "execution_count": 991,
   "id": "a0ec2266",
   "metadata": {},
   "outputs": [
    {
     "data": {
      "text/html": [
       "<div>\n",
       "<style scoped>\n",
       "    .dataframe tbody tr th:only-of-type {\n",
       "        vertical-align: middle;\n",
       "    }\n",
       "\n",
       "    .dataframe tbody tr th {\n",
       "        vertical-align: top;\n",
       "    }\n",
       "\n",
       "    .dataframe thead th {\n",
       "        text-align: right;\n",
       "    }\n",
       "</style>\n",
       "<table border=\"1\" class=\"dataframe\">\n",
       "  <thead>\n",
       "    <tr style=\"text-align: right;\">\n",
       "      <th></th>\n",
       "      <th>car_type</th>\n",
       "      <th>firm</th>\n",
       "      <th>area</th>\n",
       "      <th>km</th>\n",
       "      <th>cost</th>\n",
       "      <th>year of prudaction</th>\n",
       "      <th>time of ad</th>\n",
       "    </tr>\n",
       "  </thead>\n",
       "  <tbody>\n",
       "    <tr>\n",
       "      <th>0</th>\n",
       "      <td>רכב פרטי</td>\n",
       "      <td>מאזדה - 3</td>\n",
       "      <td>חיפה וחוף הכרמל</td>\n",
       "      <td>141542</td>\n",
       "      <td>34,000 ₪</td>\n",
       "      <td>2010</td>\n",
       "      <td>1 ימים</td>\n",
       "    </tr>\n",
       "    <tr>\n",
       "      <th>1</th>\n",
       "      <td>רכב פרטי</td>\n",
       "      <td>טויוטה - יאריס</td>\n",
       "      <td>מושבים בשרון</td>\n",
       "      <td>169000</td>\n",
       "      <td>15,900 ₪</td>\n",
       "      <td>2007</td>\n",
       "      <td>1 ימים</td>\n",
       "    </tr>\n",
       "    <tr>\n",
       "      <th>2</th>\n",
       "      <td>רכב פרטי</td>\n",
       "      <td>מרצדס - E-CLASS</td>\n",
       "      <td>חיפה וחוף הכרמל</td>\n",
       "      <td>129000</td>\n",
       "      <td>70,000 ₪</td>\n",
       "      <td>2009</td>\n",
       "      <td>1 ימים</td>\n",
       "    </tr>\n",
       "    <tr>\n",
       "      <th>3</th>\n",
       "      <td>רכב פרטי</td>\n",
       "      <td>קיה - פיקנטו</td>\n",
       "      <td>פתח תקוה והסביבה</td>\n",
       "      <td>55000</td>\n",
       "      <td>67,000 ₪</td>\n",
       "      <td>2019</td>\n",
       "      <td>1 ימים</td>\n",
       "    </tr>\n",
       "    <tr>\n",
       "      <th>4</th>\n",
       "      <td>רכב פרטי</td>\n",
       "      <td>טויוטה - קורולה</td>\n",
       "      <td>נתניה והסביבה</td>\n",
       "      <td>180000</td>\n",
       "      <td>10,000 ₪</td>\n",
       "      <td>2002</td>\n",
       "      <td>1 ימים</td>\n",
       "    </tr>\n",
       "    <tr>\n",
       "      <th>...</th>\n",
       "      <td>...</td>\n",
       "      <td>...</td>\n",
       "      <td>...</td>\n",
       "      <td>...</td>\n",
       "      <td>...</td>\n",
       "      <td>...</td>\n",
       "      <td>...</td>\n",
       "    </tr>\n",
       "    <tr>\n",
       "      <th>694</th>\n",
       "      <td>משאיות</td>\n",
       "      <td>וולוו - fl 250</td>\n",
       "      <td>חיפה וחוף הכרמל</td>\n",
       "      <td>500000</td>\n",
       "      <td>לא צויין</td>\n",
       "      <td>2006</td>\n",
       "      <td>0 דקות</td>\n",
       "    </tr>\n",
       "    <tr>\n",
       "      <th>695</th>\n",
       "      <td>משאיות</td>\n",
       "      <td>סקניה -</td>\n",
       "      <td>פתח תקוה והסביבה</td>\n",
       "      <td>500000</td>\n",
       "      <td>לא צויין</td>\n",
       "      <td>2009</td>\n",
       "      <td>0 דקות</td>\n",
       "    </tr>\n",
       "    <tr>\n",
       "      <th>696</th>\n",
       "      <td>משאיות</td>\n",
       "      <td>מרצדס - ארקוס</td>\n",
       "      <td>באר שבע והסביבה</td>\n",
       "      <td>390000</td>\n",
       "      <td>לא צויין</td>\n",
       "      <td>2016</td>\n",
       "      <td>1 ימים</td>\n",
       "    </tr>\n",
       "    <tr>\n",
       "      <th>697</th>\n",
       "      <td>משאיות</td>\n",
       "      <td>מאן - משא להובלת רכב</td>\n",
       "      <td>נתניה והסביבה</td>\n",
       "      <td>180000</td>\n",
       "      <td>לא צויין</td>\n",
       "      <td>2013</td>\n",
       "      <td>21 ימים</td>\n",
       "    </tr>\n",
       "    <tr>\n",
       "      <th>698</th>\n",
       "      <td>משאיות</td>\n",
       "      <td>אינטרנשיונל - דו שימושי</td>\n",
       "      <td>אילת והערבה</td>\n",
       "      <td>2000</td>\n",
       "      <td>לא צויין</td>\n",
       "      <td>2020</td>\n",
       "      <td>3 ימים</td>\n",
       "    </tr>\n",
       "  </tbody>\n",
       "</table>\n",
       "<p>699 rows × 7 columns</p>\n",
       "</div>"
      ],
      "text/plain": [
       "     car_type                     firm              area      km      cost  \\\n",
       "0    רכב פרטי                מאזדה - 3   חיפה וחוף הכרמל  141542  34,000 ₪   \n",
       "1    רכב פרטי           טויוטה - יאריס      מושבים בשרון  169000  15,900 ₪   \n",
       "2    רכב פרטי          מרצדס - E-CLASS   חיפה וחוף הכרמל  129000  70,000 ₪   \n",
       "3    רכב פרטי             קיה - פיקנטו  פתח תקוה והסביבה   55000  67,000 ₪   \n",
       "4    רכב פרטי          טויוטה - קורולה     נתניה והסביבה  180000  10,000 ₪   \n",
       "..        ...                      ...               ...     ...       ...   \n",
       "694    משאיות           וולוו - fl 250   חיפה וחוף הכרמל  500000  לא צויין   \n",
       "695    משאיות                 סקניה -   פתח תקוה והסביבה  500000  לא צויין   \n",
       "696    משאיות            מרצדס - ארקוס   באר שבע והסביבה  390000  לא צויין   \n",
       "697    משאיות     מאן - משא להובלת רכב     נתניה והסביבה  180000  לא צויין   \n",
       "698    משאיות  אינטרנשיונל - דו שימושי       אילת והערבה    2000  לא צויין   \n",
       "\n",
       "    year of prudaction time of ad  \n",
       "0                 2010    1 ימים   \n",
       "1                 2007    1 ימים   \n",
       "2                 2009    1 ימים   \n",
       "3                 2019    1 ימים   \n",
       "4                 2002    1 ימים   \n",
       "..                 ...        ...  \n",
       "694               2006    0 דקות   \n",
       "695               2009    0 דקות   \n",
       "696               2016    1 ימים   \n",
       "697               2013   21 ימים   \n",
       "698               2020    3 ימים   \n",
       "\n",
       "[699 rows x 7 columns]"
      ]
     },
     "execution_count": 991,
     "metadata": {},
     "output_type": "execute_result"
    }
   ],
   "source": [
    "## now we are turning the data list into a dataframe!\n",
    "df = pd.DataFrame(data,columns=[\"car_type\",\"firm\",\"area\",\"km\",\"cost\",\"year of prudaction\",\"time of ad\"])\n",
    "df"
   ]
  },
  {
   "cell_type": "code",
   "execution_count": 992,
   "id": "ff706594-f8fe-444e-9e93-fe41d42fe60f",
   "metadata": {},
   "outputs": [
    {
     "data": {
      "text/html": [
       "<div>\n",
       "<style scoped>\n",
       "    .dataframe tbody tr th:only-of-type {\n",
       "        vertical-align: middle;\n",
       "    }\n",
       "\n",
       "    .dataframe tbody tr th {\n",
       "        vertical-align: top;\n",
       "    }\n",
       "\n",
       "    .dataframe thead th {\n",
       "        text-align: right;\n",
       "    }\n",
       "</style>\n",
       "<table border=\"1\" class=\"dataframe\">\n",
       "  <thead>\n",
       "    <tr style=\"text-align: right;\">\n",
       "      <th></th>\n",
       "      <th>car_type</th>\n",
       "      <th>firm</th>\n",
       "      <th>area</th>\n",
       "      <th>km</th>\n",
       "      <th>cost</th>\n",
       "      <th>year of prudaction</th>\n",
       "      <th>time of ad</th>\n",
       "    </tr>\n",
       "  </thead>\n",
       "  <tbody>\n",
       "    <tr>\n",
       "      <th>count</th>\n",
       "      <td>699</td>\n",
       "      <td>699</td>\n",
       "      <td>699</td>\n",
       "      <td>699</td>\n",
       "      <td>699</td>\n",
       "      <td>699</td>\n",
       "      <td>699</td>\n",
       "    </tr>\n",
       "    <tr>\n",
       "      <th>unique</th>\n",
       "      <td>4</td>\n",
       "      <td>305</td>\n",
       "      <td>35</td>\n",
       "      <td>329</td>\n",
       "      <td>257</td>\n",
       "      <td>31</td>\n",
       "      <td>30</td>\n",
       "    </tr>\n",
       "    <tr>\n",
       "      <th>top</th>\n",
       "      <td>רכב פרטי</td>\n",
       "      <td>סיטרואן - ברלינגו</td>\n",
       "      <td>חיפה וחוף הכרמל</td>\n",
       "      <td>85000</td>\n",
       "      <td>לא צויין</td>\n",
       "      <td>2016</td>\n",
       "      <td>0 דקות</td>\n",
       "    </tr>\n",
       "    <tr>\n",
       "      <th>freq</th>\n",
       "      <td>200</td>\n",
       "      <td>20</td>\n",
       "      <td>65</td>\n",
       "      <td>11</td>\n",
       "      <td>105</td>\n",
       "      <td>75</td>\n",
       "      <td>228</td>\n",
       "    </tr>\n",
       "  </tbody>\n",
       "</table>\n",
       "</div>"
      ],
      "text/plain": [
       "        car_type               firm             area     km      cost  \\\n",
       "count        699                699              699    699       699   \n",
       "unique         4                305               35    329       257   \n",
       "top     רכב פרטי  סיטרואן - ברלינגו  חיפה וחוף הכרמל  85000  לא צויין   \n",
       "freq         200                 20               65     11       105   \n",
       "\n",
       "       year of prudaction time of ad  \n",
       "count                 699        699  \n",
       "unique                 31         30  \n",
       "top                  2016    0 דקות   \n",
       "freq                   75        228  "
      ]
     },
     "execution_count": 992,
     "metadata": {},
     "output_type": "execute_result"
    }
   ],
   "source": [
    "df.describe()"
   ]
  },
  {
   "cell_type": "markdown",
   "id": "122fe1e1",
   "metadata": {
    "jp-MarkdownHeadingCollapsed": true,
    "tags": []
   },
   "source": [
    "### cleaning the data:\n",
    "        "
   ]
  },
  {
   "cell_type": "markdown",
   "id": "e099f5af",
   "metadata": {
    "tags": []
   },
   "source": [
    "#### note that we saved the df ahead of time, so that all the analysis and operations that we made to it would be conssistent."
   ]
  },
  {
   "cell_type": "code",
   "execution_count": 11,
   "id": "757e52e2-f393-47b9-bbd5-1fd18a15021d",
   "metadata": {},
   "outputs": [
    {
     "name": "stdout",
     "output_type": "stream",
     "text": [
      "(701, 7)\n"
     ]
    },
    {
     "data": {
      "text/html": [
       "<div>\n",
       "<style scoped>\n",
       "    .dataframe tbody tr th:only-of-type {\n",
       "        vertical-align: middle;\n",
       "    }\n",
       "\n",
       "    .dataframe tbody tr th {\n",
       "        vertical-align: top;\n",
       "    }\n",
       "\n",
       "    .dataframe thead th {\n",
       "        text-align: right;\n",
       "    }\n",
       "</style>\n",
       "<table border=\"1\" class=\"dataframe\">\n",
       "  <thead>\n",
       "    <tr style=\"text-align: right;\">\n",
       "      <th></th>\n",
       "      <th>car_type</th>\n",
       "      <th>firm</th>\n",
       "      <th>area</th>\n",
       "      <th>km</th>\n",
       "      <th>cost</th>\n",
       "      <th>year of prudaction</th>\n",
       "      <th>time of ad</th>\n",
       "    </tr>\n",
       "  </thead>\n",
       "  <tbody>\n",
       "    <tr>\n",
       "      <th>0</th>\n",
       "      <td>רכב פרטי</td>\n",
       "      <td>סוזוקי - סוויפט</td>\n",
       "      <td>בקעת אונו</td>\n",
       "      <td>167000</td>\n",
       "      <td>24,000 ₪</td>\n",
       "      <td>2010</td>\n",
       "      <td>6 שעות</td>\n",
       "    </tr>\n",
       "    <tr>\n",
       "      <th>1</th>\n",
       "      <td>רכב פרטי</td>\n",
       "      <td>מאזדה - 3</td>\n",
       "      <td>חיפה וחוף הכרמל</td>\n",
       "      <td>141542</td>\n",
       "      <td>34,000 ₪</td>\n",
       "      <td>2010</td>\n",
       "      <td>4 שעות</td>\n",
       "    </tr>\n",
       "  </tbody>\n",
       "</table>\n",
       "</div>"
      ],
      "text/plain": [
       "   car_type             firm             area      km      cost  \\\n",
       "0  רכב פרטי  סוזוקי - סוויפט        בקעת אונו  167000  24,000 ₪   \n",
       "1  רכב פרטי        מאזדה - 3  חיפה וחוף הכרמל  141542  34,000 ₪   \n",
       "\n",
       "   year of prudaction time of ad  \n",
       "0                2010    6 שעות   \n",
       "1                2010    4 שעות   "
      ]
     },
     "execution_count": 11,
     "metadata": {},
     "output_type": "execute_result"
    }
   ],
   "source": [
    "df = pd.read_csv(\"data/saved_data_before_cleaning.csv\").iloc[:,1:]\n",
    "print(df.shape)\n",
    "df.head(2)"
   ]
  },
  {
   "cell_type": "code",
   "execution_count": 12,
   "id": "5998feb4",
   "metadata": {},
   "outputs": [
    {
     "data": {
      "text/plain": [
       "'27,500\\xa0₪'"
      ]
     },
     "execution_count": 12,
     "metadata": {},
     "output_type": "execute_result"
    }
   ],
   "source": [
    "## let's see how a \"cost\" value looks like:\n",
    "df['cost'].iloc[576]"
   ]
  },
  {
   "cell_type": "code",
   "execution_count": 13,
   "id": "d3e36616",
   "metadata": {},
   "outputs": [
    {
     "name": "stdout",
     "output_type": "stream",
     "text": [
      "(701, 7)\n"
     ]
    },
    {
     "data": {
      "text/html": [
       "<div>\n",
       "<style scoped>\n",
       "    .dataframe tbody tr th:only-of-type {\n",
       "        vertical-align: middle;\n",
       "    }\n",
       "\n",
       "    .dataframe tbody tr th {\n",
       "        vertical-align: top;\n",
       "    }\n",
       "\n",
       "    .dataframe thead th {\n",
       "        text-align: right;\n",
       "    }\n",
       "</style>\n",
       "<table border=\"1\" class=\"dataframe\">\n",
       "  <thead>\n",
       "    <tr style=\"text-align: right;\">\n",
       "      <th></th>\n",
       "      <th>car_type</th>\n",
       "      <th>firm</th>\n",
       "      <th>area</th>\n",
       "      <th>km</th>\n",
       "      <th>cost</th>\n",
       "      <th>year of prudaction</th>\n",
       "      <th>time of ad</th>\n",
       "    </tr>\n",
       "  </thead>\n",
       "  <tbody>\n",
       "    <tr>\n",
       "      <th>0</th>\n",
       "      <td>רכב פרטי</td>\n",
       "      <td>סוזוקי - סוויפט</td>\n",
       "      <td>בקעת אונו</td>\n",
       "      <td>167000</td>\n",
       "      <td>24,000 ₪</td>\n",
       "      <td>2010</td>\n",
       "      <td>6 שעות</td>\n",
       "    </tr>\n",
       "    <tr>\n",
       "      <th>1</th>\n",
       "      <td>רכב פרטי</td>\n",
       "      <td>מאזדה - 3</td>\n",
       "      <td>חיפה וחוף הכרמל</td>\n",
       "      <td>141542</td>\n",
       "      <td>34,000 ₪</td>\n",
       "      <td>2010</td>\n",
       "      <td>4 שעות</td>\n",
       "    </tr>\n",
       "  </tbody>\n",
       "</table>\n",
       "</div>"
      ],
      "text/plain": [
       "   car_type             firm             area      km      cost  \\\n",
       "0  רכב פרטי  סוזוקי - סוויפט        בקעת אונו  167000  24,000 ₪   \n",
       "1  רכב פרטי        מאזדה - 3  חיפה וחוף הכרמל  141542  34,000 ₪   \n",
       "\n",
       "   year of prudaction time of ad  \n",
       "0                2010    6 שעות   \n",
       "1                2010    4 שעות   "
      ]
     },
     "execution_count": 13,
     "metadata": {},
     "output_type": "execute_result"
    }
   ],
   "source": [
    "# removing the crap data  \n",
    "# we'll remove the rows that have NaN values in the \"cost\",\"km\" and \"year of prudaction\" columns\n",
    "\n",
    "df = df.dropna(subset=[\"cost\",\"km\",\"year of prudaction\"])  \n",
    "print(df.shape)\n",
    "df.head(2) \n"
   ]
  },
  {
   "cell_type": "code",
   "execution_count": 14,
   "id": "234ee4c4",
   "metadata": {},
   "outputs": [
    {
     "name": "stdout",
     "output_type": "stream",
     "text": [
      "car types: ['רכב פרטי' 'רכב מסחרי' \"ג'יפים\" 'משאיות'] \n",
      "\n",
      "רכב פרטי     200\n",
      "רכב מסחרי    200\n",
      "ג'יפים       200\n",
      "משאיות       101\n",
      "Name: car_type, dtype: int64 \n",
      "\n",
      "different costs of *cars*(all types): 256 \n",
      "\n",
      "different costs of *privates*: 133 \n",
      "\n",
      "different costs of *comercial*: 93 \n",
      "\n",
      "different cost of *jeeps*: 134 \n",
      "\n",
      "different cost of *trucks*: 44\n"
     ]
    }
   ],
   "source": [
    "## cheking if the data have resonable values:\n",
    "print(\"car types:\",df.car_type.unique(),'\\n')\n",
    "print(df.car_type.value_counts(),'\\n')\n",
    "print(\"different costs of *cars*(all types):\",len(df.cost.unique()),'\\n')\n",
    "print(\"different costs of *privates*:\",len(df[df.car_type == \"רכב פרטי\"].cost.unique()),'\\n')\n",
    "print(\"different costs of *comercial*:\",len(df[df.car_type == \"רכב מסחרי\"].cost.unique()),'\\n')\n",
    "print(\"different cost of *jeeps*:\",len(df[df.car_type == \"ג'יפים\"].cost.unique()),'\\n')\n",
    "print(\"different cost of *trucks*:\",len(df[df.car_type == \"משאיות\"].cost.unique()))\n",
    "    ## in the code below we can see that\n",
    "    ## the amount of unique cost seems resonable - there isn't too much repetition,\n",
    "    ## so the data looks fine."
   ]
  },
  {
   "cell_type": "code",
   "execution_count": 15,
   "id": "a08a894d",
   "metadata": {},
   "outputs": [
    {
     "data": {
      "text/html": [
       "<div>\n",
       "<style scoped>\n",
       "    .dataframe tbody tr th:only-of-type {\n",
       "        vertical-align: middle;\n",
       "    }\n",
       "\n",
       "    .dataframe tbody tr th {\n",
       "        vertical-align: top;\n",
       "    }\n",
       "\n",
       "    .dataframe thead th {\n",
       "        text-align: right;\n",
       "    }\n",
       "</style>\n",
       "<table border=\"1\" class=\"dataframe\">\n",
       "  <thead>\n",
       "    <tr style=\"text-align: right;\">\n",
       "      <th></th>\n",
       "      <th>km</th>\n",
       "      <th>year of prudaction</th>\n",
       "    </tr>\n",
       "  </thead>\n",
       "  <tbody>\n",
       "    <tr>\n",
       "      <th>count</th>\n",
       "      <td>701.000000</td>\n",
       "      <td>701.000000</td>\n",
       "    </tr>\n",
       "    <tr>\n",
       "      <th>mean</th>\n",
       "      <td>161390.564907</td>\n",
       "      <td>2013.813124</td>\n",
       "    </tr>\n",
       "    <tr>\n",
       "      <th>std</th>\n",
       "      <td>131158.302690</td>\n",
       "      <td>5.592408</td>\n",
       "    </tr>\n",
       "    <tr>\n",
       "      <th>min</th>\n",
       "      <td>0.000000</td>\n",
       "      <td>1988.000000</td>\n",
       "    </tr>\n",
       "    <tr>\n",
       "      <th>25%</th>\n",
       "      <td>67000.000000</td>\n",
       "      <td>2010.000000</td>\n",
       "    </tr>\n",
       "    <tr>\n",
       "      <th>50%</th>\n",
       "      <td>133000.000000</td>\n",
       "      <td>2015.000000</td>\n",
       "    </tr>\n",
       "    <tr>\n",
       "      <th>75%</th>\n",
       "      <td>220000.000000</td>\n",
       "      <td>2018.000000</td>\n",
       "    </tr>\n",
       "    <tr>\n",
       "      <th>max</th>\n",
       "      <td>850000.000000</td>\n",
       "      <td>2022.000000</td>\n",
       "    </tr>\n",
       "  </tbody>\n",
       "</table>\n",
       "</div>"
      ],
      "text/plain": [
       "                  km  year of prudaction\n",
       "count     701.000000          701.000000\n",
       "mean   161390.564907         2013.813124\n",
       "std    131158.302690            5.592408\n",
       "min         0.000000         1988.000000\n",
       "25%     67000.000000         2010.000000\n",
       "50%    133000.000000         2015.000000\n",
       "75%    220000.000000         2018.000000\n",
       "max    850000.000000         2022.000000"
      ]
     },
     "execution_count": 15,
     "metadata": {},
     "output_type": "execute_result"
    }
   ],
   "source": [
    "df.describe()"
   ]
  },
  {
   "cell_type": "code",
   "execution_count": 16,
   "id": "b87e6e70",
   "metadata": {
    "collapsed": true,
    "jupyter": {
     "outputs_hidden": true
    },
    "tags": []
   },
   "outputs": [
    {
     "name": "stdout",
     "output_type": "stream",
     "text": [
      "305\n",
      "36\n"
     ]
    },
    {
     "data": {
      "text/plain": [
       "array(['סוזוקי - סוויפט', 'מאזדה - 3', 'טויוטה - יאריס',\n",
       "       'טויוטה - קורולה', 'מרצדס - E-CLASS', 'מרצדס - S-CLASS',\n",
       "       'פולקסווגן - גולף', 'יונדאי - סונטה', 'פורד - פיאסטה',\n",
       "       'הונדה - סיוויק האצ’בק החדשה', 'פורד - פוקוס', 'טויוטה - ורסו',\n",
       "       'סוזוקי - קרוסאובר', 'טויוטה - אוריס', 'סקודה - סופרב',\n",
       "       'טויוטה - קאמרי', 'פורד - מונדאו', 'פיג’ו - 5008', 'פורד - גלאקסי',\n",
       "       'פולקסווגן - פאסאט', 'יונדאי - i30cw', 'קיה - פיקנטו',\n",
       "       'סקודה - ראפיד', 'קיה - אופטימה', 'פיאט - 500', 'סקודה - אוקטביה',\n",
       "       'פיאט - קובו', 'אופל - אסטרה', 'הונדה - HRV', 'סיטרואן - C3',\n",
       "       'יונדאי - i20', 'אאודי - 80', 'פיג’ו - 508',\n",
       "       'קרייזלר - גראנד וויאג’ר', 'רנו - קופה', 'אאודי - A6', 'מאזדה - 6',\n",
       "       'מיצובישי - ספייס סטאר', 'סוזוקי - ליאנה החדשה', 'טויוטה - C-HR',\n",
       "       'קרייזלר - טאון קאנטרי', 'ב.מ.וו - סדרה 3', 'ב.מ.וו - סדרה 1',\n",
       "       'יונדאי - ACCNET', 'יונדאי - אלנטרה', 'פיג’ו - 301',\n",
       "       'פיג’ו - RCZ\\t', 'הונדה - ג’אז', 'רנו - מגאן', 'רנו - סניק',\n",
       "       'סיאט - איביזה', 'ניסאן - מקסימה', 'שברולט - סוניק',\n",
       "       'סוזוקי - אלטו', 'יונדאי - איוניק', 'אאודי - A3',\n",
       "       'הונדה - סיוויק סדאן החדשה', 'קיה - נירו הייבריד',\n",
       "       'סקודה - סיטיגו', 'הונדה - סיוויק', 'פולקסווגן - פאסאט CC',\n",
       "       'אופל - מוקה', 'קיה - סטוניק', 'אאודי - S5', 'סיאט - לאון',\n",
       "       'מרצדס - A-CLASS', 'סיטרואן - C3 פיקאסו', 'יונדאי - i35',\n",
       "       'וולוו - S80', 'ניסאן - מיקרה', 'יונדאי - גטס', 'הונדה - אקורד',\n",
       "       'וולוו - S90', 'סובארו - אימפרזה WRX STI', 'סובארו - XV',\n",
       "       'שברולט - אבאו', 'פיג’ו - 2008', 'מרצדס - C-CLASS', 'מאזדה - 5',\n",
       "       'לקסוס - RC', 'שברולט - קרוז', 'אופל - מוקה X', 'קיה - קארנס',\n",
       "       'סקודה - סקאלה', 'יונדאי - i10', 'קיה - ריו', 'אופל - קורסה',\n",
       "       'סקודה - פאביה', 'סוזוקי - בלנו', 'פולקסווגן - פולו',\n",
       "       'סיטרואן - DS5\\t', 'מרצדס - GLE', 'מאזדה - 2',\n",
       "       'סיטרואן - C4 פיקאסו', 'פולקסווגן - ג’טה', 'מרצדס - CLA',\n",
       "       'קיה - סיד', 'מרצדס - GT AMG', 'פיג’ו - 107', 'מיני - קופר',\n",
       "       'שברולט - ספארק', 'שברולט - אפלנדר', 'שברולט - מאליבו',\n",
       "       'יונדאי - i30', 'רנו - קליאו אסטייט', 'רנו - קליאו',\n",
       "       'קאדילק - ATS', 'סוזוקי - איגניס', 'אאודי - A1',\n",
       "       'קרייזלר - PT קרוזר', 'סקודה - אוקטביה ספייס', 'וולוו - V40',\n",
       "       'סובארו - אימפרזה ניו אייג’', 'פיאט - פיורינו',\n",
       "       'פיאט - דוקאטו- קצר/בינוני', 'איסוזו - 4X4 D-MAX', 'רנו - קנגו',\n",
       "       'פורד - F-150\\t', 'פורד - טרנזיט',\n",
       "       'סיטרואן - ברלינגו דור 1 (עד 2012)', 'גי.אם.סי - ונדורה ארוך',\n",
       "       'סיטרואן - ג’אמפי קצר/בינוני', 'פיאט - דובלו',\n",
       "       'פולקסווגן - קראוול', 'פולקסווגן - טרנספורטר נוסעים',\n",
       "       'סיטרואן - ברלינגו דור 3 (2018 ואילך)', 'טויוטה - היילקס ויגו 4X4',\n",
       "       'פולקסווגן - אמארוק', 'שברולט - סילברדו 2500',\n",
       "       'רנו - מאסטר קצר/בינוני', 'סיטרואן - ברלינגו דור 2 (2008-2019)',\n",
       "       'סיטרואן - ברלינגו', 'דודג’ - ראם ארוך', 'מרצדס - ספרינטר',\n",
       "       'סובארו - טנדר 2X4', 'פולקסווגן - קאדי', 'פיאט - דוקאטו',\n",
       "       'שברולט - סילברדו', 'מרצדס - ויטו', 'רנו - מאסטר ארוך',\n",
       "       'פורד - F-250', 'פיג’ו - בוקסר', 'פורד - קונקט',\n",
       "       'מיצובישי - מאגנום 4X4', 'טויוטה - היילקס 4X4',\n",
       "       'איסוזו - 2X4 D-MAX', 'איסוזו - איפון 4X4', 'מרצדס - V-Class',\n",
       "       'איווקו - דיילי החדשה', 'יונדאי - i800', 'פיג’ו - פרטנר',\n",
       "       'יונדאי - H1', 'פורד - F-350', 'מרצדס - ויאנו', 'מיצובישי - L200',\n",
       "       'קיה - סופרטראק', 'פולקסווגן - קראפטר', 'פולקסווגן - טרנספורטר',\n",
       "       'פיאג’ו - פורטר', 'שברולט - סוואנה קצר', 'ניסאן - נבארה 4X4',\n",
       "       'דאציה - דוקר', 'סובארו - טנדר 4X4', 'שברולט - קולורדו',\n",
       "       'מאזדה - BT50 2X4', 'שברולט - סוואנה ארוך', 'איסוזו - איפון 2X4',\n",
       "       'דודג’ - ראם קצר', 'איווקו - 50C15', 'טויוטה - היילקס ויגו 2X4',\n",
       "       'טויוטה - היילקס 2X4', 'איווקו - 50c14v', 'ניסאן - סרנה 2X4',\n",
       "       'ניסאן - קבסטאר', 'פורד - אקונוליין', 'פורד - אקספלורר',\n",
       "       'אאודי - SQ5', 'דייהטסו - טריוס', 'ניסאן - אקס טרייל',\n",
       "       'מאזדה - CX5', 'גי’פ / Jeep - קומפאס', 'אאודי - Q5',\n",
       "       'קיה - ספורטז’', 'מיצובישי - אאוטלנדר', 'סיאט - קופרה פורמנטור',\n",
       "       'טויוטה - RAV4 ארוך', 'ניסאן - ג’וק JUKE',\n",
       "       'לנד רובר - ריינג’ רובר איווק', 'סוזוקי - ויטרה', 'מאזדה - CX30',\n",
       "       'פורד - קוגה', 'סאנגיונג - רקסטון', 'ניסאן - קשקאי',\n",
       "       'הונדה - HR-V', 'סקודה - קודיאק', 'טויוטה - לנד קרוזר קצר',\n",
       "       'לנד רובר - רינג’ רובר', 'יונדאי - טוסון', 'מיצובישי - אקליפס',\n",
       "       'פורד - אדג’', 'טויוטה - לנד קרוזר ארוך', 'אאודי - Q2',\n",
       "       'שברולט - טרייל בלייזר', 'סוזוקי - SX4 קרוסאובר',\n",
       "       'סובארו - פורסטר', 'יונדאי - סנטה פה', 'שברולט - קפטיבה',\n",
       "       'סקודה - קארוק', 'פולקסווגן - טיגואן', 'פיג’ו - 3008',\n",
       "       'סוזוקי - ג’ימני', 'גי’פ / Jeep - גרנד צ’ירוקי',\n",
       "       'סאנגיונג - אקטיון', 'דאציה - דאסטר', 'אאודי - Q7', 'הונדה - CR-V',\n",
       "       'לקסוס - NX', 'רנו - קדגא’ר', 'סיאט - ארונה', 'ב.מ.וו - X7',\n",
       "       'אופל - גרנדלנד X', 'טויוטה - RAV4 הייבריד', 'האמר - H3',\n",
       "       'סוזוקי - גרנד ויטרה', 'לנד רובר - דיסקברי 4', 'סיאט - ',\n",
       "       'שברולט - טראקס', 'גי’פ / Jeep - רנגלר קצר', 'יונדאי - קונה',\n",
       "       'קיה - סלטוס', 'אאודי - Q3', 'קיה - סורנטו', 'יונדאי - טאראקן',\n",
       "       'ב.מ.וו - X5', 'גי’פ / Jeep - ג’יפ', 'מאזדה - CX3',\n",
       "       'טויוטה - לנד קרוזר פרדו קצר', 'ב.מ.וו - X6', 'קאדילק - XT5',\n",
       "       'קאדילק - SRX', 'מיצובישי - פג’רו קצר',\n",
       "       'גי’פ / Jeep - גרנד צ’ירוקי החדשה', 'מיצובישי - פג’רו ארוך',\n",
       "       'איסוזו - ', 'מיצובישי - קאנטר', 'סקניה - R440',\n",
       "       'מיצובישי - קנטר פוסו', 'מרצדס - Atego 1018', 'וולוו - ',\n",
       "       'וולוו - הייבר', 'מרצדס - Actros', 'רנו - מאסטר גבוה',\n",
       "       'סקניה - 360', 'רנו - גרר', 'סקניה - 380', 'דאף - SR 140 טון',\n",
       "       'רנו - מנדלום', 'איסוזו - Npr75', 'איווקו - ', 'וולוו - fh13 460',\n",
       "       'דאף - 250', 'אינטרנשיונל - ספורט/כביש', 'דאף - מוטוקרוס',\n",
       "       'רנו - ', 'מרצדס - NEW ACTROS 2524L', 'מיצובישי - ',\n",
       "       'פורד - דו שימושי', 'איווקו - איווקו 15 טון דבל קבינה',\n",
       "       'וולוו - Fh460', 'איסוזו - סומו 0053 אוט דיזל 3.0 (120 כ’’ס)',\n",
       "       'איסוזו - ספורט/כביש',\n",
       "       'מיצובישי - חד קבינה ידני דיזל 3.0 (96 כ’ס) 3.5 טון',\n",
       "       'טויוטה - XZU730L תא יחיד אוטו טורבו דיזל 5.1', 'מאן - דו שימושי',\n",
       "       'איסוזו - I אוט 1.6', 'אינטרנשיונל - דו שימושי',\n",
       "       'מיצובישי - קאנטר 6200 טון', 'מאן - Bb220', 'מיצובישי - פוסו',\n",
       "       'וולוו - FE', 'מאן - 15 טון', 'וולוו - Fh 460 הייבר',\n",
       "       'מרצדס - אטגו 814', 'רנו - 12 טון', 'מאן - Tgm',\n",
       "       'מרצדס - ספרינטר cdi', 'איסוזו - 7.5 ton', 'דאף - 55',\n",
       "       'וולוו - FH460', 'איווקו - דילי c15', 'וולוו - FL6',\n",
       "       'רנו - 15 טון', 'וולוו - fh500', 'רנו - מאטר',\n",
       "       'איסוזו - איסוזו מנוף 10 טון', 'איסוזו - N2 משא למיכלי גפ\"מ',\n",
       "       'איווקו - דו שימושי', 'דאף - 220 55 Lf', 'מאן - ', 'סקניה - ',\n",
       "       'וולוו - fl 250', 'מרצדס - 2541', 'מרצדס - ארקוס',\n",
       "       'מאן - משא להובלת רכב', 'וולוו - נתמך וילון קירור 13.60'],\n",
       "      dtype=object)"
      ]
     },
     "execution_count": 16,
     "metadata": {},
     "output_type": "execute_result"
    }
   ],
   "source": [
    "## although there is alot of values for the \"firm\",\"area\" columns we'll use them as a fetuare that store the model name of the car and the \n",
    "## area of the car owner. we won't delete the \"firm\" and \"area\" columns althouth they aren't clean and usable yet, but we will make them usable in the \n",
    "## \"making new fetures\" section. \n",
    "print(len(df.firm.unique()))\n",
    "print(len(df.area.unique()))\n",
    "df.firm.unique()"
   ]
  },
  {
   "cell_type": "code",
   "execution_count": 17,
   "id": "03b52242",
   "metadata": {
    "tags": []
   },
   "outputs": [
    {
     "data": {
      "text/html": [
       "<div>\n",
       "<style scoped>\n",
       "    .dataframe tbody tr th:only-of-type {\n",
       "        vertical-align: middle;\n",
       "    }\n",
       "\n",
       "    .dataframe tbody tr th {\n",
       "        vertical-align: top;\n",
       "    }\n",
       "\n",
       "    .dataframe thead th {\n",
       "        text-align: right;\n",
       "    }\n",
       "</style>\n",
       "<table border=\"1\" class=\"dataframe\">\n",
       "  <thead>\n",
       "    <tr style=\"text-align: right;\">\n",
       "      <th></th>\n",
       "      <th>car_type</th>\n",
       "      <th>firm</th>\n",
       "      <th>area</th>\n",
       "      <th>km</th>\n",
       "      <th>cost</th>\n",
       "      <th>year of prudaction</th>\n",
       "    </tr>\n",
       "  </thead>\n",
       "  <tbody>\n",
       "    <tr>\n",
       "      <th>0</th>\n",
       "      <td>רכב פרטי</td>\n",
       "      <td>סוזוקי - סוויפט</td>\n",
       "      <td>בקעת אונו</td>\n",
       "      <td>167000</td>\n",
       "      <td>24,000 ₪</td>\n",
       "      <td>2010</td>\n",
       "    </tr>\n",
       "    <tr>\n",
       "      <th>1</th>\n",
       "      <td>רכב פרטי</td>\n",
       "      <td>מאזדה - 3</td>\n",
       "      <td>חיפה וחוף הכרמל</td>\n",
       "      <td>141542</td>\n",
       "      <td>34,000 ₪</td>\n",
       "      <td>2010</td>\n",
       "    </tr>\n",
       "    <tr>\n",
       "      <th>2</th>\n",
       "      <td>רכב פרטי</td>\n",
       "      <td>טויוטה - יאריס</td>\n",
       "      <td>מושבים בשרון</td>\n",
       "      <td>169000</td>\n",
       "      <td>15,900 ₪</td>\n",
       "      <td>2007</td>\n",
       "    </tr>\n",
       "    <tr>\n",
       "      <th>3</th>\n",
       "      <td>רכב פרטי</td>\n",
       "      <td>טויוטה - קורולה</td>\n",
       "      <td>נתניה והסביבה</td>\n",
       "      <td>180000</td>\n",
       "      <td>10,000 ₪</td>\n",
       "      <td>2002</td>\n",
       "    </tr>\n",
       "    <tr>\n",
       "      <th>4</th>\n",
       "      <td>רכב פרטי</td>\n",
       "      <td>מרצדס - E-CLASS</td>\n",
       "      <td>חיפה וחוף הכרמל</td>\n",
       "      <td>129000</td>\n",
       "      <td>70,000 ₪</td>\n",
       "      <td>2009</td>\n",
       "    </tr>\n",
       "    <tr>\n",
       "      <th>...</th>\n",
       "      <td>...</td>\n",
       "      <td>...</td>\n",
       "      <td>...</td>\n",
       "      <td>...</td>\n",
       "      <td>...</td>\n",
       "      <td>...</td>\n",
       "    </tr>\n",
       "    <tr>\n",
       "      <th>696</th>\n",
       "      <td>משאיות</td>\n",
       "      <td>מאן - משא להובלת רכב</td>\n",
       "      <td>נתניה והסביבה</td>\n",
       "      <td>180000</td>\n",
       "      <td>לא צויין</td>\n",
       "      <td>2013</td>\n",
       "    </tr>\n",
       "    <tr>\n",
       "      <th>697</th>\n",
       "      <td>משאיות</td>\n",
       "      <td>מאן -</td>\n",
       "      <td>ראשל\"צ והסביבה</td>\n",
       "      <td>280000</td>\n",
       "      <td>לא צויין</td>\n",
       "      <td>2006</td>\n",
       "    </tr>\n",
       "    <tr>\n",
       "      <th>698</th>\n",
       "      <td>משאיות</td>\n",
       "      <td>אינטרנשיונל - דו שימושי</td>\n",
       "      <td>אילת והערבה</td>\n",
       "      <td>2000</td>\n",
       "      <td>לא צויין</td>\n",
       "      <td>2020</td>\n",
       "    </tr>\n",
       "    <tr>\n",
       "      <th>699</th>\n",
       "      <td>משאיות</td>\n",
       "      <td>וולוו - נתמך וילון קירור 13.60</td>\n",
       "      <td>גליל ועמקים</td>\n",
       "      <td>1000</td>\n",
       "      <td>לא צויין</td>\n",
       "      <td>2010</td>\n",
       "    </tr>\n",
       "    <tr>\n",
       "      <th>700</th>\n",
       "      <td>משאיות</td>\n",
       "      <td>מיצובישי - חד קבינה ידני דיזל 3.0 (96 כ’ס) 3.5...</td>\n",
       "      <td>קריות</td>\n",
       "      <td>340000</td>\n",
       "      <td>60,000 ₪</td>\n",
       "      <td>2009</td>\n",
       "    </tr>\n",
       "  </tbody>\n",
       "</table>\n",
       "<p>701 rows × 6 columns</p>\n",
       "</div>"
      ],
      "text/plain": [
       "     car_type                                               firm  \\\n",
       "0    רכב פרטי                                    סוזוקי - סוויפט   \n",
       "1    רכב פרטי                                          מאזדה - 3   \n",
       "2    רכב פרטי                                     טויוטה - יאריס   \n",
       "3    רכב פרטי                                    טויוטה - קורולה   \n",
       "4    רכב פרטי                                    מרצדס - E-CLASS   \n",
       "..        ...                                                ...   \n",
       "696    משאיות                               מאן - משא להובלת רכב   \n",
       "697    משאיות                                             מאן -    \n",
       "698    משאיות                            אינטרנשיונל - דו שימושי   \n",
       "699    משאיות                     וולוו - נתמך וילון קירור 13.60   \n",
       "700    משאיות  מיצובישי - חד קבינה ידני דיזל 3.0 (96 כ’ס) 3.5...   \n",
       "\n",
       "                area      km      cost  year of prudaction  \n",
       "0          בקעת אונו  167000  24,000 ₪                2010  \n",
       "1    חיפה וחוף הכרמל  141542  34,000 ₪                2010  \n",
       "2       מושבים בשרון  169000  15,900 ₪                2007  \n",
       "3      נתניה והסביבה  180000  10,000 ₪                2002  \n",
       "4    חיפה וחוף הכרמל  129000  70,000 ₪                2009  \n",
       "..               ...     ...       ...                 ...  \n",
       "696    נתניה והסביבה  180000  לא צויין                2013  \n",
       "697   ראשל\"צ והסביבה  280000  לא צויין                2006  \n",
       "698      אילת והערבה    2000  לא צויין                2020  \n",
       "699      גליל ועמקים    1000  לא צויין                2010  \n",
       "700            קריות  340000  60,000 ₪                2009  \n",
       "\n",
       "[701 rows x 6 columns]"
      ]
     },
     "execution_count": 17,
     "metadata": {},
     "output_type": "execute_result"
    }
   ],
   "source": [
    "## the \"time of add\" column is redundent (this column notes the time the ad was on the \n",
    "## website)\n",
    "## so we'll drop those two.\n",
    "df = df.drop([\"time of ad\"],axis=1) #\"firm\",you can add it if this does not give you good result \n",
    "df"
   ]
  },
  {
   "cell_type": "code",
   "execution_count": 18,
   "id": "41b1238f",
   "metadata": {},
   "outputs": [
    {
     "data": {
      "text/plain": [
       "car_type              0\n",
       "firm                  0\n",
       "area                  0\n",
       "km                    0\n",
       "cost                  0\n",
       "year of prudaction    0\n",
       "dtype: int64"
      ]
     },
     "execution_count": 18,
     "metadata": {},
     "output_type": "execute_result"
    }
   ],
   "source": [
    "## we'll make sure there isn't null values: \n",
    "df.isnull().sum()"
   ]
  },
  {
   "cell_type": "code",
   "execution_count": 19,
   "id": "b5b2bfa9",
   "metadata": {
    "tags": []
   },
   "outputs": [
    {
     "data": {
      "text/html": [
       "<div>\n",
       "<style scoped>\n",
       "    .dataframe tbody tr th:only-of-type {\n",
       "        vertical-align: middle;\n",
       "    }\n",
       "\n",
       "    .dataframe tbody tr th {\n",
       "        vertical-align: top;\n",
       "    }\n",
       "\n",
       "    .dataframe thead th {\n",
       "        text-align: right;\n",
       "    }\n",
       "</style>\n",
       "<table border=\"1\" class=\"dataframe\">\n",
       "  <thead>\n",
       "    <tr style=\"text-align: right;\">\n",
       "      <th></th>\n",
       "      <th>car_type</th>\n",
       "      <th>firm</th>\n",
       "      <th>area</th>\n",
       "      <th>km</th>\n",
       "      <th>cost</th>\n",
       "      <th>year of prudaction</th>\n",
       "    </tr>\n",
       "  </thead>\n",
       "  <tbody>\n",
       "    <tr>\n",
       "      <th>0</th>\n",
       "      <td>רכב פרטי</td>\n",
       "      <td>סוזוקי - סוויפט</td>\n",
       "      <td>בקעת אונו</td>\n",
       "      <td>167000</td>\n",
       "      <td>24,000 ₪</td>\n",
       "      <td>2010</td>\n",
       "    </tr>\n",
       "    <tr>\n",
       "      <th>1</th>\n",
       "      <td>רכב פרטי</td>\n",
       "      <td>מאזדה - 3</td>\n",
       "      <td>חיפה וחוף הכרמל</td>\n",
       "      <td>141542</td>\n",
       "      <td>34,000 ₪</td>\n",
       "      <td>2010</td>\n",
       "    </tr>\n",
       "    <tr>\n",
       "      <th>2</th>\n",
       "      <td>רכב פרטי</td>\n",
       "      <td>טויוטה - יאריס</td>\n",
       "      <td>מושבים בשרון</td>\n",
       "      <td>169000</td>\n",
       "      <td>15,900 ₪</td>\n",
       "      <td>2007</td>\n",
       "    </tr>\n",
       "    <tr>\n",
       "      <th>3</th>\n",
       "      <td>רכב פרטי</td>\n",
       "      <td>טויוטה - קורולה</td>\n",
       "      <td>נתניה והסביבה</td>\n",
       "      <td>180000</td>\n",
       "      <td>10,000 ₪</td>\n",
       "      <td>2002</td>\n",
       "    </tr>\n",
       "    <tr>\n",
       "      <th>4</th>\n",
       "      <td>רכב פרטי</td>\n",
       "      <td>מרצדס - E-CLASS</td>\n",
       "      <td>חיפה וחוף הכרמל</td>\n",
       "      <td>129000</td>\n",
       "      <td>70,000 ₪</td>\n",
       "      <td>2009</td>\n",
       "    </tr>\n",
       "    <tr>\n",
       "      <th>...</th>\n",
       "      <td>...</td>\n",
       "      <td>...</td>\n",
       "      <td>...</td>\n",
       "      <td>...</td>\n",
       "      <td>...</td>\n",
       "      <td>...</td>\n",
       "    </tr>\n",
       "    <tr>\n",
       "      <th>686</th>\n",
       "      <td>משאיות</td>\n",
       "      <td>דאף - 55</td>\n",
       "      <td>באר שבע והסביבה</td>\n",
       "      <td>500000</td>\n",
       "      <td>110,000 ₪</td>\n",
       "      <td>2015</td>\n",
       "    </tr>\n",
       "    <tr>\n",
       "      <th>687</th>\n",
       "      <td>משאיות</td>\n",
       "      <td>רנו - מאטר</td>\n",
       "      <td>מושבים בצפון</td>\n",
       "      <td>85000</td>\n",
       "      <td>80,000 ₪</td>\n",
       "      <td>2018</td>\n",
       "    </tr>\n",
       "    <tr>\n",
       "      <th>688</th>\n",
       "      <td>משאיות</td>\n",
       "      <td>דאף - 55</td>\n",
       "      <td>אשדוד - אשקלון</td>\n",
       "      <td>313000</td>\n",
       "      <td>50,000 ₪</td>\n",
       "      <td>2001</td>\n",
       "    </tr>\n",
       "    <tr>\n",
       "      <th>689</th>\n",
       "      <td>משאיות</td>\n",
       "      <td>איסוזו - ספורט/כביש</td>\n",
       "      <td>מושבים בשרון</td>\n",
       "      <td>4545</td>\n",
       "      <td>39,000 ₪</td>\n",
       "      <td>2018</td>\n",
       "    </tr>\n",
       "    <tr>\n",
       "      <th>700</th>\n",
       "      <td>משאיות</td>\n",
       "      <td>מיצובישי - חד קבינה ידני דיזל 3.0 (96 כ’ס) 3.5...</td>\n",
       "      <td>קריות</td>\n",
       "      <td>340000</td>\n",
       "      <td>60,000 ₪</td>\n",
       "      <td>2009</td>\n",
       "    </tr>\n",
       "  </tbody>\n",
       "</table>\n",
       "<p>596 rows × 6 columns</p>\n",
       "</div>"
      ],
      "text/plain": [
       "     car_type                                               firm  \\\n",
       "0    רכב פרטי                                    סוזוקי - סוויפט   \n",
       "1    רכב פרטי                                          מאזדה - 3   \n",
       "2    רכב פרטי                                     טויוטה - יאריס   \n",
       "3    רכב פרטי                                    טויוטה - קורולה   \n",
       "4    רכב פרטי                                    מרצדס - E-CLASS   \n",
       "..        ...                                                ...   \n",
       "686    משאיות                                           דאף - 55   \n",
       "687    משאיות                                         רנו - מאטר   \n",
       "688    משאיות                                           דאף - 55   \n",
       "689    משאיות                                איסוזו - ספורט/כביש   \n",
       "700    משאיות  מיצובישי - חד קבינה ידני דיזל 3.0 (96 כ’ס) 3.5...   \n",
       "\n",
       "                area      km       cost  year of prudaction  \n",
       "0          בקעת אונו  167000   24,000 ₪                2010  \n",
       "1    חיפה וחוף הכרמל  141542   34,000 ₪                2010  \n",
       "2       מושבים בשרון  169000   15,900 ₪                2007  \n",
       "3      נתניה והסביבה  180000   10,000 ₪                2002  \n",
       "4    חיפה וחוף הכרמל  129000   70,000 ₪                2009  \n",
       "..               ...     ...        ...                 ...  \n",
       "686  באר שבע והסביבה  500000  110,000 ₪                2015  \n",
       "687     מושבים בצפון   85000   80,000 ₪                2018  \n",
       "688   אשדוד - אשקלון  313000   50,000 ₪                2001  \n",
       "689     מושבים בשרון    4545   39,000 ₪                2018  \n",
       "700            קריות  340000   60,000 ₪                2009  \n",
       "\n",
       "[596 rows x 6 columns]"
      ]
     },
     "execution_count": 19,
     "metadata": {},
     "output_type": "execute_result"
    }
   ],
   "source": [
    "## there is no null values but yet not all of the \"cost\" values\n",
    "## are numbers that's beacause some sellers didn't mention the\n",
    "## price of the vechile.\n",
    "## now we'll delete the rows where the sale ad didn't \n",
    "## had a price\n",
    "df = df[df.cost != \"לא צויין\"]\n",
    "df"
   ]
  },
  {
   "cell_type": "code",
   "execution_count": 20,
   "id": "a28c76fb",
   "metadata": {
    "tags": []
   },
   "outputs": [
    {
     "name": "stderr",
     "output_type": "stream",
     "text": [
      "C:\\Users\\noams\\anaconda3\\lib\\site-packages\\pandas\\core\\generic.py:5516: SettingWithCopyWarning: \n",
      "A value is trying to be set on a copy of a slice from a DataFrame.\n",
      "Try using .loc[row_indexer,col_indexer] = value instead\n",
      "\n",
      "See the caveats in the documentation: https://pandas.pydata.org/pandas-docs/stable/user_guide/indexing.html#returning-a-view-versus-a-copy\n",
      "  self[name] = value\n",
      "C:\\Users\\noams\\AppData\\Local\\Temp/ipykernel_21200/555555719.py:8: SettingWithCopyWarning: \n",
      "A value is trying to be set on a copy of a slice from a DataFrame.\n",
      "Try using .loc[row_indexer,col_indexer] = value instead\n",
      "\n",
      "See the caveats in the documentation: https://pandas.pydata.org/pandas-docs/stable/user_guide/indexing.html#returning-a-view-versus-a-copy\n",
      "  df[\"year of prudaction\"] = df[\"year of prudaction\"].apply(to_int)\n"
     ]
    },
    {
     "data": {
      "text/html": [
       "<div>\n",
       "<style scoped>\n",
       "    .dataframe tbody tr th:only-of-type {\n",
       "        vertical-align: middle;\n",
       "    }\n",
       "\n",
       "    .dataframe tbody tr th {\n",
       "        vertical-align: top;\n",
       "    }\n",
       "\n",
       "    .dataframe thead th {\n",
       "        text-align: right;\n",
       "    }\n",
       "</style>\n",
       "<table border=\"1\" class=\"dataframe\">\n",
       "  <thead>\n",
       "    <tr style=\"text-align: right;\">\n",
       "      <th></th>\n",
       "      <th>car_type</th>\n",
       "      <th>firm</th>\n",
       "      <th>area</th>\n",
       "      <th>km</th>\n",
       "      <th>cost</th>\n",
       "      <th>year of prudaction</th>\n",
       "    </tr>\n",
       "  </thead>\n",
       "  <tbody>\n",
       "    <tr>\n",
       "      <th>0</th>\n",
       "      <td>רכב פרטי</td>\n",
       "      <td>סוזוקי - סוויפט</td>\n",
       "      <td>בקעת אונו</td>\n",
       "      <td>167000</td>\n",
       "      <td>24000</td>\n",
       "      <td>2010</td>\n",
       "    </tr>\n",
       "    <tr>\n",
       "      <th>1</th>\n",
       "      <td>רכב פרטי</td>\n",
       "      <td>מאזדה - 3</td>\n",
       "      <td>חיפה וחוף הכרמל</td>\n",
       "      <td>141542</td>\n",
       "      <td>34000</td>\n",
       "      <td>2010</td>\n",
       "    </tr>\n",
       "  </tbody>\n",
       "</table>\n",
       "</div>"
      ],
      "text/plain": [
       "   car_type             firm             area      km   cost  \\\n",
       "0  רכב פרטי  סוזוקי - סוויפט        בקעת אונו  167000  24000   \n",
       "1  רכב פרטי        מאזדה - 3  חיפה וחוף הכרמל  141542  34000   \n",
       "\n",
       "   year of prudaction  \n",
       "0                2010  \n",
       "1                2010  "
      ]
     },
     "execution_count": 20,
     "metadata": {},
     "output_type": "execute_result"
    }
   ],
   "source": [
    "## now we'll make a function that can turn\n",
    "## \"cost\" column (which are of type string)\n",
    "## to an int type\n",
    "to_cost = lambda x:int(x[0:-2].replace(\",\",\"\"))\n",
    "to_int = lambda x : int(x)\n",
    "df.cost = df.cost.apply(to_cost)\n",
    "df.km = df.km.apply(to_int)\n",
    "df[\"year of prudaction\"] = df[\"year of prudaction\"].apply(to_int)\n",
    "df.head(2)"
   ]
  },
  {
   "cell_type": "code",
   "execution_count": 21,
   "id": "a92d723b",
   "metadata": {},
   "outputs": [
    {
     "name": "stdout",
     "output_type": "stream",
     "text": [
      "<class 'numpy.int64'>\n",
      "<class 'numpy.int64'>\n",
      "<class 'numpy.int64'>\n"
     ]
    }
   ],
   "source": [
    "## cheking if the type of the columns \"km\",\"cost\" and \"year of prudaction\" have changed to int:\n",
    "print(type(df.km[0]))\n",
    "print(type(df.cost[0]))\n",
    "print(type(df[\"year of prudaction\"][0]))"
   ]
  },
  {
   "cell_type": "code",
   "execution_count": 22,
   "id": "2f8c9754",
   "metadata": {
    "tags": []
   },
   "outputs": [
    {
     "data": {
      "text/html": [
       "<div>\n",
       "<style scoped>\n",
       "    .dataframe tbody tr th:only-of-type {\n",
       "        vertical-align: middle;\n",
       "    }\n",
       "\n",
       "    .dataframe tbody tr th {\n",
       "        vertical-align: top;\n",
       "    }\n",
       "\n",
       "    .dataframe thead th {\n",
       "        text-align: right;\n",
       "    }\n",
       "</style>\n",
       "<table border=\"1\" class=\"dataframe\">\n",
       "  <thead>\n",
       "    <tr style=\"text-align: right;\">\n",
       "      <th></th>\n",
       "      <th>car_type</th>\n",
       "      <th>firm</th>\n",
       "      <th>area</th>\n",
       "      <th>km</th>\n",
       "      <th>cost</th>\n",
       "      <th>year of prudaction</th>\n",
       "      <th>משאיות</th>\n",
       "      <th>רכב מסחרי</th>\n",
       "      <th>רכב פרטי</th>\n",
       "    </tr>\n",
       "  </thead>\n",
       "  <tbody>\n",
       "    <tr>\n",
       "      <th>0</th>\n",
       "      <td>רכב פרטי</td>\n",
       "      <td>סוזוקי - סוויפט</td>\n",
       "      <td>בקעת אונו</td>\n",
       "      <td>167000</td>\n",
       "      <td>24000</td>\n",
       "      <td>2010</td>\n",
       "      <td>0</td>\n",
       "      <td>0</td>\n",
       "      <td>1</td>\n",
       "    </tr>\n",
       "    <tr>\n",
       "      <th>1</th>\n",
       "      <td>רכב פרטי</td>\n",
       "      <td>מאזדה - 3</td>\n",
       "      <td>חיפה וחוף הכרמל</td>\n",
       "      <td>141542</td>\n",
       "      <td>34000</td>\n",
       "      <td>2010</td>\n",
       "      <td>0</td>\n",
       "      <td>0</td>\n",
       "      <td>1</td>\n",
       "    </tr>\n",
       "    <tr>\n",
       "      <th>2</th>\n",
       "      <td>רכב פרטי</td>\n",
       "      <td>טויוטה - יאריס</td>\n",
       "      <td>מושבים בשרון</td>\n",
       "      <td>169000</td>\n",
       "      <td>15900</td>\n",
       "      <td>2007</td>\n",
       "      <td>0</td>\n",
       "      <td>0</td>\n",
       "      <td>1</td>\n",
       "    </tr>\n",
       "    <tr>\n",
       "      <th>3</th>\n",
       "      <td>רכב פרטי</td>\n",
       "      <td>טויוטה - קורולה</td>\n",
       "      <td>נתניה והסביבה</td>\n",
       "      <td>180000</td>\n",
       "      <td>10000</td>\n",
       "      <td>2002</td>\n",
       "      <td>0</td>\n",
       "      <td>0</td>\n",
       "      <td>1</td>\n",
       "    </tr>\n",
       "    <tr>\n",
       "      <th>4</th>\n",
       "      <td>רכב פרטי</td>\n",
       "      <td>מרצדס - E-CLASS</td>\n",
       "      <td>חיפה וחוף הכרמל</td>\n",
       "      <td>129000</td>\n",
       "      <td>70000</td>\n",
       "      <td>2009</td>\n",
       "      <td>0</td>\n",
       "      <td>0</td>\n",
       "      <td>1</td>\n",
       "    </tr>\n",
       "    <tr>\n",
       "      <th>...</th>\n",
       "      <td>...</td>\n",
       "      <td>...</td>\n",
       "      <td>...</td>\n",
       "      <td>...</td>\n",
       "      <td>...</td>\n",
       "      <td>...</td>\n",
       "      <td>...</td>\n",
       "      <td>...</td>\n",
       "      <td>...</td>\n",
       "    </tr>\n",
       "    <tr>\n",
       "      <th>686</th>\n",
       "      <td>משאיות</td>\n",
       "      <td>דאף - 55</td>\n",
       "      <td>באר שבע והסביבה</td>\n",
       "      <td>500000</td>\n",
       "      <td>110000</td>\n",
       "      <td>2015</td>\n",
       "      <td>1</td>\n",
       "      <td>0</td>\n",
       "      <td>0</td>\n",
       "    </tr>\n",
       "    <tr>\n",
       "      <th>687</th>\n",
       "      <td>משאיות</td>\n",
       "      <td>רנו - מאטר</td>\n",
       "      <td>מושבים בצפון</td>\n",
       "      <td>85000</td>\n",
       "      <td>80000</td>\n",
       "      <td>2018</td>\n",
       "      <td>1</td>\n",
       "      <td>0</td>\n",
       "      <td>0</td>\n",
       "    </tr>\n",
       "    <tr>\n",
       "      <th>688</th>\n",
       "      <td>משאיות</td>\n",
       "      <td>דאף - 55</td>\n",
       "      <td>אשדוד - אשקלון</td>\n",
       "      <td>313000</td>\n",
       "      <td>50000</td>\n",
       "      <td>2001</td>\n",
       "      <td>1</td>\n",
       "      <td>0</td>\n",
       "      <td>0</td>\n",
       "    </tr>\n",
       "    <tr>\n",
       "      <th>689</th>\n",
       "      <td>משאיות</td>\n",
       "      <td>איסוזו - ספורט/כביש</td>\n",
       "      <td>מושבים בשרון</td>\n",
       "      <td>4545</td>\n",
       "      <td>39000</td>\n",
       "      <td>2018</td>\n",
       "      <td>1</td>\n",
       "      <td>0</td>\n",
       "      <td>0</td>\n",
       "    </tr>\n",
       "    <tr>\n",
       "      <th>700</th>\n",
       "      <td>משאיות</td>\n",
       "      <td>מיצובישי - חד קבינה ידני דיזל 3.0 (96 כ’ס) 3.5...</td>\n",
       "      <td>קריות</td>\n",
       "      <td>340000</td>\n",
       "      <td>60000</td>\n",
       "      <td>2009</td>\n",
       "      <td>1</td>\n",
       "      <td>0</td>\n",
       "      <td>0</td>\n",
       "    </tr>\n",
       "  </tbody>\n",
       "</table>\n",
       "<p>596 rows × 9 columns</p>\n",
       "</div>"
      ],
      "text/plain": [
       "     car_type                                               firm  \\\n",
       "0    רכב פרטי                                    סוזוקי - סוויפט   \n",
       "1    רכב פרטי                                          מאזדה - 3   \n",
       "2    רכב פרטי                                     טויוטה - יאריס   \n",
       "3    רכב פרטי                                    טויוטה - קורולה   \n",
       "4    רכב פרטי                                    מרצדס - E-CLASS   \n",
       "..        ...                                                ...   \n",
       "686    משאיות                                           דאף - 55   \n",
       "687    משאיות                                         רנו - מאטר   \n",
       "688    משאיות                                           דאף - 55   \n",
       "689    משאיות                                איסוזו - ספורט/כביש   \n",
       "700    משאיות  מיצובישי - חד קבינה ידני דיזל 3.0 (96 כ’ס) 3.5...   \n",
       "\n",
       "                area      km    cost  year of prudaction  משאיות  רכב מסחרי  \\\n",
       "0          בקעת אונו  167000   24000                2010       0          0   \n",
       "1    חיפה וחוף הכרמל  141542   34000                2010       0          0   \n",
       "2       מושבים בשרון  169000   15900                2007       0          0   \n",
       "3      נתניה והסביבה  180000   10000                2002       0          0   \n",
       "4    חיפה וחוף הכרמל  129000   70000                2009       0          0   \n",
       "..               ...     ...     ...                 ...     ...        ...   \n",
       "686  באר שבע והסביבה  500000  110000                2015       1          0   \n",
       "687     מושבים בצפון   85000   80000                2018       1          0   \n",
       "688   אשדוד - אשקלון  313000   50000                2001       1          0   \n",
       "689     מושבים בשרון    4545   39000                2018       1          0   \n",
       "700            קריות  340000   60000                2009       1          0   \n",
       "\n",
       "     רכב פרטי  \n",
       "0           1  \n",
       "1           1  \n",
       "2           1  \n",
       "3           1  \n",
       "4           1  \n",
       "..        ...  \n",
       "686         0  \n",
       "687         0  \n",
       "688         0  \n",
       "689         0  \n",
       "700         0  \n",
       "\n",
       "[596 rows x 9 columns]"
      ]
     },
     "execution_count": 22,
     "metadata": {},
     "output_type": "execute_result"
    }
   ],
   "source": [
    "## note that the \"car_type\" column is a string column that have\n",
    "## 4 possible values: \"רכב פרטי\",\"רכב מסחרי\",\"גיפים\",\"משאיות\"\n",
    "## we can't use this column as a feature just yet beacuase it's\n",
    "## a string, we could decide that רכב פרטי=1, רכב מסחרי=2, גיפים=3, but if\n",
    "## we'll do so we'll create a bias for the model that \"רכב פרטי\" is somehow more \"closer\"\n",
    "## to \"רכב מסחרי\" from \"גיפים\", which we don't want so we'll use dummy variables insted:\n",
    "type_dummies = pd.get_dummies(df.car_type).iloc[:,1:]\n",
    "df = pd.concat([df,type_dummies], axis = 1)\n",
    "df"
   ]
  },
  {
   "cell_type": "code",
   "execution_count": 23,
   "id": "0a6a4b5d",
   "metadata": {
    "tags": []
   },
   "outputs": [
    {
     "data": {
      "text/html": [
       "<div>\n",
       "<style scoped>\n",
       "    .dataframe tbody tr th:only-of-type {\n",
       "        vertical-align: middle;\n",
       "    }\n",
       "\n",
       "    .dataframe tbody tr th {\n",
       "        vertical-align: top;\n",
       "    }\n",
       "\n",
       "    .dataframe thead th {\n",
       "        text-align: right;\n",
       "    }\n",
       "</style>\n",
       "<table border=\"1\" class=\"dataframe\">\n",
       "  <thead>\n",
       "    <tr style=\"text-align: right;\">\n",
       "      <th></th>\n",
       "      <th>firm</th>\n",
       "      <th>area</th>\n",
       "      <th>km</th>\n",
       "      <th>cost</th>\n",
       "      <th>year of prudaction</th>\n",
       "      <th>tracks</th>\n",
       "      <th>commercial</th>\n",
       "      <th>private</th>\n",
       "    </tr>\n",
       "  </thead>\n",
       "  <tbody>\n",
       "    <tr>\n",
       "      <th>0</th>\n",
       "      <td>סוזוקי - סוויפט</td>\n",
       "      <td>בקעת אונו</td>\n",
       "      <td>167000</td>\n",
       "      <td>24000</td>\n",
       "      <td>2010</td>\n",
       "      <td>0</td>\n",
       "      <td>0</td>\n",
       "      <td>1</td>\n",
       "    </tr>\n",
       "    <tr>\n",
       "      <th>1</th>\n",
       "      <td>מאזדה - 3</td>\n",
       "      <td>חיפה וחוף הכרמל</td>\n",
       "      <td>141542</td>\n",
       "      <td>34000</td>\n",
       "      <td>2010</td>\n",
       "      <td>0</td>\n",
       "      <td>0</td>\n",
       "      <td>1</td>\n",
       "    </tr>\n",
       "    <tr>\n",
       "      <th>2</th>\n",
       "      <td>טויוטה - יאריס</td>\n",
       "      <td>מושבים בשרון</td>\n",
       "      <td>169000</td>\n",
       "      <td>15900</td>\n",
       "      <td>2007</td>\n",
       "      <td>0</td>\n",
       "      <td>0</td>\n",
       "      <td>1</td>\n",
       "    </tr>\n",
       "    <tr>\n",
       "      <th>3</th>\n",
       "      <td>טויוטה - קורולה</td>\n",
       "      <td>נתניה והסביבה</td>\n",
       "      <td>180000</td>\n",
       "      <td>10000</td>\n",
       "      <td>2002</td>\n",
       "      <td>0</td>\n",
       "      <td>0</td>\n",
       "      <td>1</td>\n",
       "    </tr>\n",
       "    <tr>\n",
       "      <th>4</th>\n",
       "      <td>מרצדס - E-CLASS</td>\n",
       "      <td>חיפה וחוף הכרמל</td>\n",
       "      <td>129000</td>\n",
       "      <td>70000</td>\n",
       "      <td>2009</td>\n",
       "      <td>0</td>\n",
       "      <td>0</td>\n",
       "      <td>1</td>\n",
       "    </tr>\n",
       "    <tr>\n",
       "      <th>...</th>\n",
       "      <td>...</td>\n",
       "      <td>...</td>\n",
       "      <td>...</td>\n",
       "      <td>...</td>\n",
       "      <td>...</td>\n",
       "      <td>...</td>\n",
       "      <td>...</td>\n",
       "      <td>...</td>\n",
       "    </tr>\n",
       "    <tr>\n",
       "      <th>686</th>\n",
       "      <td>דאף - 55</td>\n",
       "      <td>באר שבע והסביבה</td>\n",
       "      <td>500000</td>\n",
       "      <td>110000</td>\n",
       "      <td>2015</td>\n",
       "      <td>1</td>\n",
       "      <td>0</td>\n",
       "      <td>0</td>\n",
       "    </tr>\n",
       "    <tr>\n",
       "      <th>687</th>\n",
       "      <td>רנו - מאטר</td>\n",
       "      <td>מושבים בצפון</td>\n",
       "      <td>85000</td>\n",
       "      <td>80000</td>\n",
       "      <td>2018</td>\n",
       "      <td>1</td>\n",
       "      <td>0</td>\n",
       "      <td>0</td>\n",
       "    </tr>\n",
       "    <tr>\n",
       "      <th>688</th>\n",
       "      <td>דאף - 55</td>\n",
       "      <td>אשדוד - אשקלון</td>\n",
       "      <td>313000</td>\n",
       "      <td>50000</td>\n",
       "      <td>2001</td>\n",
       "      <td>1</td>\n",
       "      <td>0</td>\n",
       "      <td>0</td>\n",
       "    </tr>\n",
       "    <tr>\n",
       "      <th>689</th>\n",
       "      <td>איסוזו - ספורט/כביש</td>\n",
       "      <td>מושבים בשרון</td>\n",
       "      <td>4545</td>\n",
       "      <td>39000</td>\n",
       "      <td>2018</td>\n",
       "      <td>1</td>\n",
       "      <td>0</td>\n",
       "      <td>0</td>\n",
       "    </tr>\n",
       "    <tr>\n",
       "      <th>700</th>\n",
       "      <td>מיצובישי - חד קבינה ידני דיזל 3.0 (96 כ’ס) 3.5...</td>\n",
       "      <td>קריות</td>\n",
       "      <td>340000</td>\n",
       "      <td>60000</td>\n",
       "      <td>2009</td>\n",
       "      <td>1</td>\n",
       "      <td>0</td>\n",
       "      <td>0</td>\n",
       "    </tr>\n",
       "  </tbody>\n",
       "</table>\n",
       "<p>596 rows × 8 columns</p>\n",
       "</div>"
      ],
      "text/plain": [
       "                                                  firm             area  \\\n",
       "0                                      סוזוקי - סוויפט        בקעת אונו   \n",
       "1                                            מאזדה - 3  חיפה וחוף הכרמל   \n",
       "2                                       טויוטה - יאריס     מושבים בשרון   \n",
       "3                                      טויוטה - קורולה    נתניה והסביבה   \n",
       "4                                      מרצדס - E-CLASS  חיפה וחוף הכרמל   \n",
       "..                                                 ...              ...   \n",
       "686                                           דאף - 55  באר שבע והסביבה   \n",
       "687                                         רנו - מאטר     מושבים בצפון   \n",
       "688                                           דאף - 55   אשדוד - אשקלון   \n",
       "689                                איסוזו - ספורט/כביש     מושבים בשרון   \n",
       "700  מיצובישי - חד קבינה ידני דיזל 3.0 (96 כ’ס) 3.5...            קריות   \n",
       "\n",
       "         km    cost  year of prudaction  tracks  commercial  private  \n",
       "0    167000   24000                2010       0           0        1  \n",
       "1    141542   34000                2010       0           0        1  \n",
       "2    169000   15900                2007       0           0        1  \n",
       "3    180000   10000                2002       0           0        1  \n",
       "4    129000   70000                2009       0           0        1  \n",
       "..      ...     ...                 ...     ...         ...      ...  \n",
       "686  500000  110000                2015       1           0        0  \n",
       "687   85000   80000                2018       1           0        0  \n",
       "688  313000   50000                2001       1           0        0  \n",
       "689    4545   39000                2018       1           0        0  \n",
       "700  340000   60000                2009       1           0        0  \n",
       "\n",
       "[596 rows x 8 columns]"
      ]
     },
     "execution_count": 23,
     "metadata": {},
     "output_type": "execute_result"
    }
   ],
   "source": [
    "## we'll rename the variables to english\n",
    "## and drop the \"car_type\" column since\n",
    "## we don't need it anymore\n",
    "df = df.rename(columns={\"רכב פרטי\":\"private\",\"רכב מסחרי\":\"commercial\",\"משאיות\":\"tracks\"})\n",
    "df = df.drop(columns={\"car_type\"}) \n",
    "df"
   ]
  },
  {
   "cell_type": "code",
   "execution_count": 24,
   "id": "d022b288",
   "metadata": {},
   "outputs": [
    {
     "data": {
      "text/html": [
       "<div>\n",
       "<style scoped>\n",
       "    .dataframe tbody tr th:only-of-type {\n",
       "        vertical-align: middle;\n",
       "    }\n",
       "\n",
       "    .dataframe tbody tr th {\n",
       "        vertical-align: top;\n",
       "    }\n",
       "\n",
       "    .dataframe thead th {\n",
       "        text-align: right;\n",
       "    }\n",
       "</style>\n",
       "<table border=\"1\" class=\"dataframe\">\n",
       "  <thead>\n",
       "    <tr style=\"text-align: right;\">\n",
       "      <th></th>\n",
       "      <th>firm</th>\n",
       "      <th>area</th>\n",
       "      <th>km</th>\n",
       "      <th>cost</th>\n",
       "      <th>year of prudaction</th>\n",
       "      <th>tracks</th>\n",
       "      <th>commercial</th>\n",
       "      <th>private</th>\n",
       "    </tr>\n",
       "  </thead>\n",
       "  <tbody>\n",
       "    <tr>\n",
       "      <th>0</th>\n",
       "      <td>סוזוקי - סוויפט</td>\n",
       "      <td>בקעת אונו</td>\n",
       "      <td>167000</td>\n",
       "      <td>24000</td>\n",
       "      <td>2010</td>\n",
       "      <td>0</td>\n",
       "      <td>0</td>\n",
       "      <td>1</td>\n",
       "    </tr>\n",
       "    <tr>\n",
       "      <th>1</th>\n",
       "      <td>מאזדה - 3</td>\n",
       "      <td>חיפה וחוף הכרמל</td>\n",
       "      <td>141542</td>\n",
       "      <td>34000</td>\n",
       "      <td>2010</td>\n",
       "      <td>0</td>\n",
       "      <td>0</td>\n",
       "      <td>1</td>\n",
       "    </tr>\n",
       "  </tbody>\n",
       "</table>\n",
       "</div>"
      ],
      "text/plain": [
       "              firm             area      km   cost  year of prudaction  \\\n",
       "0  סוזוקי - סוויפט        בקעת אונו  167000  24000                2010   \n",
       "1        מאזדה - 3  חיפה וחוף הכרמל  141542  34000                2010   \n",
       "\n",
       "   tracks  commercial  private  \n",
       "0       0           0        1  \n",
       "1       0           0        1  "
      ]
     },
     "execution_count": 24,
     "metadata": {},
     "output_type": "execute_result"
    }
   ],
   "source": [
    "df.head(2)"
   ]
  },
  {
   "cell_type": "code",
   "execution_count": 25,
   "id": "7ffa6a0b",
   "metadata": {},
   "outputs": [
    {
     "data": {
      "text/html": [
       "<div>\n",
       "<style scoped>\n",
       "    .dataframe tbody tr th:only-of-type {\n",
       "        vertical-align: middle;\n",
       "    }\n",
       "\n",
       "    .dataframe tbody tr th {\n",
       "        vertical-align: top;\n",
       "    }\n",
       "\n",
       "    .dataframe thead th {\n",
       "        text-align: right;\n",
       "    }\n",
       "</style>\n",
       "<table border=\"1\" class=\"dataframe\">\n",
       "  <thead>\n",
       "    <tr style=\"text-align: right;\">\n",
       "      <th></th>\n",
       "      <th>km</th>\n",
       "      <th>cost</th>\n",
       "      <th>year of prudaction</th>\n",
       "      <th>tracks</th>\n",
       "      <th>commercial</th>\n",
       "      <th>private</th>\n",
       "    </tr>\n",
       "  </thead>\n",
       "  <tbody>\n",
       "    <tr>\n",
       "      <th>count</th>\n",
       "      <td>596.000000</td>\n",
       "      <td>596.000000</td>\n",
       "      <td>596.000000</td>\n",
       "      <td>596.000000</td>\n",
       "      <td>596.000000</td>\n",
       "      <td>596.000000</td>\n",
       "    </tr>\n",
       "    <tr>\n",
       "      <th>mean</th>\n",
       "      <td>153464.063758</td>\n",
       "      <td>78909.243289</td>\n",
       "      <td>2013.879195</td>\n",
       "      <td>0.112416</td>\n",
       "      <td>0.270134</td>\n",
       "      <td>0.317114</td>\n",
       "    </tr>\n",
       "    <tr>\n",
       "      <th>std</th>\n",
       "      <td>122978.603897</td>\n",
       "      <td>60915.179729</td>\n",
       "      <td>5.593709</td>\n",
       "      <td>0.316143</td>\n",
       "      <td>0.444402</td>\n",
       "      <td>0.465743</td>\n",
       "    </tr>\n",
       "    <tr>\n",
       "      <th>min</th>\n",
       "      <td>70.000000</td>\n",
       "      <td>1000.000000</td>\n",
       "      <td>1988.000000</td>\n",
       "      <td>0.000000</td>\n",
       "      <td>0.000000</td>\n",
       "      <td>0.000000</td>\n",
       "    </tr>\n",
       "    <tr>\n",
       "      <th>25%</th>\n",
       "      <td>66750.000000</td>\n",
       "      <td>31375.000000</td>\n",
       "      <td>2010.000000</td>\n",
       "      <td>0.000000</td>\n",
       "      <td>0.000000</td>\n",
       "      <td>0.000000</td>\n",
       "    </tr>\n",
       "    <tr>\n",
       "      <th>50%</th>\n",
       "      <td>128000.000000</td>\n",
       "      <td>67000.000000</td>\n",
       "      <td>2015.000000</td>\n",
       "      <td>0.000000</td>\n",
       "      <td>0.000000</td>\n",
       "      <td>0.000000</td>\n",
       "    </tr>\n",
       "    <tr>\n",
       "      <th>75%</th>\n",
       "      <td>204000.000000</td>\n",
       "      <td>110000.000000</td>\n",
       "      <td>2018.000000</td>\n",
       "      <td>0.000000</td>\n",
       "      <td>1.000000</td>\n",
       "      <td>1.000000</td>\n",
       "    </tr>\n",
       "    <tr>\n",
       "      <th>max</th>\n",
       "      <td>630000.000000</td>\n",
       "      <td>475000.000000</td>\n",
       "      <td>2022.000000</td>\n",
       "      <td>1.000000</td>\n",
       "      <td>1.000000</td>\n",
       "      <td>1.000000</td>\n",
       "    </tr>\n",
       "  </tbody>\n",
       "</table>\n",
       "</div>"
      ],
      "text/plain": [
       "                  km           cost  year of prudaction      tracks  \\\n",
       "count     596.000000     596.000000          596.000000  596.000000   \n",
       "mean   153464.063758   78909.243289         2013.879195    0.112416   \n",
       "std    122978.603897   60915.179729            5.593709    0.316143   \n",
       "min        70.000000    1000.000000         1988.000000    0.000000   \n",
       "25%     66750.000000   31375.000000         2010.000000    0.000000   \n",
       "50%    128000.000000   67000.000000         2015.000000    0.000000   \n",
       "75%    204000.000000  110000.000000         2018.000000    0.000000   \n",
       "max    630000.000000  475000.000000         2022.000000    1.000000   \n",
       "\n",
       "       commercial     private  \n",
       "count  596.000000  596.000000  \n",
       "mean     0.270134    0.317114  \n",
       "std      0.444402    0.465743  \n",
       "min      0.000000    0.000000  \n",
       "25%      0.000000    0.000000  \n",
       "50%      0.000000    0.000000  \n",
       "75%      1.000000    1.000000  \n",
       "max      1.000000    1.000000  "
      ]
     },
     "execution_count": 25,
     "metadata": {},
     "output_type": "execute_result"
    }
   ],
   "source": [
    "df.describe()"
   ]
  },
  {
   "cell_type": "code",
   "execution_count": 26,
   "id": "f01a0d89-b4f5-45d5-87d0-97f754a8c686",
   "metadata": {},
   "outputs": [],
   "source": [
    "## making \"cost\" the first column for comfort\n",
    "df = df[[\"cost\",\"km\",\"year of prudaction\",\"firm\",\"area\",\"tracks\",\"commercial\",\"private\"]]"
   ]
  },
  {
   "cell_type": "markdown",
   "id": "1b43c0f2",
   "metadata": {
    "jp-MarkdownHeadingCollapsed": true,
    "tags": []
   },
   "source": [
    "### removing outliers:"
   ]
  },
  {
   "cell_type": "code",
   "execution_count": 27,
   "id": "be4d7b8a-74b0-4f88-a718-9e4701c0c18e",
   "metadata": {
    "tags": []
   },
   "outputs": [
    {
     "data": {
      "text/plain": [
       "array([[<AxesSubplot:title={'center':'cost'}>,\n",
       "        <AxesSubplot:title={'center':'km'}>],\n",
       "       [<AxesSubplot:title={'center':'year of prudaction'}>,\n",
       "        <AxesSubplot:title={'center':'tracks'}>],\n",
       "       [<AxesSubplot:title={'center':'commercial'}>,\n",
       "        <AxesSubplot:title={'center':'private'}>]], dtype=object)"
      ]
     },
     "execution_count": 27,
     "metadata": {},
     "output_type": "execute_result"
    },
    {
     "data": {
      "image/png": "[encoded data removed]",
      "text/plain": [
       "<Figure size 1080x1080 with 6 Axes>"
      ]
     },
     "metadata": {
      "needs_background": "light"
     },
     "output_type": "display_data"
    }
   ],
   "source": [
    "df.hist(figsize=(15,15),bins=42)"
   ]
  },
  {
   "cell_type": "code",
   "execution_count": 28,
   "id": "28e61783-a635-459f-aee1-68d5912a24da",
   "metadata": {},
   "outputs": [
    {
     "data": {
      "text/plain": [
       "<AxesSubplot:>"
      ]
     },
     "execution_count": 28,
     "metadata": {},
     "output_type": "execute_result"
    },
    {
     "data": {
      "image/png": "[encoded data removed]",
      "text/plain": [
       "<Figure size 1152x720 with 2 Axes>"
      ]
     },
     "metadata": {
      "needs_background": "light"
     },
     "output_type": "display_data"
    }
   ],
   "source": [
    "plt.subplot(2,3,1)\n",
    "df.cost.plot(kind = \"box\",figsize=(15,10),fontsize=15)\n",
    "plt.subplot(2,3,3)\n",
    "df.km.plot(kind = \"box\",figsize =(16,10),fontsize=15)"
   ]
  },
  {
   "cell_type": "code",
   "execution_count": 29,
   "id": "3bb4d62c-7a3c-4688-8b68-b030cbaf5d20",
   "metadata": {},
   "outputs": [],
   "source": [
    "## we can see that there is alot of outliers in the \"cost\" and \"km\" columns."
   ]
  },
  {
   "cell_type": "markdown",
   "id": "ea3f23c2",
   "metadata": {
    "tags": []
   },
   "source": [
    "#### Applying Interquartile Range method(IQR) for the removal of outliers."
   ]
  },
  {
   "cell_type": "code",
   "execution_count": 30,
   "id": "33e6debb-3602-41d4-a536-085c7529640e",
   "metadata": {},
   "outputs": [],
   "source": [
    "cols = ['cost', 'km'] \n",
    "\n",
    "Q1 = df[cols].quantile(0.25) # 25th percentile  \n",
    "Q3 = df[cols].quantile(0.75) # 75th percentile  \n",
    "IQR = Q3 - Q1 # the value diffrence between the 75th and 25th percentile is the Inter-quartile range"
   ]
  },
  {
   "cell_type": "code",
   "execution_count": 31,
   "id": "91f2b513-726b-4d89-8e57-38b638c5d7c6",
   "metadata": {},
   "outputs": [],
   "source": [
    "df = df[~((df[cols] < (Q1 - 1.5 * IQR)) | (df[cols] > (Q3 + 1.5 * IQR))).any(axis=1)] # remove outliers using IQR method"
   ]
  },
  {
   "cell_type": "code",
   "execution_count": 32,
   "id": "9ef7e9ca-0b23-4a4d-9343-3fc6e9239447",
   "metadata": {},
   "outputs": [
    {
     "data": {
      "text/html": [
       "<div>\n",
       "<style scoped>\n",
       "    .dataframe tbody tr th:only-of-type {\n",
       "        vertical-align: middle;\n",
       "    }\n",
       "\n",
       "    .dataframe tbody tr th {\n",
       "        vertical-align: top;\n",
       "    }\n",
       "\n",
       "    .dataframe thead th {\n",
       "        text-align: right;\n",
       "    }\n",
       "</style>\n",
       "<table border=\"1\" class=\"dataframe\">\n",
       "  <thead>\n",
       "    <tr style=\"text-align: right;\">\n",
       "      <th></th>\n",
       "      <th>cost</th>\n",
       "      <th>km</th>\n",
       "      <th>year of prudaction</th>\n",
       "      <th>tracks</th>\n",
       "      <th>commercial</th>\n",
       "      <th>private</th>\n",
       "    </tr>\n",
       "  </thead>\n",
       "  <tbody>\n",
       "    <tr>\n",
       "      <th>count</th>\n",
       "      <td>550.000000</td>\n",
       "      <td>550.000000</td>\n",
       "      <td>550.00000</td>\n",
       "      <td>550.000000</td>\n",
       "      <td>550.000000</td>\n",
       "      <td>550.000000</td>\n",
       "    </tr>\n",
       "    <tr>\n",
       "      <th>mean</th>\n",
       "      <td>72088.016364</td>\n",
       "      <td>140040.930909</td>\n",
       "      <td>2013.96000</td>\n",
       "      <td>0.094545</td>\n",
       "      <td>0.261818</td>\n",
       "      <td>0.341818</td>\n",
       "    </tr>\n",
       "    <tr>\n",
       "      <th>std</th>\n",
       "      <td>46903.969282</td>\n",
       "      <td>98882.273124</td>\n",
       "      <td>5.45542</td>\n",
       "      <td>0.292852</td>\n",
       "      <td>0.440024</td>\n",
       "      <td>0.474751</td>\n",
       "    </tr>\n",
       "    <tr>\n",
       "      <th>min</th>\n",
       "      <td>1000.000000</td>\n",
       "      <td>211.000000</td>\n",
       "      <td>1988.00000</td>\n",
       "      <td>0.000000</td>\n",
       "      <td>0.000000</td>\n",
       "      <td>0.000000</td>\n",
       "    </tr>\n",
       "    <tr>\n",
       "      <th>25%</th>\n",
       "      <td>30000.000000</td>\n",
       "      <td>67325.000000</td>\n",
       "      <td>2011.00000</td>\n",
       "      <td>0.000000</td>\n",
       "      <td>0.000000</td>\n",
       "      <td>0.000000</td>\n",
       "    </tr>\n",
       "    <tr>\n",
       "      <th>50%</th>\n",
       "      <td>67000.000000</td>\n",
       "      <td>126500.000000</td>\n",
       "      <td>2015.00000</td>\n",
       "      <td>0.000000</td>\n",
       "      <td>0.000000</td>\n",
       "      <td>0.000000</td>\n",
       "    </tr>\n",
       "    <tr>\n",
       "      <th>75%</th>\n",
       "      <td>105000.000000</td>\n",
       "      <td>195750.000000</td>\n",
       "      <td>2018.00000</td>\n",
       "      <td>0.000000</td>\n",
       "      <td>1.000000</td>\n",
       "      <td>1.000000</td>\n",
       "    </tr>\n",
       "    <tr>\n",
       "      <th>max</th>\n",
       "      <td>224580.000000</td>\n",
       "      <td>407000.000000</td>\n",
       "      <td>2022.00000</td>\n",
       "      <td>1.000000</td>\n",
       "      <td>1.000000</td>\n",
       "      <td>1.000000</td>\n",
       "    </tr>\n",
       "  </tbody>\n",
       "</table>\n",
       "</div>"
      ],
      "text/plain": [
       "                cost             km  year of prudaction      tracks  \\\n",
       "count     550.000000     550.000000           550.00000  550.000000   \n",
       "mean    72088.016364  140040.930909          2013.96000    0.094545   \n",
       "std     46903.969282   98882.273124             5.45542    0.292852   \n",
       "min      1000.000000     211.000000          1988.00000    0.000000   \n",
       "25%     30000.000000   67325.000000          2011.00000    0.000000   \n",
       "50%     67000.000000  126500.000000          2015.00000    0.000000   \n",
       "75%    105000.000000  195750.000000          2018.00000    0.000000   \n",
       "max    224580.000000  407000.000000          2022.00000    1.000000   \n",
       "\n",
       "       commercial     private  \n",
       "count  550.000000  550.000000  \n",
       "mean     0.261818    0.341818  \n",
       "std      0.440024    0.474751  \n",
       "min      0.000000    0.000000  \n",
       "25%      0.000000    0.000000  \n",
       "50%      0.000000    0.000000  \n",
       "75%      1.000000    1.000000  \n",
       "max      1.000000    1.000000  "
      ]
     },
     "execution_count": 32,
     "metadata": {},
     "output_type": "execute_result"
    }
   ],
   "source": [
    "df.describe()"
   ]
  },
  {
   "cell_type": "code",
   "execution_count": 33,
   "id": "1f8570e7-3c71-4612-8b65-1bb8807b814e",
   "metadata": {},
   "outputs": [
    {
     "data": {
      "text/plain": [
       "<AxesSubplot:>"
      ]
     },
     "execution_count": 33,
     "metadata": {},
     "output_type": "execute_result"
    },
    {
     "data": {
      "image/png": "[encoded data removed]",
      "text/plain": [
       "<Figure size 1152x720 with 2 Axes>"
      ]
     },
     "metadata": {
      "needs_background": "light"
     },
     "output_type": "display_data"
    }
   ],
   "source": [
    "plt.subplot(2,3,1)\n",
    "df.cost.plot(kind = \"box\",figsize=(15,10),fontsize=15)\n",
    "plt.subplot(2,3,3)\n",
    "df.km.plot(kind = \"box\",figsize =(16,10),fontsize=15)"
   ]
  },
  {
   "cell_type": "code",
   "execution_count": 34,
   "id": "ab47028d-7d7a-4545-b2f0-ba28b76b6c45",
   "metadata": {
    "tags": []
   },
   "outputs": [
    {
     "data": {
      "text/plain": [
       "array([[<AxesSubplot:title={'center':'cost'}>,\n",
       "        <AxesSubplot:title={'center':'km'}>],\n",
       "       [<AxesSubplot:title={'center':'year of prudaction'}>,\n",
       "        <AxesSubplot:title={'center':'tracks'}>],\n",
       "       [<AxesSubplot:title={'center':'commercial'}>,\n",
       "        <AxesSubplot:title={'center':'private'}>]], dtype=object)"
      ]
     },
     "execution_count": 34,
     "metadata": {},
     "output_type": "execute_result"
    },
    {
     "data": {
      "image/png": "[encoded data removed]",
      "text/plain": [
       "<Figure size 1080x1080 with 6 Axes>"
      ]
     },
     "metadata": {
      "needs_background": "light"
     },
     "output_type": "display_data"
    }
   ],
   "source": [
    "df.hist(figsize=(15,15),bins=42)"
   ]
  },
  {
   "cell_type": "code",
   "execution_count": 35,
   "id": "cd263f5d-fb82-4d78-bd8e-b5bfb86b905a",
   "metadata": {},
   "outputs": [],
   "source": [
    "## we can see that the outliers have been removed."
   ]
  },
  {
   "cell_type": "markdown",
   "id": "a9a80994-a7e5-4ba4-b9c4-16ea0887fcc0",
   "metadata": {
    "jp-MarkdownHeadingCollapsed": true,
    "tags": []
   },
   "source": [
    "## making new fetures"
   ]
  },
  {
   "cell_type": "code",
   "execution_count": 36,
   "id": "76531521",
   "metadata": {},
   "outputs": [
    {
     "data": {
      "text/plain": [
       "array(['בקעת אונו', 'חיפה וחוף הכרמל', 'מושבים בשרון', 'נתניה והסביבה',\n",
       "       'קריות', 'אשדוד - אשקלון', 'בית שמש והסביבה', 'רמלה - לוד',\n",
       "       'ראשל\"צ והסביבה', 'פתח תקוה והסביבה', 'רמת גן - גבעתיים',\n",
       "       'ירושלים והסביבה', 'חדרה וישובי עמק חפר', 'מושבים בצפון',\n",
       "       'באר שבע והסביבה', 'גליל ועמקים', 'תל אביב', 'מודיעין והסביבה',\n",
       "       'נס ציונה - רחובות', 'רמת השרון - הרצליה', 'עמק יזרעאל',\n",
       "       'מושבים בדרום', 'חולון - בת ים', 'גדרה יבנה והסביבה',\n",
       "       'עכו - נהריה', 'רעננה - כפר סבא', 'אילת והערבה', 'יישובי השומרון',\n",
       "       'הוד השרון והסביבה', 'מושבים בשפלה', 'זכרון - בנימינה',\n",
       "       'טבריה והסביבה', 'אזור צפון', 'קיסריה והסביבה', 'אזור דרום'],\n",
       "      dtype=object)"
      ]
     },
     "execution_count": 36,
     "metadata": {},
     "output_type": "execute_result"
    }
   ],
   "source": [
    "## right now we can't use the \"area\" column as a feature beacause it's of type string.\n",
    "## lets see if we divide this column into dummy variables:\n",
    "df.area.unique()"
   ]
  },
  {
   "cell_type": "code",
   "execution_count": 37,
   "id": "2fc8bc43",
   "metadata": {},
   "outputs": [],
   "source": [
    "#     we can see in the cell above that there is too much diffrent values in \"area\" column\n",
    "#     so we can't divie it to dummiy variables, but we can encode then in label encoding\n",
    "#     in the same column: \"area\" column, using \"LabelEncoder\" lybriy will give each \"area\"\n",
    "#     a number and will use this as a feture"
   ]
  },
  {
   "cell_type": "markdown",
   "id": "7fb2675b-ba39-452a-b6c3-687661aac96a",
   "metadata": {
    "tags": []
   },
   "source": [
    "### Encoding categorical columns so that they could be used in model training."
   ]
  },
  {
   "cell_type": "code",
   "execution_count": 38,
   "id": "d54dcbc3",
   "metadata": {},
   "outputs": [
    {
     "data": {
      "text/html": [
       "<div>\n",
       "<style scoped>\n",
       "    .dataframe tbody tr th:only-of-type {\n",
       "        vertical-align: middle;\n",
       "    }\n",
       "\n",
       "    .dataframe tbody tr th {\n",
       "        vertical-align: top;\n",
       "    }\n",
       "\n",
       "    .dataframe thead th {\n",
       "        text-align: right;\n",
       "    }\n",
       "</style>\n",
       "<table border=\"1\" class=\"dataframe\">\n",
       "  <thead>\n",
       "    <tr style=\"text-align: right;\">\n",
       "      <th></th>\n",
       "      <th>cost</th>\n",
       "      <th>km</th>\n",
       "      <th>year of prudaction</th>\n",
       "      <th>firm</th>\n",
       "      <th>area</th>\n",
       "      <th>tracks</th>\n",
       "      <th>commercial</th>\n",
       "      <th>private</th>\n",
       "    </tr>\n",
       "  </thead>\n",
       "  <tbody>\n",
       "    <tr>\n",
       "      <th>0</th>\n",
       "      <td>24000</td>\n",
       "      <td>167000</td>\n",
       "      <td>2010</td>\n",
       "      <td>139</td>\n",
       "      <td>6</td>\n",
       "      <td>0</td>\n",
       "      <td>0</td>\n",
       "      <td>1</td>\n",
       "    </tr>\n",
       "    <tr>\n",
       "      <th>1</th>\n",
       "      <td>34000</td>\n",
       "      <td>141542</td>\n",
       "      <td>2010</td>\n",
       "      <td>88</td>\n",
       "      <td>13</td>\n",
       "      <td>0</td>\n",
       "      <td>0</td>\n",
       "      <td>1</td>\n",
       "    </tr>\n",
       "    <tr>\n",
       "      <th>2</th>\n",
       "      <td>15900</td>\n",
       "      <td>169000</td>\n",
       "      <td>2007</td>\n",
       "      <td>63</td>\n",
       "      <td>21</td>\n",
       "      <td>0</td>\n",
       "      <td>0</td>\n",
       "      <td>1</td>\n",
       "    </tr>\n",
       "    <tr>\n",
       "      <th>3</th>\n",
       "      <td>10000</td>\n",
       "      <td>180000</td>\n",
       "      <td>2002</td>\n",
       "      <td>66</td>\n",
       "      <td>23</td>\n",
       "      <td>0</td>\n",
       "      <td>0</td>\n",
       "      <td>1</td>\n",
       "    </tr>\n",
       "    <tr>\n",
       "      <th>4</th>\n",
       "      <td>70000</td>\n",
       "      <td>129000</td>\n",
       "      <td>2009</td>\n",
       "      <td>110</td>\n",
       "      <td>13</td>\n",
       "      <td>0</td>\n",
       "      <td>0</td>\n",
       "      <td>1</td>\n",
       "    </tr>\n",
       "  </tbody>\n",
       "</table>\n",
       "</div>"
      ],
      "text/plain": [
       "    cost      km  year of prudaction  firm  area  tracks  commercial  private\n",
       "0  24000  167000                2010   139     6       0           0        1\n",
       "1  34000  141542                2010    88    13       0           0        1\n",
       "2  15900  169000                2007    63    21       0           0        1\n",
       "3  10000  180000                2002    66    23       0           0        1\n",
       "4  70000  129000                2009   110    13       0           0        1"
      ]
     },
     "execution_count": 38,
     "metadata": {},
     "output_type": "execute_result"
    }
   ],
   "source": [
    "from sklearn.preprocessing import LabelEncoder    \n",
    "le = LabelEncoder()  \n",
    "df.area = le.fit_transform(df.area)\n",
    "df.firm = le.fit_transform(df.firm)  # fit the encoder and transform the labels   \n",
    "df.head()"
   ]
  },
  {
   "cell_type": "code",
   "execution_count": 40,
   "id": "47be3bf1-2e1a-46d3-bcd8-13ddfd2b43b1",
   "metadata": {},
   "outputs": [
    {
     "data": {
      "text/plain": [
       "array([ 6, 13, 21, 23, 28,  3,  5, 30, 29, 26, 31, 16, 11, 19,  4,  8, 34,\n",
       "       17, 22, 32, 25, 18, 12,  7, 24, 33,  2, 15,  9, 20, 10, 14,  1, 27,\n",
       "        0])"
      ]
     },
     "execution_count": 40,
     "metadata": {},
     "output_type": "execute_result"
    }
   ],
   "source": [
    "df.area.unique()"
   ]
  },
  {
   "cell_type": "markdown",
   "id": "a6c96d9e",
   "metadata": {
    "jp-MarkdownHeadingCollapsed": true,
    "tags": []
   },
   "source": [
    "## visualizing the data:"
   ]
  },
  {
   "cell_type": "code",
   "execution_count": 41,
   "id": "531a1ee2",
   "metadata": {
    "tags": []
   },
   "outputs": [
    {
     "data": {
      "text/plain": [
       "array([[<AxesSubplot:title={'center':'cost'}>,\n",
       "        <AxesSubplot:title={'center':'km'}>,\n",
       "        <AxesSubplot:title={'center':'year of prudaction'}>],\n",
       "       [<AxesSubplot:title={'center':'firm'}>,\n",
       "        <AxesSubplot:title={'center':'area'}>,\n",
       "        <AxesSubplot:title={'center':'tracks'}>],\n",
       "       [<AxesSubplot:title={'center':'commercial'}>,\n",
       "        <AxesSubplot:title={'center':'private'}>, <AxesSubplot:>]],\n",
       "      dtype=object)"
      ]
     },
     "execution_count": 41,
     "metadata": {},
     "output_type": "execute_result"
    },
    {
     "data": {
      "image/png": "[encoded data removed]",
      "text/plain": [
       "<Figure size 1080x1080 with 9 Axes>"
      ]
     },
     "metadata": {
      "needs_background": "light"
     },
     "output_type": "display_data"
    }
   ],
   "source": [
    "## let's start visulazie the data: \n",
    "df.hist(figsize=(15,15),bins=42)"
   ]
  },
  {
   "cell_type": "code",
   "execution_count": 42,
   "id": "ddbc71ed-79f4-4bdc-b847-da4491d5287c",
   "metadata": {},
   "outputs": [],
   "source": [
    "## we saw that before the removal of the outliers the data distrebution looked really diffrent"
   ]
  },
  {
   "cell_type": "code",
   "execution_count": 43,
   "id": "56fd5e00",
   "metadata": {},
   "outputs": [
    {
     "data": {
      "text/plain": [
       "[<matplotlib.lines.Line2D at 0x17a26618490>]"
      ]
     },
     "execution_count": 43,
     "metadata": {},
     "output_type": "execute_result"
    },
    {
     "data": {
      "image/png": "[encoded data removed]",
      "text/plain": [
       "<Figure size 432x288 with 1 Axes>"
      ]
     },
     "metadata": {
      "needs_background": "light"
     },
     "output_type": "display_data"
    }
   ],
   "source": [
    "## now lets see the connection beatween the features and the target:\n",
    "import matplotlib.pyplot as plt\n",
    "plt.plot(df[\"km\"],df.cost,\"o\")"
   ]
  },
  {
   "cell_type": "code",
   "execution_count": 44,
   "id": "f7cc4be1",
   "metadata": {},
   "outputs": [
    {
     "data": {
      "text/plain": [
       "[<matplotlib.lines.Line2D at 0x17a26140550>]"
      ]
     },
     "execution_count": 44,
     "metadata": {},
     "output_type": "execute_result"
    },
    {
     "data": {
      "image/png": "[encoded data removed]",
      "text/plain": [
       "<Figure size 432x288 with 1 Axes>"
      ]
     },
     "metadata": {
      "needs_background": "light"
     },
     "output_type": "display_data"
    }
   ],
   "source": [
    "plt.plot(df[\"year of prudaction\"],df.cost,\"o\")"
   ]
  },
  {
   "cell_type": "code",
   "execution_count": 45,
   "id": "31788d6c",
   "metadata": {},
   "outputs": [],
   "source": [
    "## it's seems that the relation between the \"year of prudacion\" and the \"cost\" is roghtlly of second power,\n",
    "## and that the relation between \"km\" and \"cost\" is more complcated then a linear relation\n",
    "## so polynomial reggretion should bring better results then linear reggretion.\n",
    "## but we'll also use more advaned techniques as gradient boosting and adaptive boosting."
   ]
  },
  {
   "cell_type": "code",
   "execution_count": 46,
   "id": "2df09978",
   "metadata": {},
   "outputs": [
    {
     "data": {
      "text/html": [
       "<div>\n",
       "<style scoped>\n",
       "    .dataframe tbody tr th:only-of-type {\n",
       "        vertical-align: middle;\n",
       "    }\n",
       "\n",
       "    .dataframe tbody tr th {\n",
       "        vertical-align: top;\n",
       "    }\n",
       "\n",
       "    .dataframe thead th {\n",
       "        text-align: right;\n",
       "    }\n",
       "</style>\n",
       "<table border=\"1\" class=\"dataframe\">\n",
       "  <thead>\n",
       "    <tr style=\"text-align: right;\">\n",
       "      <th></th>\n",
       "      <th>cost</th>\n",
       "      <th>km</th>\n",
       "      <th>year of prudaction</th>\n",
       "      <th>firm</th>\n",
       "      <th>area</th>\n",
       "      <th>tracks</th>\n",
       "      <th>commercial</th>\n",
       "      <th>private</th>\n",
       "    </tr>\n",
       "  </thead>\n",
       "  <tbody>\n",
       "    <tr>\n",
       "      <th>cost</th>\n",
       "      <td>1.000000</td>\n",
       "      <td>-0.336571</td>\n",
       "      <td>0.564274</td>\n",
       "      <td>-0.015568</td>\n",
       "      <td>-0.000019</td>\n",
       "      <td>-0.128075</td>\n",
       "      <td>-0.027057</td>\n",
       "      <td>-0.205690</td>\n",
       "    </tr>\n",
       "    <tr>\n",
       "      <th>km</th>\n",
       "      <td>-0.336571</td>\n",
       "      <td>1.000000</td>\n",
       "      <td>-0.554317</td>\n",
       "      <td>0.005398</td>\n",
       "      <td>0.026548</td>\n",
       "      <td>-0.008485</td>\n",
       "      <td>0.346961</td>\n",
       "      <td>-0.144449</td>\n",
       "    </tr>\n",
       "    <tr>\n",
       "      <th>year of prudaction</th>\n",
       "      <td>0.564274</td>\n",
       "      <td>-0.554317</td>\n",
       "      <td>1.000000</td>\n",
       "      <td>0.107099</td>\n",
       "      <td>0.019016</td>\n",
       "      <td>-0.027272</td>\n",
       "      <td>-0.139800</td>\n",
       "      <td>0.020058</td>\n",
       "    </tr>\n",
       "    <tr>\n",
       "      <th>firm</th>\n",
       "      <td>-0.015568</td>\n",
       "      <td>0.005398</td>\n",
       "      <td>0.107099</td>\n",
       "      <td>1.000000</td>\n",
       "      <td>0.076717</td>\n",
       "      <td>-0.216349</td>\n",
       "      <td>0.151608</td>\n",
       "      <td>0.014893</td>\n",
       "    </tr>\n",
       "    <tr>\n",
       "      <th>area</th>\n",
       "      <td>-0.000019</td>\n",
       "      <td>0.026548</td>\n",
       "      <td>0.019016</td>\n",
       "      <td>0.076717</td>\n",
       "      <td>1.000000</td>\n",
       "      <td>-0.112103</td>\n",
       "      <td>0.067528</td>\n",
       "      <td>0.056838</td>\n",
       "    </tr>\n",
       "    <tr>\n",
       "      <th>tracks</th>\n",
       "      <td>-0.128075</td>\n",
       "      <td>-0.008485</td>\n",
       "      <td>-0.027272</td>\n",
       "      <td>-0.216349</td>\n",
       "      <td>-0.112103</td>\n",
       "      <td>1.000000</td>\n",
       "      <td>-0.192444</td>\n",
       "      <td>-0.232869</td>\n",
       "    </tr>\n",
       "    <tr>\n",
       "      <th>commercial</th>\n",
       "      <td>-0.027057</td>\n",
       "      <td>0.346961</td>\n",
       "      <td>-0.139800</td>\n",
       "      <td>0.151608</td>\n",
       "      <td>0.067528</td>\n",
       "      <td>-0.192444</td>\n",
       "      <td>1.000000</td>\n",
       "      <td>-0.429183</td>\n",
       "    </tr>\n",
       "    <tr>\n",
       "      <th>private</th>\n",
       "      <td>-0.205690</td>\n",
       "      <td>-0.144449</td>\n",
       "      <td>0.020058</td>\n",
       "      <td>0.014893</td>\n",
       "      <td>0.056838</td>\n",
       "      <td>-0.232869</td>\n",
       "      <td>-0.429183</td>\n",
       "      <td>1.000000</td>\n",
       "    </tr>\n",
       "  </tbody>\n",
       "</table>\n",
       "</div>"
      ],
      "text/plain": [
       "                        cost        km  year of prudaction      firm  \\\n",
       "cost                1.000000 -0.336571            0.564274 -0.015568   \n",
       "km                 -0.336571  1.000000           -0.554317  0.005398   \n",
       "year of prudaction  0.564274 -0.554317            1.000000  0.107099   \n",
       "firm               -0.015568  0.005398            0.107099  1.000000   \n",
       "area               -0.000019  0.026548            0.019016  0.076717   \n",
       "tracks             -0.128075 -0.008485           -0.027272 -0.216349   \n",
       "commercial         -0.027057  0.346961           -0.139800  0.151608   \n",
       "private            -0.205690 -0.144449            0.020058  0.014893   \n",
       "\n",
       "                        area    tracks  commercial   private  \n",
       "cost               -0.000019 -0.128075   -0.027057 -0.205690  \n",
       "km                  0.026548 -0.008485    0.346961 -0.144449  \n",
       "year of prudaction  0.019016 -0.027272   -0.139800  0.020058  \n",
       "firm                0.076717 -0.216349    0.151608  0.014893  \n",
       "area                1.000000 -0.112103    0.067528  0.056838  \n",
       "tracks             -0.112103  1.000000   -0.192444 -0.232869  \n",
       "commercial          0.067528 -0.192444    1.000000 -0.429183  \n",
       "private             0.056838 -0.232869   -0.429183  1.000000  "
      ]
     },
     "execution_count": 46,
     "metadata": {},
     "output_type": "execute_result"
    }
   ],
   "source": [
    "df.corr() "
   ]
  },
  {
   "cell_type": "markdown",
   "id": "fd4e2c33",
   "metadata": {},
   "source": [
    "### After checking correlation matrix, we realised that 'year of prudaction' is our best feature, as it has the highest correlation score among all features."
   ]
  },
  {
   "cell_type": "code",
   "execution_count": 47,
   "id": "0af8ad29-716a-4a56-928f-de6cffe757ed",
   "metadata": {},
   "outputs": [],
   "source": [
    "# df.to_csv(\"data/new_saved_data.csv\")"
   ]
  },
  {
   "cell_type": "markdown",
   "id": "4438f2d8",
   "metadata": {
    "jp-MarkdownHeadingCollapsed": true,
    "tags": []
   },
   "source": [
    "## Finding the best model:"
   ]
  },
  {
   "cell_type": "code",
   "execution_count": 102,
   "id": "f28da581-8572-47b5-b2bb-792342275174",
   "metadata": {},
   "outputs": [
    {
     "name": "stdout",
     "output_type": "stream",
     "text": [
      "(548, 8)\n"
     ]
    },
    {
     "data": {
      "text/html": [
       "<div>\n",
       "<style scoped>\n",
       "    .dataframe tbody tr th:only-of-type {\n",
       "        vertical-align: middle;\n",
       "    }\n",
       "\n",
       "    .dataframe tbody tr th {\n",
       "        vertical-align: top;\n",
       "    }\n",
       "\n",
       "    .dataframe thead th {\n",
       "        text-align: right;\n",
       "    }\n",
       "</style>\n",
       "<table border=\"1\" class=\"dataframe\">\n",
       "  <thead>\n",
       "    <tr style=\"text-align: right;\">\n",
       "      <th></th>\n",
       "      <th>firm</th>\n",
       "      <th>area</th>\n",
       "      <th>km</th>\n",
       "      <th>cost</th>\n",
       "      <th>year of prudaction</th>\n",
       "      <th>tracks</th>\n",
       "      <th>commercial</th>\n",
       "      <th>private</th>\n",
       "    </tr>\n",
       "  </thead>\n",
       "  <tbody>\n",
       "    <tr>\n",
       "      <th>0</th>\n",
       "      <td>65</td>\n",
       "      <td>23</td>\n",
       "      <td>180000</td>\n",
       "      <td>10000</td>\n",
       "      <td>2002</td>\n",
       "      <td>0</td>\n",
       "      <td>0</td>\n",
       "      <td>1</td>\n",
       "    </tr>\n",
       "    <tr>\n",
       "      <th>1</th>\n",
       "      <td>109</td>\n",
       "      <td>13</td>\n",
       "      <td>129000</td>\n",
       "      <td>70000</td>\n",
       "      <td>2009</td>\n",
       "      <td>0</td>\n",
       "      <td>0</td>\n",
       "      <td>1</td>\n",
       "    </tr>\n",
       "  </tbody>\n",
       "</table>\n",
       "</div>"
      ],
      "text/plain": [
       "   firm  area      km   cost  year of prudaction  tracks  commercial  private\n",
       "0    65    23  180000  10000                2002       0           0        1\n",
       "1   109    13  129000  70000                2009       0           0        1"
      ]
     },
     "execution_count": 102,
     "metadata": {},
     "output_type": "execute_result"
    }
   ],
   "source": [
    "## note that we saved the model erlier:\n",
    "df = pd.read_csv(\"data/saved_data_after_cleaning.csv\").iloc[:,1:]\n",
    "print(df.shape)\n",
    "df.head(2)"
   ]
  },
  {
   "cell_type": "code",
   "execution_count": 103,
   "id": "14863325",
   "metadata": {},
   "outputs": [],
   "source": [
    "## spliting data into taget and features:\n",
    "X = df.drop(['cost'], axis = 1) \n",
    "y = df.cost "
   ]
  },
  {
   "cell_type": "markdown",
   "id": "21f3c9d4",
   "metadata": {
    "tags": []
   },
   "source": [
    "### Applying Linear Regression method and checking the score we get"
   ]
  },
  {
   "cell_type": "code",
   "execution_count": 104,
   "id": "432f5950",
   "metadata": {},
   "outputs": [
    {
     "name": "stdout",
     "output_type": "stream",
     "text": [
      "Root Mean squared error (test): 33962.29953731215\n",
      "Mean absolute error (test): 25532.528660988013\n",
      "R2: 0.486518115354019\n"
     ]
    }
   ],
   "source": [
    "## training linear reggretion model:  \n",
    "X_train, X_test, y_train, y_test = train_test_split(X,y,random_state=1)\n",
    "linreg = LinearRegression().fit(X_train,y_train)\n",
    "y_pred = linreg.predict(X_test)\n",
    "show_regresion_error(y_test,y_pred)\n",
    "\n",
    "normal_linreg_r2 = r2_score(y_test,y_pred)\n",
    "# 2.5 seconds to run"
   ]
  },
  {
   "cell_type": "markdown",
   "id": "148e4ba6",
   "metadata": {},
   "source": [
    "### Applying Random Forest Regressor method and checking the score we get"
   ]
  },
  {
   "cell_type": "code",
   "execution_count": 105,
   "id": "0438a367",
   "metadata": {},
   "outputs": [
    {
     "name": "stdout",
     "output_type": "stream",
     "text": [
      "Accuracy of Rf:65.20944298303309%\n"
     ]
    }
   ],
   "source": [
    "from sklearn.ensemble import RandomForestRegressor   # 1.3 seconds\n",
    "rf = RandomForestRegressor()   \n",
    "rf.fit(X_train,y_train)   \n",
    "rf_pred = rf.predict(X_test)     \n",
    "print(f'Accuracy of Rf:{r2_score(y_test,rf_pred)*100}%')\n"
   ]
  },
  {
   "cell_type": "markdown",
   "id": "130ab735",
   "metadata": {
    "tags": []
   },
   "source": [
    "### Applying Gradient Boosting Regressor method and checking the score we get"
   ]
  },
  {
   "cell_type": "code",
   "execution_count": 106,
   "id": "1cc544b0",
   "metadata": {},
   "outputs": [
    {
     "name": "stdout",
     "output_type": "stream",
     "text": [
      "Accuracy of GBR:68.65813692966327%\n"
     ]
    }
   ],
   "source": [
    "from sklearn.ensemble import GradientBoostingRegressor   # 0.6 seconds\n",
    "gbr = GradientBoostingRegressor()\n",
    "gbr.fit(X_train,y_train)   \n",
    "gbr_pred = gbr.predict(X_test)  \n",
    "print(f'Accuracy of GBR:{r2_score(y_test,gbr_pred)*100}%') "
   ]
  },
  {
   "cell_type": "markdown",
   "id": "3d71bc40",
   "metadata": {},
   "source": [
    "### Applying XGBoost Regressor method and checking the score we get"
   ]
  },
  {
   "cell_type": "code",
   "execution_count": 107,
   "id": "23b5902c",
   "metadata": {},
   "outputs": [
    {
     "name": "stdout",
     "output_type": "stream",
     "text": [
      "Accuracy of XGB:68.55099974894785%\n"
     ]
    }
   ],
   "source": [
    "from xgboost import XGBRegressor  # 2.4 seconds\n",
    "xgb = XGBRegressor()  \n",
    "xgb.fit(X_train,y_train)   \n",
    "xgb_pred = xgb.predict(X_test)  \n",
    "print(f'Accuracy of XGB:{r2_score(y_test,xgb_pred)*100}%') "
   ]
  },
  {
   "cell_type": "markdown",
   "id": "a8a6b0a7",
   "metadata": {},
   "source": [
    "### Applying Ada-boost Regressor method and checking the score we get"
   ]
  },
  {
   "cell_type": "code",
   "execution_count": 108,
   "id": "7bfbe7e7",
   "metadata": {},
   "outputs": [
    {
     "name": "stdout",
     "output_type": "stream",
     "text": [
      "Accuracy of ABR:47.98875791102196%\n"
     ]
    }
   ],
   "source": [
    "from sklearn.ensemble import AdaBoostRegressor  # 0.4 seconds\n",
    "abr = AdaBoostRegressor()\n",
    "abr.fit(X_train,y_train)\n",
    "abr_pred = abr.predict(X_test)  \n",
    "print(f'Accuracy of ABR:{r2_score(y_test,abr_pred)*100}%') "
   ]
  },
  {
   "cell_type": "markdown",
   "id": "b4754a3e",
   "metadata": {},
   "source": [
    "### Applying Voting Regressor method and checking the score we get"
   ]
  },
  {
   "cell_type": "code",
   "execution_count": 109,
   "id": "155384fa",
   "metadata": {},
   "outputs": [
    {
     "name": "stdout",
     "output_type": "stream",
     "text": [
      "Accuracy of VR:68.13405716069668%\n"
     ]
    }
   ],
   "source": [
    "from sklearn.ensemble import VotingRegressor  \n",
    "vr = VotingRegressor(estimators=[('lr', linreg), ('rf', rf), ('gbr', gbr), ('xgb', xgb), ('abr', abr)])\n",
    "vr.fit(X_train,y_train)\n",
    "vr_pred = vr.predict(X_test)\n",
    "print(f'Accuracy of VR:{r2_score(y_test,vr_pred)*100}%')  "
   ]
  },
  {
   "cell_type": "markdown",
   "id": "119b6fb1",
   "metadata": {},
   "source": [
    "### Applying Stacking Regressor method and checking the score we get"
   ]
  },
  {
   "cell_type": "code",
   "execution_count": 110,
   "id": "09fd00a2",
   "metadata": {},
   "outputs": [
    {
     "name": "stdout",
     "output_type": "stream",
     "text": [
      "Accuracy of SR:70.67497350109963%\n"
     ]
    }
   ],
   "source": [
    "from sklearn.ensemble import StackingRegressor  #7.9 seconds\n",
    "sr = StackingRegressor(estimators=[('lr', linreg), ('rf', rf), ('gbr', gbr), ('xgb', xgb), ('abr', abr)])\n",
    "                            \n",
    "sr.fit(X_train,y_train)  \n",
    "sr_pred = sr.predict(X_test)\n",
    "print(f'Accuracy of SR:{r2_score(y_test,sr_pred)*100}%')  \n",
    "\n"
   ]
  },
  {
   "cell_type": "code",
   "execution_count": 113,
   "id": "18f6d48d-c452-49a9-b445-93716e420966",
   "metadata": {},
   "outputs": [],
   "source": [
    "## saving the stacking regressor scores:\n",
    "sr_regression_error = regresion_error(y_test,sr_pred)"
   ]
  },
  {
   "cell_type": "code",
   "execution_count": 114,
   "id": "71afe51b",
   "metadata": {},
   "outputs": [
    {
     "name": "stdout",
     "output_type": "stream",
     "text": [
      "[0.2665506589920639, 2, False, False, True]\n"
     ]
    }
   ],
   "source": [
    "## finding the best polynomial regression:\n",
    "## takes up to 20 seconds\n",
    "b_grade = poly_gridsearch_r2(X,y)\n",
    "print(b_grade)\n",
    "normal_poly_r2_ave = b_grade[0]"
   ]
  },
  {
   "cell_type": "code",
   "execution_count": 115,
   "id": "38a033f3",
   "metadata": {},
   "outputs": [
    {
     "name": "stdout",
     "output_type": "stream",
     "text": [
      "Root Mean squared error (test): 31149.013223557162\n",
      "Mean absolute error (test): 22250.601228840158\n",
      "R2: 0.5680638661291904\n"
     ]
    }
   ],
   "source": [
    "## implementing the best polynomial regretion.\n",
    "pre_process = PolynomialFeatures(degree=b_grade[1],include_bias=b_grade[2],interaction_only=b_grade[3])\n",
    "X_poly = pre_process.fit_transform(X)\n",
    "X_train, X_test, y_train, y_test = train_test_split(X_poly,y,random_state=1)\n",
    "\n",
    "linreg = LinearRegression(fit_intercept=b_grade[4])\n",
    "linreg.fit(X_train,y_train)\n",
    "y_pred = linreg.predict(X_test)  \n",
    "show_regresion_error(y_test,y_pred)\n",
    "\n",
    "best_poly_regresion_error = regresion_error(y_test,y_pred)"
   ]
  },
  {
   "cell_type": "markdown",
   "id": "bb240719-568b-4b90-ac83-00e44b20e7b0",
   "metadata": {
    "jp-MarkdownHeadingCollapsed": true,
    "tags": []
   },
   "source": [
    "## compering to \"zero model\" and summary:"
   ]
  },
  {
   "cell_type": "markdown",
   "id": "a35264d4-0c58-41ab-8578-fe8b0b9ca105",
   "metadata": {
    "tags": []
   },
   "source": [
    "### to sum up we made a model that uses little information about vehicles (\"km\",\"year of prudaction\",\"area\",\"model\") and made much more accurate model then the last one beacause we saw some pattern in the naming of the models of the cars and used the \"area\" as a feature. we managed to evoid feature overfiting and made better models then the last project with ensamble techniques."
   ]
  },
  {
   "cell_type": "code",
   "execution_count": 116,
   "id": "8a060ced",
   "metadata": {},
   "outputs": [
    {
     "name": "stdout",
     "output_type": "stream",
     "text": [
      "optimized poly regression:\n",
      "Root Mean squared error (test): 31149.013223557162\n",
      "Mean absolute error (test): 22250.601228840158\n",
      "R2: 0.5680638661291904\n",
      "\n",
      "stacking regressor:\n",
      "Root Mean squared error (test): 25665.736507709174\n",
      "Mean absolute error (test): 18390.02448985094\n",
      "R2: 0.7067497350109964\n",
      "\n",
      "*zero model* rmse:  46874.19385669495\n",
      "*zero model* mae: 38634.94391683095\n"
     ]
    }
   ],
   "source": [
    "## showing the end results:\n",
    "print(\"optimized poly regression:\")\n",
    "show_regresion_error_tuple(best_poly_regresion_error)\n",
    "print()\n",
    "print(\"stacking regressor:\")\n",
    "show_regresion_error_tuple(sr_regression_error)\n",
    "print()\n",
    "zero_model(df,y,\"mean\")"
   ]
  }
 ],
 "metadata": {
  "celltoolbar": "Edit Metadata",
  "kernelspec": {
   "display_name": "Python 3 (ipykernel)",
   "language": "python",
   "name": "python3"
  },
  "language_info": {
   "codemirror_mode": {
    "name": "ipython",
    "version": 3
   },
   "file_extension": ".py",
   "mimetype": "text/x-python",
   "name": "python",
   "nbconvert_exporter": "python",
   "pygments_lexer": "ipython3",
   "version": "3.9.7"
  },
  "vscode": {
   "interpreter": {
    "hash": "7b416c2d66c1a5137cd62d6d13406ca3791127b98c2ab7751c9f9871dab6492b"
   }
  },
  "widgets": {
   "application/vnd.jupyter.widget-state+json": {
    "state": {},
    "version_major": 2,
    "version_minor": 0
   }
  }
 },
 "nbformat": 4,
 "nbformat_minor": 5
}
